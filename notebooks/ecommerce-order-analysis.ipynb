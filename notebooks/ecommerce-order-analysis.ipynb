{
 "cells": [
  {
   "cell_type": "markdown",
   "metadata": {},
   "source": [
    "# 🛍 Ecommerce Order Analysis\n",
    "\n",
    "### Author: Aston Crawley"
   ]
  },
  {
   "cell_type": "code",
   "execution_count": 1,
   "metadata": {},
   "outputs": [],
   "source": [
    "import os\n",
    "import pandas as pd\n",
    "import numpy as np\n",
    "import matplotlib.pyplot as plt\n",
    "import seaborn as sns"
   ]
  },
  {
   "cell_type": "code",
   "execution_count": 2,
   "metadata": {},
   "outputs": [],
   "source": [
    "import pyarrow"
   ]
  },
  {
   "cell_type": "code",
   "execution_count": 3,
   "metadata": {},
   "outputs": [
    {
     "data": {
      "application/vnd.microsoft.datawrangler.viewer.v0+json": {
       "columns": [
        {
         "name": "index",
         "rawType": "int64",
         "type": "integer"
        },
        {
         "name": "Order ID",
         "rawType": "object",
         "type": "unknown"
        },
        {
         "name": "Product",
         "rawType": "object",
         "type": "unknown"
        },
        {
         "name": "Quantity Ordered",
         "rawType": "object",
         "type": "unknown"
        },
        {
         "name": "Price Each",
         "rawType": "object",
         "type": "unknown"
        },
        {
         "name": "Order Date",
         "rawType": "object",
         "type": "unknown"
        },
        {
         "name": "Purchase Address",
         "rawType": "object",
         "type": "unknown"
        }
       ],
       "ref": "a3a52a81-e3e6-4999-ab9a-942dd2194640",
       "rows": [
        [
         "0",
         "176558",
         "USB-C Charging Cable",
         "2",
         "11.95",
         "04/19/19 08:46",
         "917 1st St, Dallas, TX 75001"
        ],
        [
         "1",
         null,
         null,
         null,
         null,
         null,
         null
        ],
        [
         "2",
         "176559",
         "Bose SoundSport Headphones",
         "1",
         "99.99",
         "04/07/19 22:30",
         "682 Chestnut St, Boston, MA 02215"
        ],
        [
         "3",
         "176560",
         "Google Phone",
         "1",
         "600",
         "04/12/19 14:38",
         "669 Spruce St, Los Angeles, CA 90001"
        ],
        [
         "4",
         "176560",
         "Wired Headphones",
         "1",
         "11.99",
         "04/12/19 14:38",
         "669 Spruce St, Los Angeles, CA 90001"
        ],
        [
         "5",
         "176561",
         "Wired Headphones",
         "1",
         "11.99",
         "04/30/19 09:27",
         "333 8th St, Los Angeles, CA 90001"
        ],
        [
         "6",
         "176562",
         "USB-C Charging Cable",
         "1",
         "11.95",
         "04/29/19 13:03",
         "381 Wilson St, San Francisco, CA 94016"
        ],
        [
         "7",
         "176563",
         "Bose SoundSport Headphones",
         "1",
         "99.99",
         "04/02/19 07:46",
         "668 Center St, Seattle, WA 98101"
        ],
        [
         "8",
         "176564",
         "USB-C Charging Cable",
         "1",
         "11.95",
         "04/12/19 10:58",
         "790 Ridge St, Atlanta, GA 30301"
        ],
        [
         "9",
         "176565",
         "Macbook Pro Laptop",
         "1",
         "1700",
         "04/24/19 10:38",
         "915 Willow St, San Francisco, CA 94016"
        ],
        [
         "10",
         "176566",
         "Wired Headphones",
         "1",
         "11.99",
         "04/08/19 14:05",
         "83 7th St, Boston, MA 02215"
        ],
        [
         "11",
         "176567",
         "Google Phone",
         "1",
         "600",
         "04/18/19 17:18",
         "444 7th St, Los Angeles, CA 90001"
        ],
        [
         "12",
         "176568",
         "Lightning Charging Cable",
         "1",
         "14.95",
         "04/15/19 12:18",
         "438 Elm St, Seattle, WA 98101"
        ],
        [
         "13",
         "176569",
         "27in 4K Gaming Monitor",
         "1",
         "389.99",
         "04/16/19 19:23",
         "657 Hill St, Dallas, TX 75001"
        ],
        [
         "14",
         "176570",
         "AA Batteries (4-pack)",
         "1",
         "3.84",
         "04/22/19 15:09",
         "186 12th St, Dallas, TX 75001"
        ],
        [
         "15",
         "176571",
         "Lightning Charging Cable",
         "1",
         "14.95",
         "04/19/19 14:29",
         "253 Johnson St, Atlanta, GA 30301"
        ],
        [
         "16",
         "176572",
         "Apple Airpods Headphones",
         "1",
         "150",
         "04/04/19 20:30",
         "149 Dogwood St, New York City, NY 10001"
        ],
        [
         "17",
         "176573",
         "USB-C Charging Cable",
         "1",
         "11.95",
         "04/27/19 18:41",
         "214 Chestnut St, San Francisco, CA 94016"
        ],
        [
         "18",
         "176574",
         "Google Phone",
         "1",
         "600",
         "04/03/19 19:42",
         "20 Hill St, Los Angeles, CA 90001"
        ],
        [
         "19",
         "176574",
         "USB-C Charging Cable",
         "1",
         "11.95",
         "04/03/19 19:42",
         "20 Hill St, Los Angeles, CA 90001"
        ],
        [
         "20",
         "176575",
         "AAA Batteries (4-pack)",
         "1",
         "2.99",
         "04/27/19 00:30",
         "433 Hill St, New York City, NY 10001"
        ],
        [
         "21",
         "176576",
         "Apple Airpods Headphones",
         "1",
         "150",
         "04/28/19 11:42",
         "771 Ridge St, Los Angeles, CA 90001"
        ],
        [
         "22",
         "176577",
         "Apple Airpods Headphones",
         "1",
         "150",
         "04/04/19 19:25",
         "260 Spruce St, Dallas, TX 75001"
        ],
        [
         "23",
         "176578",
         "Apple Airpods Headphones",
         "1",
         "150",
         "04/09/19 23:35",
         "513 Church St, Boston, MA 02215"
        ],
        [
         "24",
         "176579",
         "AA Batteries (4-pack)",
         "1",
         "3.84",
         "04/11/19 10:23",
         "886 Jefferson St, New York City, NY 10001"
        ],
        [
         "25",
         "176580",
         "USB-C Charging Cable",
         "1",
         "11.95",
         "04/05/19 00:35",
         "886 Willow St, Los Angeles, CA 90001"
        ],
        [
         "26",
         "176581",
         "iPhone",
         "1",
         "700",
         "04/09/19 21:38",
         "84 Jackson St, Boston, MA 02215"
        ],
        [
         "27",
         "176582",
         "Bose SoundSport Headphones",
         "1",
         "99.99",
         "04/27/19 12:20",
         "178 Lincoln St, Atlanta, GA 30301"
        ],
        [
         "28",
         "176583",
         "AAA Batteries (4-pack)",
         "2",
         "2.99",
         "04/20/19 12:00",
         "146 Jackson St, Portland, OR 97035"
        ],
        [
         "29",
         "176584",
         "Flatscreen TV",
         "1",
         "300",
         "04/24/19 20:39",
         "936 Church St, San Francisco, CA 94016"
        ],
        [
         "30",
         "176585",
         "Bose SoundSport Headphones",
         "1",
         "99.99",
         "04/07/19 11:31",
         "823 Highland St, Boston, MA 02215"
        ],
        [
         "31",
         "176585",
         "Bose SoundSport Headphones",
         "1",
         "99.99",
         "04/07/19 11:31",
         "823 Highland St, Boston, MA 02215"
        ],
        [
         "32",
         "176586",
         "AAA Batteries (4-pack)",
         "2",
         "2.99",
         "04/10/19 17:00",
         "365 Center St, San Francisco, CA 94016"
        ],
        [
         "33",
         "176586",
         "Google Phone",
         "1",
         "600",
         "04/10/19 17:00",
         "365 Center St, San Francisco, CA 94016"
        ],
        [
         "34",
         "176587",
         "27in FHD Monitor",
         "1",
         "149.99",
         "04/29/19 19:38",
         "557 5th St, Los Angeles, CA 90001"
        ],
        [
         "35",
         "176588",
         "20in Monitor",
         "1",
         "109.99",
         "04/02/19 04:00",
         "765 Cherry St, Seattle, WA 98101"
        ],
        [
         "36",
         "176589",
         "Lightning Charging Cable",
         "1",
         "14.95",
         "04/04/19 12:23",
         "846 Highland St, Atlanta, GA 30301"
        ],
        [
         "37",
         "176590",
         "Google Phone",
         "1",
         "600",
         "04/11/19 11:46",
         "873 6th St, New York City, NY 10001"
        ],
        [
         "38",
         "176591",
         "Apple Airpods Headphones",
         "1",
         "150",
         "04/21/19 07:21",
         "600 Maple St, Austin, TX 73301"
        ],
        [
         "39",
         "176592",
         "USB-C Charging Cable",
         "1",
         "11.95",
         "04/27/19 13:04",
         "352 4th St, Los Angeles, CA 90001"
        ],
        [
         "40",
         "176593",
         "Lightning Charging Cable",
         "2",
         "14.95",
         "04/15/19 13:45",
         "906 7th St, Portland, OR 97035"
        ],
        [
         "41",
         "176594",
         "Wired Headphones",
         "1",
         "11.99",
         "04/17/19 23:04",
         "63 Maple St, San Francisco, CA 94016"
        ],
        [
         "42",
         "176595",
         "Wired Headphones",
         "3",
         "11.99",
         "04/02/19 09:11",
         "383 6th St, Los Angeles, CA 90001"
        ],
        [
         "43",
         "176596",
         "Apple Airpods Headphones",
         "1",
         "150",
         "04/27/19 20:11",
         "572 Meadow St, Dallas, TX 75001"
        ],
        [
         "44",
         "176597",
         "USB-C Charging Cable",
         "1",
         "11.95",
         "04/19/19 13:39",
         "681 11th St, San Francisco, CA 94016"
        ],
        [
         "45",
         "176598",
         "AAA Batteries (4-pack)",
         "2",
         "2.99",
         "04/21/19 20:33",
         "294 Park St, San Francisco, CA 94016"
        ],
        [
         "46",
         "176599",
         "Lightning Charging Cable",
         "1",
         "14.95",
         "04/11/19 15:25",
         "279 Maple St, New York City, NY 10001"
        ],
        [
         "47",
         "176600",
         "27in 4K Gaming Monitor",
         "1",
         "389.99",
         "04/30/19 15:54",
         "87 West St, Boston, MA 02215"
        ],
        [
         "48",
         "176601",
         "USB-C Charging Cable",
         "1",
         "11.95",
         "04/02/19 22:32",
         "754 10th St, Los Angeles, CA 90001"
        ],
        [
         "49",
         "176602",
         "Lightning Charging Cable",
         "1",
         "14.95",
         "04/30/19 09:39",
         "9 Jefferson St, Dallas, TX 75001"
        ]
       ],
       "shape": {
        "columns": 6,
        "rows": 186850
       }
      },
      "text/html": [
       "<div>\n",
       "<style scoped>\n",
       "    .dataframe tbody tr th:only-of-type {\n",
       "        vertical-align: middle;\n",
       "    }\n",
       "\n",
       "    .dataframe tbody tr th {\n",
       "        vertical-align: top;\n",
       "    }\n",
       "\n",
       "    .dataframe thead th {\n",
       "        text-align: right;\n",
       "    }\n",
       "</style>\n",
       "<table border=\"1\" class=\"dataframe\">\n",
       "  <thead>\n",
       "    <tr style=\"text-align: right;\">\n",
       "      <th></th>\n",
       "      <th>Order ID</th>\n",
       "      <th>Product</th>\n",
       "      <th>Quantity Ordered</th>\n",
       "      <th>Price Each</th>\n",
       "      <th>Order Date</th>\n",
       "      <th>Purchase Address</th>\n",
       "    </tr>\n",
       "  </thead>\n",
       "  <tbody>\n",
       "    <tr>\n",
       "      <th>0</th>\n",
       "      <td>176558</td>\n",
       "      <td>USB-C Charging Cable</td>\n",
       "      <td>2</td>\n",
       "      <td>11.95</td>\n",
       "      <td>04/19/19 08:46</td>\n",
       "      <td>917 1st St, Dallas, TX 75001</td>\n",
       "    </tr>\n",
       "    <tr>\n",
       "      <th>1</th>\n",
       "      <td>None</td>\n",
       "      <td>None</td>\n",
       "      <td>None</td>\n",
       "      <td>None</td>\n",
       "      <td>None</td>\n",
       "      <td>None</td>\n",
       "    </tr>\n",
       "    <tr>\n",
       "      <th>2</th>\n",
       "      <td>176559</td>\n",
       "      <td>Bose SoundSport Headphones</td>\n",
       "      <td>1</td>\n",
       "      <td>99.99</td>\n",
       "      <td>04/07/19 22:30</td>\n",
       "      <td>682 Chestnut St, Boston, MA 02215</td>\n",
       "    </tr>\n",
       "    <tr>\n",
       "      <th>3</th>\n",
       "      <td>176560</td>\n",
       "      <td>Google Phone</td>\n",
       "      <td>1</td>\n",
       "      <td>600</td>\n",
       "      <td>04/12/19 14:38</td>\n",
       "      <td>669 Spruce St, Los Angeles, CA 90001</td>\n",
       "    </tr>\n",
       "    <tr>\n",
       "      <th>4</th>\n",
       "      <td>176560</td>\n",
       "      <td>Wired Headphones</td>\n",
       "      <td>1</td>\n",
       "      <td>11.99</td>\n",
       "      <td>04/12/19 14:38</td>\n",
       "      <td>669 Spruce St, Los Angeles, CA 90001</td>\n",
       "    </tr>\n",
       "    <tr>\n",
       "      <th>...</th>\n",
       "      <td>...</td>\n",
       "      <td>...</td>\n",
       "      <td>...</td>\n",
       "      <td>...</td>\n",
       "      <td>...</td>\n",
       "      <td>...</td>\n",
       "    </tr>\n",
       "    <tr>\n",
       "      <th>186845</th>\n",
       "      <td>259353</td>\n",
       "      <td>AAA Batteries (4-pack)</td>\n",
       "      <td>3</td>\n",
       "      <td>2.99</td>\n",
       "      <td>09/17/19 20:56</td>\n",
       "      <td>840 Highland St, Los Angeles, CA 90001</td>\n",
       "    </tr>\n",
       "    <tr>\n",
       "      <th>186846</th>\n",
       "      <td>259354</td>\n",
       "      <td>iPhone</td>\n",
       "      <td>1</td>\n",
       "      <td>700</td>\n",
       "      <td>09/01/19 16:00</td>\n",
       "      <td>216 Dogwood St, San Francisco, CA 94016</td>\n",
       "    </tr>\n",
       "    <tr>\n",
       "      <th>186847</th>\n",
       "      <td>259355</td>\n",
       "      <td>iPhone</td>\n",
       "      <td>1</td>\n",
       "      <td>700</td>\n",
       "      <td>09/23/19 07:39</td>\n",
       "      <td>220 12th St, San Francisco, CA 94016</td>\n",
       "    </tr>\n",
       "    <tr>\n",
       "      <th>186848</th>\n",
       "      <td>259356</td>\n",
       "      <td>34in Ultrawide Monitor</td>\n",
       "      <td>1</td>\n",
       "      <td>379.99</td>\n",
       "      <td>09/19/19 17:30</td>\n",
       "      <td>511 Forest St, San Francisco, CA 94016</td>\n",
       "    </tr>\n",
       "    <tr>\n",
       "      <th>186849</th>\n",
       "      <td>259357</td>\n",
       "      <td>USB-C Charging Cable</td>\n",
       "      <td>1</td>\n",
       "      <td>11.95</td>\n",
       "      <td>09/30/19 00:18</td>\n",
       "      <td>250 Meadow St, San Francisco, CA 94016</td>\n",
       "    </tr>\n",
       "  </tbody>\n",
       "</table>\n",
       "<p>186850 rows × 6 columns</p>\n",
       "</div>"
      ],
      "text/plain": [
       "       Order ID                     Product Quantity Ordered Price Each  \\\n",
       "0        176558        USB-C Charging Cable                2      11.95   \n",
       "1          None                        None             None       None   \n",
       "2        176559  Bose SoundSport Headphones                1      99.99   \n",
       "3        176560                Google Phone                1        600   \n",
       "4        176560            Wired Headphones                1      11.99   \n",
       "...         ...                         ...              ...        ...   \n",
       "186845   259353      AAA Batteries (4-pack)                3       2.99   \n",
       "186846   259354                      iPhone                1        700   \n",
       "186847   259355                      iPhone                1        700   \n",
       "186848   259356      34in Ultrawide Monitor                1     379.99   \n",
       "186849   259357        USB-C Charging Cable                1      11.95   \n",
       "\n",
       "            Order Date                         Purchase Address  \n",
       "0       04/19/19 08:46             917 1st St, Dallas, TX 75001  \n",
       "1                 None                                     None  \n",
       "2       04/07/19 22:30        682 Chestnut St, Boston, MA 02215  \n",
       "3       04/12/19 14:38     669 Spruce St, Los Angeles, CA 90001  \n",
       "4       04/12/19 14:38     669 Spruce St, Los Angeles, CA 90001  \n",
       "...                ...                                      ...  \n",
       "186845  09/17/19 20:56   840 Highland St, Los Angeles, CA 90001  \n",
       "186846  09/01/19 16:00  216 Dogwood St, San Francisco, CA 94016  \n",
       "186847  09/23/19 07:39     220 12th St, San Francisco, CA 94016  \n",
       "186848  09/19/19 17:30   511 Forest St, San Francisco, CA 94016  \n",
       "186849  09/30/19 00:18   250 Meadow St, San Francisco, CA 94016  \n",
       "\n",
       "[186850 rows x 6 columns]"
      ]
     },
     "execution_count": 3,
     "metadata": {},
     "output_type": "execute_result"
    }
   ],
   "source": [
    "all_data = pd.read_feather(os.path.join(\"..\", \"data\", \"Sales_data.ftr\"))\n",
    "all_data"
   ]
  },
  {
   "cell_type": "code",
   "execution_count": 4,
   "metadata": {},
   "outputs": [
    {
     "data": {
      "application/vnd.microsoft.datawrangler.viewer.v0+json": {
       "columns": [
        {
         "name": "index",
         "rawType": "object",
         "type": "string"
        },
        {
         "name": "0",
         "rawType": "int64",
         "type": "integer"
        }
       ],
       "ref": "9c2e61eb-73b8-48c7-aa8a-8834a5291d73",
       "rows": [
        [
         "Order ID",
         "545"
        ],
        [
         "Product",
         "545"
        ],
        [
         "Quantity Ordered",
         "545"
        ],
        [
         "Price Each",
         "545"
        ],
        [
         "Order Date",
         "545"
        ],
        [
         "Purchase Address",
         "545"
        ]
       ],
       "shape": {
        "columns": 1,
        "rows": 6
       }
      },
      "text/plain": [
       "Order ID            545\n",
       "Product             545\n",
       "Quantity Ordered    545\n",
       "Price Each          545\n",
       "Order Date          545\n",
       "Purchase Address    545\n",
       "dtype: int64"
      ]
     },
     "execution_count": 4,
     "metadata": {},
     "output_type": "execute_result"
    }
   ],
   "source": [
    "all_data.isnull().sum()"
   ]
  },
  {
   "cell_type": "code",
   "execution_count": 5,
   "metadata": {},
   "outputs": [
    {
     "data": {
      "application/vnd.microsoft.datawrangler.viewer.v0+json": {
       "columns": [
        {
         "name": "index",
         "rawType": "object",
         "type": "string"
        },
        {
         "name": "0",
         "rawType": "int64",
         "type": "integer"
        }
       ],
       "ref": "73b7936d-1c66-4e46-a9f6-264178af38ba",
       "rows": [
        [
         "Order ID",
         "0"
        ],
        [
         "Product",
         "0"
        ],
        [
         "Quantity Ordered",
         "0"
        ],
        [
         "Price Each",
         "0"
        ],
        [
         "Order Date",
         "0"
        ],
        [
         "Purchase Address",
         "0"
        ]
       ],
       "shape": {
        "columns": 1,
        "rows": 6
       }
      },
      "text/plain": [
       "Order ID            0\n",
       "Product             0\n",
       "Quantity Ordered    0\n",
       "Price Each          0\n",
       "Order Date          0\n",
       "Purchase Address    0\n",
       "dtype: int64"
      ]
     },
     "execution_count": 5,
     "metadata": {},
     "output_type": "execute_result"
    }
   ],
   "source": [
    "all_data.dropna(how='all', inplace=True)\n",
    "all_data.isnull().sum()"
   ]
  },
  {
   "cell_type": "code",
   "execution_count": 6,
   "metadata": {},
   "outputs": [
    {
     "data": {
      "text/plain": [
       "np.int64(618)"
      ]
     },
     "execution_count": 6,
     "metadata": {},
     "output_type": "execute_result"
    }
   ],
   "source": [
    "all_data.duplicated().sum()"
   ]
  },
  {
   "cell_type": "code",
   "execution_count": 7,
   "metadata": {},
   "outputs": [],
   "source": [
    "all_data.drop_duplicates(inplace=True)"
   ]
  },
  {
   "cell_type": "code",
   "execution_count": 8,
   "metadata": {},
   "outputs": [
    {
     "data": {
      "text/plain": [
       "np.int64(0)"
      ]
     },
     "execution_count": 8,
     "metadata": {},
     "output_type": "execute_result"
    }
   ],
   "source": [
    "all_data.duplicated().sum()"
   ]
  },
  {
   "cell_type": "code",
   "execution_count": 9,
   "metadata": {},
   "outputs": [
    {
     "data": {
      "application/vnd.microsoft.datawrangler.viewer.v0+json": {
       "columns": [
        {
         "name": "index",
         "rawType": "int64",
         "type": "integer"
        },
        {
         "name": "Order ID",
         "rawType": "object",
         "type": "string"
        },
        {
         "name": "Product",
         "rawType": "object",
         "type": "string"
        },
        {
         "name": "Quantity Ordered",
         "rawType": "object",
         "type": "string"
        },
        {
         "name": "Price Each",
         "rawType": "object",
         "type": "string"
        },
        {
         "name": "Order Date",
         "rawType": "object",
         "type": "string"
        },
        {
         "name": "Purchase Address",
         "rawType": "object",
         "type": "string"
        }
       ],
       "ref": "441d4d6e-9a06-4bdc-9207-ffe2d078627e",
       "rows": [
        [
         "0",
         "176558",
         "USB-C Charging Cable",
         "2",
         "11.95",
         "04/19/19 08:46",
         "917 1st St, Dallas, TX 75001"
        ],
        [
         "2",
         "176559",
         "Bose SoundSport Headphones",
         "1",
         "99.99",
         "04/07/19 22:30",
         "682 Chestnut St, Boston, MA 02215"
        ],
        [
         "3",
         "176560",
         "Google Phone",
         "1",
         "600",
         "04/12/19 14:38",
         "669 Spruce St, Los Angeles, CA 90001"
        ],
        [
         "4",
         "176560",
         "Wired Headphones",
         "1",
         "11.99",
         "04/12/19 14:38",
         "669 Spruce St, Los Angeles, CA 90001"
        ],
        [
         "5",
         "176561",
         "Wired Headphones",
         "1",
         "11.99",
         "04/30/19 09:27",
         "333 8th St, Los Angeles, CA 90001"
        ],
        [
         "6",
         "176562",
         "USB-C Charging Cable",
         "1",
         "11.95",
         "04/29/19 13:03",
         "381 Wilson St, San Francisco, CA 94016"
        ],
        [
         "7",
         "176563",
         "Bose SoundSport Headphones",
         "1",
         "99.99",
         "04/02/19 07:46",
         "668 Center St, Seattle, WA 98101"
        ],
        [
         "8",
         "176564",
         "USB-C Charging Cable",
         "1",
         "11.95",
         "04/12/19 10:58",
         "790 Ridge St, Atlanta, GA 30301"
        ],
        [
         "9",
         "176565",
         "Macbook Pro Laptop",
         "1",
         "1700",
         "04/24/19 10:38",
         "915 Willow St, San Francisco, CA 94016"
        ],
        [
         "10",
         "176566",
         "Wired Headphones",
         "1",
         "11.99",
         "04/08/19 14:05",
         "83 7th St, Boston, MA 02215"
        ],
        [
         "11",
         "176567",
         "Google Phone",
         "1",
         "600",
         "04/18/19 17:18",
         "444 7th St, Los Angeles, CA 90001"
        ],
        [
         "12",
         "176568",
         "Lightning Charging Cable",
         "1",
         "14.95",
         "04/15/19 12:18",
         "438 Elm St, Seattle, WA 98101"
        ],
        [
         "13",
         "176569",
         "27in 4K Gaming Monitor",
         "1",
         "389.99",
         "04/16/19 19:23",
         "657 Hill St, Dallas, TX 75001"
        ],
        [
         "14",
         "176570",
         "AA Batteries (4-pack)",
         "1",
         "3.84",
         "04/22/19 15:09",
         "186 12th St, Dallas, TX 75001"
        ],
        [
         "15",
         "176571",
         "Lightning Charging Cable",
         "1",
         "14.95",
         "04/19/19 14:29",
         "253 Johnson St, Atlanta, GA 30301"
        ],
        [
         "16",
         "176572",
         "Apple Airpods Headphones",
         "1",
         "150",
         "04/04/19 20:30",
         "149 Dogwood St, New York City, NY 10001"
        ],
        [
         "17",
         "176573",
         "USB-C Charging Cable",
         "1",
         "11.95",
         "04/27/19 18:41",
         "214 Chestnut St, San Francisco, CA 94016"
        ],
        [
         "18",
         "176574",
         "Google Phone",
         "1",
         "600",
         "04/03/19 19:42",
         "20 Hill St, Los Angeles, CA 90001"
        ],
        [
         "19",
         "176574",
         "USB-C Charging Cable",
         "1",
         "11.95",
         "04/03/19 19:42",
         "20 Hill St, Los Angeles, CA 90001"
        ],
        [
         "20",
         "176575",
         "AAA Batteries (4-pack)",
         "1",
         "2.99",
         "04/27/19 00:30",
         "433 Hill St, New York City, NY 10001"
        ],
        [
         "21",
         "176576",
         "Apple Airpods Headphones",
         "1",
         "150",
         "04/28/19 11:42",
         "771 Ridge St, Los Angeles, CA 90001"
        ],
        [
         "22",
         "176577",
         "Apple Airpods Headphones",
         "1",
         "150",
         "04/04/19 19:25",
         "260 Spruce St, Dallas, TX 75001"
        ],
        [
         "23",
         "176578",
         "Apple Airpods Headphones",
         "1",
         "150",
         "04/09/19 23:35",
         "513 Church St, Boston, MA 02215"
        ],
        [
         "24",
         "176579",
         "AA Batteries (4-pack)",
         "1",
         "3.84",
         "04/11/19 10:23",
         "886 Jefferson St, New York City, NY 10001"
        ],
        [
         "25",
         "176580",
         "USB-C Charging Cable",
         "1",
         "11.95",
         "04/05/19 00:35",
         "886 Willow St, Los Angeles, CA 90001"
        ],
        [
         "26",
         "176581",
         "iPhone",
         "1",
         "700",
         "04/09/19 21:38",
         "84 Jackson St, Boston, MA 02215"
        ],
        [
         "27",
         "176582",
         "Bose SoundSport Headphones",
         "1",
         "99.99",
         "04/27/19 12:20",
         "178 Lincoln St, Atlanta, GA 30301"
        ],
        [
         "28",
         "176583",
         "AAA Batteries (4-pack)",
         "2",
         "2.99",
         "04/20/19 12:00",
         "146 Jackson St, Portland, OR 97035"
        ],
        [
         "29",
         "176584",
         "Flatscreen TV",
         "1",
         "300",
         "04/24/19 20:39",
         "936 Church St, San Francisco, CA 94016"
        ],
        [
         "30",
         "176585",
         "Bose SoundSport Headphones",
         "1",
         "99.99",
         "04/07/19 11:31",
         "823 Highland St, Boston, MA 02215"
        ],
        [
         "32",
         "176586",
         "AAA Batteries (4-pack)",
         "2",
         "2.99",
         "04/10/19 17:00",
         "365 Center St, San Francisco, CA 94016"
        ],
        [
         "33",
         "176586",
         "Google Phone",
         "1",
         "600",
         "04/10/19 17:00",
         "365 Center St, San Francisco, CA 94016"
        ],
        [
         "34",
         "176587",
         "27in FHD Monitor",
         "1",
         "149.99",
         "04/29/19 19:38",
         "557 5th St, Los Angeles, CA 90001"
        ],
        [
         "35",
         "176588",
         "20in Monitor",
         "1",
         "109.99",
         "04/02/19 04:00",
         "765 Cherry St, Seattle, WA 98101"
        ],
        [
         "36",
         "176589",
         "Lightning Charging Cable",
         "1",
         "14.95",
         "04/04/19 12:23",
         "846 Highland St, Atlanta, GA 30301"
        ],
        [
         "37",
         "176590",
         "Google Phone",
         "1",
         "600",
         "04/11/19 11:46",
         "873 6th St, New York City, NY 10001"
        ],
        [
         "38",
         "176591",
         "Apple Airpods Headphones",
         "1",
         "150",
         "04/21/19 07:21",
         "600 Maple St, Austin, TX 73301"
        ],
        [
         "39",
         "176592",
         "USB-C Charging Cable",
         "1",
         "11.95",
         "04/27/19 13:04",
         "352 4th St, Los Angeles, CA 90001"
        ],
        [
         "40",
         "176593",
         "Lightning Charging Cable",
         "2",
         "14.95",
         "04/15/19 13:45",
         "906 7th St, Portland, OR 97035"
        ],
        [
         "41",
         "176594",
         "Wired Headphones",
         "1",
         "11.99",
         "04/17/19 23:04",
         "63 Maple St, San Francisco, CA 94016"
        ],
        [
         "42",
         "176595",
         "Wired Headphones",
         "3",
         "11.99",
         "04/02/19 09:11",
         "383 6th St, Los Angeles, CA 90001"
        ],
        [
         "43",
         "176596",
         "Apple Airpods Headphones",
         "1",
         "150",
         "04/27/19 20:11",
         "572 Meadow St, Dallas, TX 75001"
        ],
        [
         "44",
         "176597",
         "USB-C Charging Cable",
         "1",
         "11.95",
         "04/19/19 13:39",
         "681 11th St, San Francisco, CA 94016"
        ],
        [
         "45",
         "176598",
         "AAA Batteries (4-pack)",
         "2",
         "2.99",
         "04/21/19 20:33",
         "294 Park St, San Francisco, CA 94016"
        ],
        [
         "46",
         "176599",
         "Lightning Charging Cable",
         "1",
         "14.95",
         "04/11/19 15:25",
         "279 Maple St, New York City, NY 10001"
        ],
        [
         "47",
         "176600",
         "27in 4K Gaming Monitor",
         "1",
         "389.99",
         "04/30/19 15:54",
         "87 West St, Boston, MA 02215"
        ],
        [
         "48",
         "176601",
         "USB-C Charging Cable",
         "1",
         "11.95",
         "04/02/19 22:32",
         "754 10th St, Los Angeles, CA 90001"
        ],
        [
         "49",
         "176602",
         "Lightning Charging Cable",
         "1",
         "14.95",
         "04/30/19 09:39",
         "9 Jefferson St, Dallas, TX 75001"
        ],
        [
         "50",
         "176603",
         "USB-C Charging Cable",
         "1",
         "11.95",
         "04/01/19 07:46",
         "858 6th St, San Francisco, CA 94016"
        ],
        [
         "51",
         "176604",
         "USB-C Charging Cable",
         "1",
         "11.95",
         "04/02/19 10:57",
         "462 11th St, San Francisco, CA 94016"
        ]
       ],
       "shape": {
        "columns": 6,
        "rows": 185687
       }
      },
      "text/html": [
       "<div>\n",
       "<style scoped>\n",
       "    .dataframe tbody tr th:only-of-type {\n",
       "        vertical-align: middle;\n",
       "    }\n",
       "\n",
       "    .dataframe tbody tr th {\n",
       "        vertical-align: top;\n",
       "    }\n",
       "\n",
       "    .dataframe thead th {\n",
       "        text-align: right;\n",
       "    }\n",
       "</style>\n",
       "<table border=\"1\" class=\"dataframe\">\n",
       "  <thead>\n",
       "    <tr style=\"text-align: right;\">\n",
       "      <th></th>\n",
       "      <th>Order ID</th>\n",
       "      <th>Product</th>\n",
       "      <th>Quantity Ordered</th>\n",
       "      <th>Price Each</th>\n",
       "      <th>Order Date</th>\n",
       "      <th>Purchase Address</th>\n",
       "    </tr>\n",
       "  </thead>\n",
       "  <tbody>\n",
       "    <tr>\n",
       "      <th>0</th>\n",
       "      <td>176558</td>\n",
       "      <td>USB-C Charging Cable</td>\n",
       "      <td>2</td>\n",
       "      <td>11.95</td>\n",
       "      <td>04/19/19 08:46</td>\n",
       "      <td>917 1st St, Dallas, TX 75001</td>\n",
       "    </tr>\n",
       "    <tr>\n",
       "      <th>2</th>\n",
       "      <td>176559</td>\n",
       "      <td>Bose SoundSport Headphones</td>\n",
       "      <td>1</td>\n",
       "      <td>99.99</td>\n",
       "      <td>04/07/19 22:30</td>\n",
       "      <td>682 Chestnut St, Boston, MA 02215</td>\n",
       "    </tr>\n",
       "    <tr>\n",
       "      <th>3</th>\n",
       "      <td>176560</td>\n",
       "      <td>Google Phone</td>\n",
       "      <td>1</td>\n",
       "      <td>600</td>\n",
       "      <td>04/12/19 14:38</td>\n",
       "      <td>669 Spruce St, Los Angeles, CA 90001</td>\n",
       "    </tr>\n",
       "    <tr>\n",
       "      <th>4</th>\n",
       "      <td>176560</td>\n",
       "      <td>Wired Headphones</td>\n",
       "      <td>1</td>\n",
       "      <td>11.99</td>\n",
       "      <td>04/12/19 14:38</td>\n",
       "      <td>669 Spruce St, Los Angeles, CA 90001</td>\n",
       "    </tr>\n",
       "    <tr>\n",
       "      <th>5</th>\n",
       "      <td>176561</td>\n",
       "      <td>Wired Headphones</td>\n",
       "      <td>1</td>\n",
       "      <td>11.99</td>\n",
       "      <td>04/30/19 09:27</td>\n",
       "      <td>333 8th St, Los Angeles, CA 90001</td>\n",
       "    </tr>\n",
       "    <tr>\n",
       "      <th>...</th>\n",
       "      <td>...</td>\n",
       "      <td>...</td>\n",
       "      <td>...</td>\n",
       "      <td>...</td>\n",
       "      <td>...</td>\n",
       "      <td>...</td>\n",
       "    </tr>\n",
       "    <tr>\n",
       "      <th>186845</th>\n",
       "      <td>259353</td>\n",
       "      <td>AAA Batteries (4-pack)</td>\n",
       "      <td>3</td>\n",
       "      <td>2.99</td>\n",
       "      <td>09/17/19 20:56</td>\n",
       "      <td>840 Highland St, Los Angeles, CA 90001</td>\n",
       "    </tr>\n",
       "    <tr>\n",
       "      <th>186846</th>\n",
       "      <td>259354</td>\n",
       "      <td>iPhone</td>\n",
       "      <td>1</td>\n",
       "      <td>700</td>\n",
       "      <td>09/01/19 16:00</td>\n",
       "      <td>216 Dogwood St, San Francisco, CA 94016</td>\n",
       "    </tr>\n",
       "    <tr>\n",
       "      <th>186847</th>\n",
       "      <td>259355</td>\n",
       "      <td>iPhone</td>\n",
       "      <td>1</td>\n",
       "      <td>700</td>\n",
       "      <td>09/23/19 07:39</td>\n",
       "      <td>220 12th St, San Francisco, CA 94016</td>\n",
       "    </tr>\n",
       "    <tr>\n",
       "      <th>186848</th>\n",
       "      <td>259356</td>\n",
       "      <td>34in Ultrawide Monitor</td>\n",
       "      <td>1</td>\n",
       "      <td>379.99</td>\n",
       "      <td>09/19/19 17:30</td>\n",
       "      <td>511 Forest St, San Francisco, CA 94016</td>\n",
       "    </tr>\n",
       "    <tr>\n",
       "      <th>186849</th>\n",
       "      <td>259357</td>\n",
       "      <td>USB-C Charging Cable</td>\n",
       "      <td>1</td>\n",
       "      <td>11.95</td>\n",
       "      <td>09/30/19 00:18</td>\n",
       "      <td>250 Meadow St, San Francisco, CA 94016</td>\n",
       "    </tr>\n",
       "  </tbody>\n",
       "</table>\n",
       "<p>185687 rows × 6 columns</p>\n",
       "</div>"
      ],
      "text/plain": [
       "       Order ID                     Product Quantity Ordered Price Each  \\\n",
       "0        176558        USB-C Charging Cable                2      11.95   \n",
       "2        176559  Bose SoundSport Headphones                1      99.99   \n",
       "3        176560                Google Phone                1        600   \n",
       "4        176560            Wired Headphones                1      11.99   \n",
       "5        176561            Wired Headphones                1      11.99   \n",
       "...         ...                         ...              ...        ...   \n",
       "186845   259353      AAA Batteries (4-pack)                3       2.99   \n",
       "186846   259354                      iPhone                1        700   \n",
       "186847   259355                      iPhone                1        700   \n",
       "186848   259356      34in Ultrawide Monitor                1     379.99   \n",
       "186849   259357        USB-C Charging Cable                1      11.95   \n",
       "\n",
       "            Order Date                         Purchase Address  \n",
       "0       04/19/19 08:46             917 1st St, Dallas, TX 75001  \n",
       "2       04/07/19 22:30        682 Chestnut St, Boston, MA 02215  \n",
       "3       04/12/19 14:38     669 Spruce St, Los Angeles, CA 90001  \n",
       "4       04/12/19 14:38     669 Spruce St, Los Angeles, CA 90001  \n",
       "5       04/30/19 09:27        333 8th St, Los Angeles, CA 90001  \n",
       "...                ...                                      ...  \n",
       "186845  09/17/19 20:56   840 Highland St, Los Angeles, CA 90001  \n",
       "186846  09/01/19 16:00  216 Dogwood St, San Francisco, CA 94016  \n",
       "186847  09/23/19 07:39     220 12th St, San Francisco, CA 94016  \n",
       "186848  09/19/19 17:30   511 Forest St, San Francisco, CA 94016  \n",
       "186849  09/30/19 00:18   250 Meadow St, San Francisco, CA 94016  \n",
       "\n",
       "[185687 rows x 6 columns]"
      ]
     },
     "execution_count": 9,
     "metadata": {},
     "output_type": "execute_result"
    }
   ],
   "source": [
    "all_data"
   ]
  },
  {
   "cell_type": "code",
   "execution_count": null,
   "metadata": {},
   "outputs": [],
   "source": []
  },
  {
   "cell_type": "code",
   "execution_count": 10,
   "metadata": {},
   "outputs": [
    {
     "name": "stderr",
     "output_type": "stream",
     "text": [
      "/var/folders/kh/hv0681hd5n1bnsmh2y16qm3h0000gn/T/ipykernel_71106/2655175597.py:10: SettingWithCopyWarning: \n",
      "A value is trying to be set on a copy of a slice from a DataFrame.\n",
      "Try using .loc[row_indexer,col_indexer] = value instead\n",
      "\n",
      "See the caveats in the documentation: https://pandas.pydata.org/pandas-docs/stable/user_guide/indexing.html#returning-a-view-versus-a-copy\n",
      "  all_data['Month'] = all_data['Order Date'].dt.month\n"
     ]
    },
    {
     "data": {
      "application/vnd.microsoft.datawrangler.viewer.v0+json": {
       "columns": [
        {
         "name": "index",
         "rawType": "int64",
         "type": "integer"
        },
        {
         "name": "Order ID",
         "rawType": "object",
         "type": "string"
        },
        {
         "name": "Product",
         "rawType": "object",
         "type": "string"
        },
        {
         "name": "Quantity Ordered",
         "rawType": "object",
         "type": "string"
        },
        {
         "name": "Price Each",
         "rawType": "object",
         "type": "string"
        },
        {
         "name": "Order Date",
         "rawType": "datetime64[ns]",
         "type": "datetime"
        },
        {
         "name": "Purchase Address",
         "rawType": "object",
         "type": "string"
        },
        {
         "name": "Month",
         "rawType": "int32",
         "type": "integer"
        }
       ],
       "ref": "09454480-b810-4f6c-8eb3-bb68b1d4c495",
       "rows": [
        [
         "0",
         "176558",
         "USB-C Charging Cable",
         "2",
         "11.95",
         "2019-04-19 08:46:00",
         "917 1st St, Dallas, TX 75001",
         "4"
        ],
        [
         "2",
         "176559",
         "Bose SoundSport Headphones",
         "1",
         "99.99",
         "2019-04-07 22:30:00",
         "682 Chestnut St, Boston, MA 02215",
         "4"
        ],
        [
         "3",
         "176560",
         "Google Phone",
         "1",
         "600",
         "2019-04-12 14:38:00",
         "669 Spruce St, Los Angeles, CA 90001",
         "4"
        ],
        [
         "4",
         "176560",
         "Wired Headphones",
         "1",
         "11.99",
         "2019-04-12 14:38:00",
         "669 Spruce St, Los Angeles, CA 90001",
         "4"
        ],
        [
         "5",
         "176561",
         "Wired Headphones",
         "1",
         "11.99",
         "2019-04-30 09:27:00",
         "333 8th St, Los Angeles, CA 90001",
         "4"
        ],
        [
         "6",
         "176562",
         "USB-C Charging Cable",
         "1",
         "11.95",
         "2019-04-29 13:03:00",
         "381 Wilson St, San Francisco, CA 94016",
         "4"
        ],
        [
         "7",
         "176563",
         "Bose SoundSport Headphones",
         "1",
         "99.99",
         "2019-04-02 07:46:00",
         "668 Center St, Seattle, WA 98101",
         "4"
        ],
        [
         "8",
         "176564",
         "USB-C Charging Cable",
         "1",
         "11.95",
         "2019-04-12 10:58:00",
         "790 Ridge St, Atlanta, GA 30301",
         "4"
        ],
        [
         "9",
         "176565",
         "Macbook Pro Laptop",
         "1",
         "1700",
         "2019-04-24 10:38:00",
         "915 Willow St, San Francisco, CA 94016",
         "4"
        ],
        [
         "10",
         "176566",
         "Wired Headphones",
         "1",
         "11.99",
         "2019-04-08 14:05:00",
         "83 7th St, Boston, MA 02215",
         "4"
        ],
        [
         "11",
         "176567",
         "Google Phone",
         "1",
         "600",
         "2019-04-18 17:18:00",
         "444 7th St, Los Angeles, CA 90001",
         "4"
        ],
        [
         "12",
         "176568",
         "Lightning Charging Cable",
         "1",
         "14.95",
         "2019-04-15 12:18:00",
         "438 Elm St, Seattle, WA 98101",
         "4"
        ],
        [
         "13",
         "176569",
         "27in 4K Gaming Monitor",
         "1",
         "389.99",
         "2019-04-16 19:23:00",
         "657 Hill St, Dallas, TX 75001",
         "4"
        ],
        [
         "14",
         "176570",
         "AA Batteries (4-pack)",
         "1",
         "3.84",
         "2019-04-22 15:09:00",
         "186 12th St, Dallas, TX 75001",
         "4"
        ],
        [
         "15",
         "176571",
         "Lightning Charging Cable",
         "1",
         "14.95",
         "2019-04-19 14:29:00",
         "253 Johnson St, Atlanta, GA 30301",
         "4"
        ],
        [
         "16",
         "176572",
         "Apple Airpods Headphones",
         "1",
         "150",
         "2019-04-04 20:30:00",
         "149 Dogwood St, New York City, NY 10001",
         "4"
        ],
        [
         "17",
         "176573",
         "USB-C Charging Cable",
         "1",
         "11.95",
         "2019-04-27 18:41:00",
         "214 Chestnut St, San Francisco, CA 94016",
         "4"
        ],
        [
         "18",
         "176574",
         "Google Phone",
         "1",
         "600",
         "2019-04-03 19:42:00",
         "20 Hill St, Los Angeles, CA 90001",
         "4"
        ],
        [
         "19",
         "176574",
         "USB-C Charging Cable",
         "1",
         "11.95",
         "2019-04-03 19:42:00",
         "20 Hill St, Los Angeles, CA 90001",
         "4"
        ],
        [
         "20",
         "176575",
         "AAA Batteries (4-pack)",
         "1",
         "2.99",
         "2019-04-27 00:30:00",
         "433 Hill St, New York City, NY 10001",
         "4"
        ],
        [
         "21",
         "176576",
         "Apple Airpods Headphones",
         "1",
         "150",
         "2019-04-28 11:42:00",
         "771 Ridge St, Los Angeles, CA 90001",
         "4"
        ],
        [
         "22",
         "176577",
         "Apple Airpods Headphones",
         "1",
         "150",
         "2019-04-04 19:25:00",
         "260 Spruce St, Dallas, TX 75001",
         "4"
        ],
        [
         "23",
         "176578",
         "Apple Airpods Headphones",
         "1",
         "150",
         "2019-04-09 23:35:00",
         "513 Church St, Boston, MA 02215",
         "4"
        ],
        [
         "24",
         "176579",
         "AA Batteries (4-pack)",
         "1",
         "3.84",
         "2019-04-11 10:23:00",
         "886 Jefferson St, New York City, NY 10001",
         "4"
        ],
        [
         "25",
         "176580",
         "USB-C Charging Cable",
         "1",
         "11.95",
         "2019-04-05 00:35:00",
         "886 Willow St, Los Angeles, CA 90001",
         "4"
        ],
        [
         "26",
         "176581",
         "iPhone",
         "1",
         "700",
         "2019-04-09 21:38:00",
         "84 Jackson St, Boston, MA 02215",
         "4"
        ],
        [
         "27",
         "176582",
         "Bose SoundSport Headphones",
         "1",
         "99.99",
         "2019-04-27 12:20:00",
         "178 Lincoln St, Atlanta, GA 30301",
         "4"
        ],
        [
         "28",
         "176583",
         "AAA Batteries (4-pack)",
         "2",
         "2.99",
         "2019-04-20 12:00:00",
         "146 Jackson St, Portland, OR 97035",
         "4"
        ],
        [
         "29",
         "176584",
         "Flatscreen TV",
         "1",
         "300",
         "2019-04-24 20:39:00",
         "936 Church St, San Francisco, CA 94016",
         "4"
        ],
        [
         "30",
         "176585",
         "Bose SoundSport Headphones",
         "1",
         "99.99",
         "2019-04-07 11:31:00",
         "823 Highland St, Boston, MA 02215",
         "4"
        ],
        [
         "32",
         "176586",
         "AAA Batteries (4-pack)",
         "2",
         "2.99",
         "2019-04-10 17:00:00",
         "365 Center St, San Francisco, CA 94016",
         "4"
        ],
        [
         "33",
         "176586",
         "Google Phone",
         "1",
         "600",
         "2019-04-10 17:00:00",
         "365 Center St, San Francisco, CA 94016",
         "4"
        ],
        [
         "34",
         "176587",
         "27in FHD Monitor",
         "1",
         "149.99",
         "2019-04-29 19:38:00",
         "557 5th St, Los Angeles, CA 90001",
         "4"
        ],
        [
         "35",
         "176588",
         "20in Monitor",
         "1",
         "109.99",
         "2019-04-02 04:00:00",
         "765 Cherry St, Seattle, WA 98101",
         "4"
        ],
        [
         "36",
         "176589",
         "Lightning Charging Cable",
         "1",
         "14.95",
         "2019-04-04 12:23:00",
         "846 Highland St, Atlanta, GA 30301",
         "4"
        ],
        [
         "37",
         "176590",
         "Google Phone",
         "1",
         "600",
         "2019-04-11 11:46:00",
         "873 6th St, New York City, NY 10001",
         "4"
        ],
        [
         "38",
         "176591",
         "Apple Airpods Headphones",
         "1",
         "150",
         "2019-04-21 07:21:00",
         "600 Maple St, Austin, TX 73301",
         "4"
        ],
        [
         "39",
         "176592",
         "USB-C Charging Cable",
         "1",
         "11.95",
         "2019-04-27 13:04:00",
         "352 4th St, Los Angeles, CA 90001",
         "4"
        ],
        [
         "40",
         "176593",
         "Lightning Charging Cable",
         "2",
         "14.95",
         "2019-04-15 13:45:00",
         "906 7th St, Portland, OR 97035",
         "4"
        ],
        [
         "41",
         "176594",
         "Wired Headphones",
         "1",
         "11.99",
         "2019-04-17 23:04:00",
         "63 Maple St, San Francisco, CA 94016",
         "4"
        ],
        [
         "42",
         "176595",
         "Wired Headphones",
         "3",
         "11.99",
         "2019-04-02 09:11:00",
         "383 6th St, Los Angeles, CA 90001",
         "4"
        ],
        [
         "43",
         "176596",
         "Apple Airpods Headphones",
         "1",
         "150",
         "2019-04-27 20:11:00",
         "572 Meadow St, Dallas, TX 75001",
         "4"
        ],
        [
         "44",
         "176597",
         "USB-C Charging Cable",
         "1",
         "11.95",
         "2019-04-19 13:39:00",
         "681 11th St, San Francisco, CA 94016",
         "4"
        ],
        [
         "45",
         "176598",
         "AAA Batteries (4-pack)",
         "2",
         "2.99",
         "2019-04-21 20:33:00",
         "294 Park St, San Francisco, CA 94016",
         "4"
        ],
        [
         "46",
         "176599",
         "Lightning Charging Cable",
         "1",
         "14.95",
         "2019-04-11 15:25:00",
         "279 Maple St, New York City, NY 10001",
         "4"
        ],
        [
         "47",
         "176600",
         "27in 4K Gaming Monitor",
         "1",
         "389.99",
         "2019-04-30 15:54:00",
         "87 West St, Boston, MA 02215",
         "4"
        ],
        [
         "48",
         "176601",
         "USB-C Charging Cable",
         "1",
         "11.95",
         "2019-04-02 22:32:00",
         "754 10th St, Los Angeles, CA 90001",
         "4"
        ],
        [
         "49",
         "176602",
         "Lightning Charging Cable",
         "1",
         "14.95",
         "2019-04-30 09:39:00",
         "9 Jefferson St, Dallas, TX 75001",
         "4"
        ],
        [
         "50",
         "176603",
         "USB-C Charging Cable",
         "1",
         "11.95",
         "2019-04-01 07:46:00",
         "858 6th St, San Francisco, CA 94016",
         "4"
        ],
        [
         "51",
         "176604",
         "USB-C Charging Cable",
         "1",
         "11.95",
         "2019-04-02 10:57:00",
         "462 11th St, San Francisco, CA 94016",
         "4"
        ]
       ],
       "shape": {
        "columns": 7,
        "rows": 185686
       }
      },
      "text/html": [
       "<div>\n",
       "<style scoped>\n",
       "    .dataframe tbody tr th:only-of-type {\n",
       "        vertical-align: middle;\n",
       "    }\n",
       "\n",
       "    .dataframe tbody tr th {\n",
       "        vertical-align: top;\n",
       "    }\n",
       "\n",
       "    .dataframe thead th {\n",
       "        text-align: right;\n",
       "    }\n",
       "</style>\n",
       "<table border=\"1\" class=\"dataframe\">\n",
       "  <thead>\n",
       "    <tr style=\"text-align: right;\">\n",
       "      <th></th>\n",
       "      <th>Order ID</th>\n",
       "      <th>Product</th>\n",
       "      <th>Quantity Ordered</th>\n",
       "      <th>Price Each</th>\n",
       "      <th>Order Date</th>\n",
       "      <th>Purchase Address</th>\n",
       "      <th>Month</th>\n",
       "    </tr>\n",
       "  </thead>\n",
       "  <tbody>\n",
       "    <tr>\n",
       "      <th>0</th>\n",
       "      <td>176558</td>\n",
       "      <td>USB-C Charging Cable</td>\n",
       "      <td>2</td>\n",
       "      <td>11.95</td>\n",
       "      <td>2019-04-19 08:46:00</td>\n",
       "      <td>917 1st St, Dallas, TX 75001</td>\n",
       "      <td>4</td>\n",
       "    </tr>\n",
       "    <tr>\n",
       "      <th>2</th>\n",
       "      <td>176559</td>\n",
       "      <td>Bose SoundSport Headphones</td>\n",
       "      <td>1</td>\n",
       "      <td>99.99</td>\n",
       "      <td>2019-04-07 22:30:00</td>\n",
       "      <td>682 Chestnut St, Boston, MA 02215</td>\n",
       "      <td>4</td>\n",
       "    </tr>\n",
       "    <tr>\n",
       "      <th>3</th>\n",
       "      <td>176560</td>\n",
       "      <td>Google Phone</td>\n",
       "      <td>1</td>\n",
       "      <td>600</td>\n",
       "      <td>2019-04-12 14:38:00</td>\n",
       "      <td>669 Spruce St, Los Angeles, CA 90001</td>\n",
       "      <td>4</td>\n",
       "    </tr>\n",
       "    <tr>\n",
       "      <th>4</th>\n",
       "      <td>176560</td>\n",
       "      <td>Wired Headphones</td>\n",
       "      <td>1</td>\n",
       "      <td>11.99</td>\n",
       "      <td>2019-04-12 14:38:00</td>\n",
       "      <td>669 Spruce St, Los Angeles, CA 90001</td>\n",
       "      <td>4</td>\n",
       "    </tr>\n",
       "    <tr>\n",
       "      <th>5</th>\n",
       "      <td>176561</td>\n",
       "      <td>Wired Headphones</td>\n",
       "      <td>1</td>\n",
       "      <td>11.99</td>\n",
       "      <td>2019-04-30 09:27:00</td>\n",
       "      <td>333 8th St, Los Angeles, CA 90001</td>\n",
       "      <td>4</td>\n",
       "    </tr>\n",
       "    <tr>\n",
       "      <th>...</th>\n",
       "      <td>...</td>\n",
       "      <td>...</td>\n",
       "      <td>...</td>\n",
       "      <td>...</td>\n",
       "      <td>...</td>\n",
       "      <td>...</td>\n",
       "      <td>...</td>\n",
       "    </tr>\n",
       "    <tr>\n",
       "      <th>186845</th>\n",
       "      <td>259353</td>\n",
       "      <td>AAA Batteries (4-pack)</td>\n",
       "      <td>3</td>\n",
       "      <td>2.99</td>\n",
       "      <td>2019-09-17 20:56:00</td>\n",
       "      <td>840 Highland St, Los Angeles, CA 90001</td>\n",
       "      <td>9</td>\n",
       "    </tr>\n",
       "    <tr>\n",
       "      <th>186846</th>\n",
       "      <td>259354</td>\n",
       "      <td>iPhone</td>\n",
       "      <td>1</td>\n",
       "      <td>700</td>\n",
       "      <td>2019-09-01 16:00:00</td>\n",
       "      <td>216 Dogwood St, San Francisco, CA 94016</td>\n",
       "      <td>9</td>\n",
       "    </tr>\n",
       "    <tr>\n",
       "      <th>186847</th>\n",
       "      <td>259355</td>\n",
       "      <td>iPhone</td>\n",
       "      <td>1</td>\n",
       "      <td>700</td>\n",
       "      <td>2019-09-23 07:39:00</td>\n",
       "      <td>220 12th St, San Francisco, CA 94016</td>\n",
       "      <td>9</td>\n",
       "    </tr>\n",
       "    <tr>\n",
       "      <th>186848</th>\n",
       "      <td>259356</td>\n",
       "      <td>34in Ultrawide Monitor</td>\n",
       "      <td>1</td>\n",
       "      <td>379.99</td>\n",
       "      <td>2019-09-19 17:30:00</td>\n",
       "      <td>511 Forest St, San Francisco, CA 94016</td>\n",
       "      <td>9</td>\n",
       "    </tr>\n",
       "    <tr>\n",
       "      <th>186849</th>\n",
       "      <td>259357</td>\n",
       "      <td>USB-C Charging Cable</td>\n",
       "      <td>1</td>\n",
       "      <td>11.95</td>\n",
       "      <td>2019-09-30 00:18:00</td>\n",
       "      <td>250 Meadow St, San Francisco, CA 94016</td>\n",
       "      <td>9</td>\n",
       "    </tr>\n",
       "  </tbody>\n",
       "</table>\n",
       "<p>185686 rows × 7 columns</p>\n",
       "</div>"
      ],
      "text/plain": [
       "       Order ID                     Product Quantity Ordered Price Each  \\\n",
       "0        176558        USB-C Charging Cable                2      11.95   \n",
       "2        176559  Bose SoundSport Headphones                1      99.99   \n",
       "3        176560                Google Phone                1        600   \n",
       "4        176560            Wired Headphones                1      11.99   \n",
       "5        176561            Wired Headphones                1      11.99   \n",
       "...         ...                         ...              ...        ...   \n",
       "186845   259353      AAA Batteries (4-pack)                3       2.99   \n",
       "186846   259354                      iPhone                1        700   \n",
       "186847   259355                      iPhone                1        700   \n",
       "186848   259356      34in Ultrawide Monitor                1     379.99   \n",
       "186849   259357        USB-C Charging Cable                1      11.95   \n",
       "\n",
       "                Order Date                         Purchase Address  Month  \n",
       "0      2019-04-19 08:46:00             917 1st St, Dallas, TX 75001      4  \n",
       "2      2019-04-07 22:30:00        682 Chestnut St, Boston, MA 02215      4  \n",
       "3      2019-04-12 14:38:00     669 Spruce St, Los Angeles, CA 90001      4  \n",
       "4      2019-04-12 14:38:00     669 Spruce St, Los Angeles, CA 90001      4  \n",
       "5      2019-04-30 09:27:00        333 8th St, Los Angeles, CA 90001      4  \n",
       "...                    ...                                      ...    ...  \n",
       "186845 2019-09-17 20:56:00   840 Highland St, Los Angeles, CA 90001      9  \n",
       "186846 2019-09-01 16:00:00  216 Dogwood St, San Francisco, CA 94016      9  \n",
       "186847 2019-09-23 07:39:00     220 12th St, San Francisco, CA 94016      9  \n",
       "186848 2019-09-19 17:30:00   511 Forest St, San Francisco, CA 94016      9  \n",
       "186849 2019-09-30 00:18:00   250 Meadow St, San Francisco, CA 94016      9  \n",
       "\n",
       "[185686 rows x 7 columns]"
      ]
     },
     "execution_count": 10,
     "metadata": {},
     "output_type": "execute_result"
    }
   ],
   "source": [
    "all_data['Order Date'] = pd.to_datetime(all_data['Order Date'], format='%m/%d/%y %H:%M', errors='coerce')\n",
    "\n",
    "# Check which values failed to convert\n",
    "non_datetime_values = all_data[all_data['Order Date'].isna()]\n",
    "non_datetime_values\n",
    "\n",
    "all_data = all_data[all_data['Order Date'].notna()]\n",
    "\n",
    "# all_data.reset_index(['Order Date'], inplace=True)\n",
    "all_data['Month'] = all_data['Order Date'].dt.month\n",
    "all_data"
   ]
  },
  {
   "cell_type": "code",
   "execution_count": 11,
   "metadata": {},
   "outputs": [
    {
     "data": {
      "application/vnd.microsoft.datawrangler.viewer.v0+json": {
       "columns": [
        {
         "name": "index",
         "rawType": "object",
         "type": "string"
        },
        {
         "name": "0",
         "rawType": "object",
         "type": "unknown"
        }
       ],
       "ref": "2e8e9950-c6f5-4b01-aa8a-f121ed3f36f9",
       "rows": [
        [
         "Order ID",
         "object"
        ],
        [
         "Product",
         "object"
        ],
        [
         "Quantity Ordered",
         "object"
        ],
        [
         "Price Each",
         "object"
        ],
        [
         "Order Date",
         "datetime64[ns]"
        ],
        [
         "Purchase Address",
         "object"
        ],
        [
         "Month",
         "int32"
        ]
       ],
       "shape": {
        "columns": 1,
        "rows": 7
       }
      },
      "text/plain": [
       "Order ID                    object\n",
       "Product                     object\n",
       "Quantity Ordered            object\n",
       "Price Each                  object\n",
       "Order Date          datetime64[ns]\n",
       "Purchase Address            object\n",
       "Month                        int32\n",
       "dtype: object"
      ]
     },
     "execution_count": 11,
     "metadata": {},
     "output_type": "execute_result"
    }
   ],
   "source": [
    "all_data.dtypes"
   ]
  },
  {
   "cell_type": "code",
   "execution_count": 12,
   "metadata": {},
   "outputs": [
    {
     "name": "stderr",
     "output_type": "stream",
     "text": [
      "/var/folders/kh/hv0681hd5n1bnsmh2y16qm3h0000gn/T/ipykernel_71106/3646739576.py:1: SettingWithCopyWarning: \n",
      "A value is trying to be set on a copy of a slice from a DataFrame.\n",
      "Try using .loc[row_indexer,col_indexer] = value instead\n",
      "\n",
      "See the caveats in the documentation: https://pandas.pydata.org/pandas-docs/stable/user_guide/indexing.html#returning-a-view-versus-a-copy\n",
      "  all_data[\"Quantity Ordered\"] = all_data[\"Quantity Ordered\"].astype(int)\n",
      "/var/folders/kh/hv0681hd5n1bnsmh2y16qm3h0000gn/T/ipykernel_71106/3646739576.py:2: SettingWithCopyWarning: \n",
      "A value is trying to be set on a copy of a slice from a DataFrame.\n",
      "Try using .loc[row_indexer,col_indexer] = value instead\n",
      "\n",
      "See the caveats in the documentation: https://pandas.pydata.org/pandas-docs/stable/user_guide/indexing.html#returning-a-view-versus-a-copy\n",
      "  all_data[\"Price Each\"] = all_data[\"Price Each\"].astype(float)\n"
     ]
    }
   ],
   "source": [
    "all_data[\"Quantity Ordered\"] = all_data[\"Quantity Ordered\"].astype(int)\n",
    "all_data[\"Price Each\"] = all_data[\"Price Each\"].astype(float)"
   ]
  },
  {
   "cell_type": "code",
   "execution_count": 13,
   "metadata": {},
   "outputs": [
    {
     "data": {
      "application/vnd.microsoft.datawrangler.viewer.v0+json": {
       "columns": [
        {
         "name": "index",
         "rawType": "object",
         "type": "string"
        },
        {
         "name": "0",
         "rawType": "object",
         "type": "unknown"
        }
       ],
       "ref": "19cb2a04-17d0-40f4-95b2-eba12b731419",
       "rows": [
        [
         "Order ID",
         "object"
        ],
        [
         "Product",
         "object"
        ],
        [
         "Quantity Ordered",
         "int64"
        ],
        [
         "Price Each",
         "float64"
        ],
        [
         "Order Date",
         "datetime64[ns]"
        ],
        [
         "Purchase Address",
         "object"
        ],
        [
         "Month",
         "int32"
        ]
       ],
       "shape": {
        "columns": 1,
        "rows": 7
       }
      },
      "text/plain": [
       "Order ID                    object\n",
       "Product                     object\n",
       "Quantity Ordered             int64\n",
       "Price Each                 float64\n",
       "Order Date          datetime64[ns]\n",
       "Purchase Address            object\n",
       "Month                        int32\n",
       "dtype: object"
      ]
     },
     "execution_count": 13,
     "metadata": {},
     "output_type": "execute_result"
    }
   ],
   "source": [
    "all_data.dtypes"
   ]
  },
  {
   "cell_type": "code",
   "execution_count": 14,
   "metadata": {},
   "outputs": [
    {
     "name": "stderr",
     "output_type": "stream",
     "text": [
      "/var/folders/kh/hv0681hd5n1bnsmh2y16qm3h0000gn/T/ipykernel_71106/2859170033.py:1: SettingWithCopyWarning: \n",
      "A value is trying to be set on a copy of a slice from a DataFrame.\n",
      "Try using .loc[row_indexer,col_indexer] = value instead\n",
      "\n",
      "See the caveats in the documentation: https://pandas.pydata.org/pandas-docs/stable/user_guide/indexing.html#returning-a-view-versus-a-copy\n",
      "  all_data['Sales'] = all_data['Quantity Ordered'] * all_data['Price Each']\n"
     ]
    }
   ],
   "source": [
    "all_data['Sales'] = all_data['Quantity Ordered'] * all_data['Price Each']"
   ]
  },
  {
   "cell_type": "code",
   "execution_count": 15,
   "metadata": {},
   "outputs": [
    {
     "data": {
      "application/vnd.microsoft.datawrangler.viewer.v0+json": {
       "columns": [
        {
         "name": "Month",
         "rawType": "int32",
         "type": "integer"
        },
        {
         "name": "Sales",
         "rawType": "float64",
         "type": "float"
        }
       ],
       "ref": "898e7066-3dce-46e8-8c28-7622ac2de1c3",
       "rows": [
        [
         "1",
         "1821413.16"
        ],
        [
         "2",
         "2200078.08"
        ],
        [
         "3",
         "2804973.35"
        ],
        [
         "4",
         "3389217.98"
        ],
        [
         "5",
         "3150616.23"
        ],
        [
         "6",
         "2576280.15"
        ],
        [
         "7",
         "2646461.32"
        ],
        [
         "8",
         "2241083.37"
        ],
        [
         "9",
         "2094465.69"
        ],
        [
         "10",
         "3734777.86"
        ],
        [
         "11",
         "3197875.05"
        ],
        [
         "12",
         "4608295.7"
        ]
       ],
       "shape": {
        "columns": 1,
        "rows": 12
       }
      },
      "text/plain": [
       "Month\n",
       "1     1821413.16\n",
       "2     2200078.08\n",
       "3     2804973.35\n",
       "4     3389217.98\n",
       "5     3150616.23\n",
       "6     2576280.15\n",
       "7     2646461.32\n",
       "8     2241083.37\n",
       "9     2094465.69\n",
       "10    3734777.86\n",
       "11    3197875.05\n",
       "12    4608295.70\n",
       "Name: Sales, dtype: float64"
      ]
     },
     "execution_count": 15,
     "metadata": {},
     "output_type": "execute_result"
    }
   ],
   "source": [
    "all_data.groupby('Month')[\"Sales\"].sum()"
   ]
  },
  {
   "cell_type": "code",
   "execution_count": 16,
   "metadata": {},
   "outputs": [
    {
     "data": {
      "image/png": "[encoded data removed]",
      "text/plain": [
       "<Figure size 640x480 with 1 Axes>"
      ]
     },
     "metadata": {},
     "output_type": "display_data"
    }
   ],
   "source": [
    "all_data.groupby('Month')[\"Sales\"].sum().plot(kind='bar')\n",
    "plt.show()"
   ]
  }
 ],
 "metadata": {
  "kernelspec": {
   "display_name": "pyenv",
   "language": "python",
   "name": "python3"
  },
  "language_info": {
   "codemirror_mode": {
    "name": "ipython",
    "version": 3
   },
   "file_extension": ".py",
   "mimetype": "text/x-python",
   "name": "python",
   "nbconvert_exporter": "python",
   "pygments_lexer": "ipython3",
   "version": "3.11.13"
  }
 },
 "nbformat": 4,
 "nbformat_minor": 2
}
