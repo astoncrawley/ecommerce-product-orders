{
 "cells": [
  {
   "cell_type": "markdown",
   "metadata": {},
   "source": [
    "# 🛍 Ecommerce Order Analysis\n",
    "\n",
    "### Author: Aston Crawley"
   ]
  },
  {
   "cell_type": "code",
   "execution_count": null,
   "metadata": {},
   "outputs": [],
   "source": [
    "# ============== 1. Setup ==============\n",
    "# Import libraries\n",
    "import os\n",
    "import pandas as pd\n",
    "import matplotlib.pyplot as plt"
   ]
  },
  {
   "cell_type": "code",
   "execution_count": 2,
   "metadata": {},
   "outputs": [],
   "source": [
    "# import pyarrow"
   ]
  },
  {
   "cell_type": "code",
   "execution_count": null,
   "metadata": {},
   "outputs": [
    {
     "data": {
      "application/vnd.microsoft.datawrangler.viewer.v0+json": {
       "columns": [
        {
         "name": "index",
         "rawType": "int64",
         "type": "integer"
        },
        {
         "name": "Order ID",
         "rawType": "object",
         "type": "unknown"
        },
        {
         "name": "Product",
         "rawType": "object",
         "type": "unknown"
        },
        {
         "name": "Quantity Ordered",
         "rawType": "object",
         "type": "unknown"
        },
        {
         "name": "Price Each",
         "rawType": "object",
         "type": "unknown"
        },
        {
         "name": "Order Date",
         "rawType": "object",
         "type": "unknown"
        },
        {
         "name": "Purchase Address",
         "rawType": "object",
         "type": "unknown"
        }
       ],
       "ref": "4ddfa1d4-b2f5-4404-84b5-104894cef9f1",
       "rows": [
        [
         "0",
         "176558",
         "USB-C Charging Cable",
         "2",
         "11.95",
         "04/19/19 08:46",
         "917 1st St, Dallas, TX 75001"
        ],
        [
         "1",
         null,
         null,
         null,
         null,
         null,
         null
        ],
        [
         "2",
         "176559",
         "Bose SoundSport Headphones",
         "1",
         "99.99",
         "04/07/19 22:30",
         "682 Chestnut St, Boston, MA 02215"
        ],
        [
         "3",
         "176560",
         "Google Phone",
         "1",
         "600",
         "04/12/19 14:38",
         "669 Spruce St, Los Angeles, CA 90001"
        ],
        [
         "4",
         "176560",
         "Wired Headphones",
         "1",
         "11.99",
         "04/12/19 14:38",
         "669 Spruce St, Los Angeles, CA 90001"
        ],
        [
         "5",
         "176561",
         "Wired Headphones",
         "1",
         "11.99",
         "04/30/19 09:27",
         "333 8th St, Los Angeles, CA 90001"
        ],
        [
         "6",
         "176562",
         "USB-C Charging Cable",
         "1",
         "11.95",
         "04/29/19 13:03",
         "381 Wilson St, San Francisco, CA 94016"
        ],
        [
         "7",
         "176563",
         "Bose SoundSport Headphones",
         "1",
         "99.99",
         "04/02/19 07:46",
         "668 Center St, Seattle, WA 98101"
        ],
        [
         "8",
         "176564",
         "USB-C Charging Cable",
         "1",
         "11.95",
         "04/12/19 10:58",
         "790 Ridge St, Atlanta, GA 30301"
        ],
        [
         "9",
         "176565",
         "Macbook Pro Laptop",
         "1",
         "1700",
         "04/24/19 10:38",
         "915 Willow St, San Francisco, CA 94016"
        ],
        [
         "10",
         "176566",
         "Wired Headphones",
         "1",
         "11.99",
         "04/08/19 14:05",
         "83 7th St, Boston, MA 02215"
        ],
        [
         "11",
         "176567",
         "Google Phone",
         "1",
         "600",
         "04/18/19 17:18",
         "444 7th St, Los Angeles, CA 90001"
        ],
        [
         "12",
         "176568",
         "Lightning Charging Cable",
         "1",
         "14.95",
         "04/15/19 12:18",
         "438 Elm St, Seattle, WA 98101"
        ],
        [
         "13",
         "176569",
         "27in 4K Gaming Monitor",
         "1",
         "389.99",
         "04/16/19 19:23",
         "657 Hill St, Dallas, TX 75001"
        ],
        [
         "14",
         "176570",
         "AA Batteries (4-pack)",
         "1",
         "3.84",
         "04/22/19 15:09",
         "186 12th St, Dallas, TX 75001"
        ],
        [
         "15",
         "176571",
         "Lightning Charging Cable",
         "1",
         "14.95",
         "04/19/19 14:29",
         "253 Johnson St, Atlanta, GA 30301"
        ],
        [
         "16",
         "176572",
         "Apple Airpods Headphones",
         "1",
         "150",
         "04/04/19 20:30",
         "149 Dogwood St, New York City, NY 10001"
        ],
        [
         "17",
         "176573",
         "USB-C Charging Cable",
         "1",
         "11.95",
         "04/27/19 18:41",
         "214 Chestnut St, San Francisco, CA 94016"
        ],
        [
         "18",
         "176574",
         "Google Phone",
         "1",
         "600",
         "04/03/19 19:42",
         "20 Hill St, Los Angeles, CA 90001"
        ],
        [
         "19",
         "176574",
         "USB-C Charging Cable",
         "1",
         "11.95",
         "04/03/19 19:42",
         "20 Hill St, Los Angeles, CA 90001"
        ],
        [
         "20",
         "176575",
         "AAA Batteries (4-pack)",
         "1",
         "2.99",
         "04/27/19 00:30",
         "433 Hill St, New York City, NY 10001"
        ],
        [
         "21",
         "176576",
         "Apple Airpods Headphones",
         "1",
         "150",
         "04/28/19 11:42",
         "771 Ridge St, Los Angeles, CA 90001"
        ],
        [
         "22",
         "176577",
         "Apple Airpods Headphones",
         "1",
         "150",
         "04/04/19 19:25",
         "260 Spruce St, Dallas, TX 75001"
        ],
        [
         "23",
         "176578",
         "Apple Airpods Headphones",
         "1",
         "150",
         "04/09/19 23:35",
         "513 Church St, Boston, MA 02215"
        ],
        [
         "24",
         "176579",
         "AA Batteries (4-pack)",
         "1",
         "3.84",
         "04/11/19 10:23",
         "886 Jefferson St, New York City, NY 10001"
        ],
        [
         "25",
         "176580",
         "USB-C Charging Cable",
         "1",
         "11.95",
         "04/05/19 00:35",
         "886 Willow St, Los Angeles, CA 90001"
        ],
        [
         "26",
         "176581",
         "iPhone",
         "1",
         "700",
         "04/09/19 21:38",
         "84 Jackson St, Boston, MA 02215"
        ],
        [
         "27",
         "176582",
         "Bose SoundSport Headphones",
         "1",
         "99.99",
         "04/27/19 12:20",
         "178 Lincoln St, Atlanta, GA 30301"
        ],
        [
         "28",
         "176583",
         "AAA Batteries (4-pack)",
         "2",
         "2.99",
         "04/20/19 12:00",
         "146 Jackson St, Portland, OR 97035"
        ],
        [
         "29",
         "176584",
         "Flatscreen TV",
         "1",
         "300",
         "04/24/19 20:39",
         "936 Church St, San Francisco, CA 94016"
        ],
        [
         "30",
         "176585",
         "Bose SoundSport Headphones",
         "1",
         "99.99",
         "04/07/19 11:31",
         "823 Highland St, Boston, MA 02215"
        ],
        [
         "31",
         "176585",
         "Bose SoundSport Headphones",
         "1",
         "99.99",
         "04/07/19 11:31",
         "823 Highland St, Boston, MA 02215"
        ],
        [
         "32",
         "176586",
         "AAA Batteries (4-pack)",
         "2",
         "2.99",
         "04/10/19 17:00",
         "365 Center St, San Francisco, CA 94016"
        ],
        [
         "33",
         "176586",
         "Google Phone",
         "1",
         "600",
         "04/10/19 17:00",
         "365 Center St, San Francisco, CA 94016"
        ],
        [
         "34",
         "176587",
         "27in FHD Monitor",
         "1",
         "149.99",
         "04/29/19 19:38",
         "557 5th St, Los Angeles, CA 90001"
        ],
        [
         "35",
         "176588",
         "20in Monitor",
         "1",
         "109.99",
         "04/02/19 04:00",
         "765 Cherry St, Seattle, WA 98101"
        ],
        [
         "36",
         "176589",
         "Lightning Charging Cable",
         "1",
         "14.95",
         "04/04/19 12:23",
         "846 Highland St, Atlanta, GA 30301"
        ],
        [
         "37",
         "176590",
         "Google Phone",
         "1",
         "600",
         "04/11/19 11:46",
         "873 6th St, New York City, NY 10001"
        ],
        [
         "38",
         "176591",
         "Apple Airpods Headphones",
         "1",
         "150",
         "04/21/19 07:21",
         "600 Maple St, Austin, TX 73301"
        ],
        [
         "39",
         "176592",
         "USB-C Charging Cable",
         "1",
         "11.95",
         "04/27/19 13:04",
         "352 4th St, Los Angeles, CA 90001"
        ],
        [
         "40",
         "176593",
         "Lightning Charging Cable",
         "2",
         "14.95",
         "04/15/19 13:45",
         "906 7th St, Portland, OR 97035"
        ],
        [
         "41",
         "176594",
         "Wired Headphones",
         "1",
         "11.99",
         "04/17/19 23:04",
         "63 Maple St, San Francisco, CA 94016"
        ],
        [
         "42",
         "176595",
         "Wired Headphones",
         "3",
         "11.99",
         "04/02/19 09:11",
         "383 6th St, Los Angeles, CA 90001"
        ],
        [
         "43",
         "176596",
         "Apple Airpods Headphones",
         "1",
         "150",
         "04/27/19 20:11",
         "572 Meadow St, Dallas, TX 75001"
        ],
        [
         "44",
         "176597",
         "USB-C Charging Cable",
         "1",
         "11.95",
         "04/19/19 13:39",
         "681 11th St, San Francisco, CA 94016"
        ],
        [
         "45",
         "176598",
         "AAA Batteries (4-pack)",
         "2",
         "2.99",
         "04/21/19 20:33",
         "294 Park St, San Francisco, CA 94016"
        ],
        [
         "46",
         "176599",
         "Lightning Charging Cable",
         "1",
         "14.95",
         "04/11/19 15:25",
         "279 Maple St, New York City, NY 10001"
        ],
        [
         "47",
         "176600",
         "27in 4K Gaming Monitor",
         "1",
         "389.99",
         "04/30/19 15:54",
         "87 West St, Boston, MA 02215"
        ],
        [
         "48",
         "176601",
         "USB-C Charging Cable",
         "1",
         "11.95",
         "04/02/19 22:32",
         "754 10th St, Los Angeles, CA 90001"
        ],
        [
         "49",
         "176602",
         "Lightning Charging Cable",
         "1",
         "14.95",
         "04/30/19 09:39",
         "9 Jefferson St, Dallas, TX 75001"
        ]
       ],
       "shape": {
        "columns": 6,
        "rows": 186850
       }
      },
      "text/html": [
       "<div>\n",
       "<style scoped>\n",
       "    .dataframe tbody tr th:only-of-type {\n",
       "        vertical-align: middle;\n",
       "    }\n",
       "\n",
       "    .dataframe tbody tr th {\n",
       "        vertical-align: top;\n",
       "    }\n",
       "\n",
       "    .dataframe thead th {\n",
       "        text-align: right;\n",
       "    }\n",
       "</style>\n",
       "<table border=\"1\" class=\"dataframe\">\n",
       "  <thead>\n",
       "    <tr style=\"text-align: right;\">\n",
       "      <th></th>\n",
       "      <th>Order ID</th>\n",
       "      <th>Product</th>\n",
       "      <th>Quantity Ordered</th>\n",
       "      <th>Price Each</th>\n",
       "      <th>Order Date</th>\n",
       "      <th>Purchase Address</th>\n",
       "    </tr>\n",
       "  </thead>\n",
       "  <tbody>\n",
       "    <tr>\n",
       "      <th>0</th>\n",
       "      <td>176558</td>\n",
       "      <td>USB-C Charging Cable</td>\n",
       "      <td>2</td>\n",
       "      <td>11.95</td>\n",
       "      <td>04/19/19 08:46</td>\n",
       "      <td>917 1st St, Dallas, TX 75001</td>\n",
       "    </tr>\n",
       "    <tr>\n",
       "      <th>1</th>\n",
       "      <td>None</td>\n",
       "      <td>None</td>\n",
       "      <td>None</td>\n",
       "      <td>None</td>\n",
       "      <td>None</td>\n",
       "      <td>None</td>\n",
       "    </tr>\n",
       "    <tr>\n",
       "      <th>2</th>\n",
       "      <td>176559</td>\n",
       "      <td>Bose SoundSport Headphones</td>\n",
       "      <td>1</td>\n",
       "      <td>99.99</td>\n",
       "      <td>04/07/19 22:30</td>\n",
       "      <td>682 Chestnut St, Boston, MA 02215</td>\n",
       "    </tr>\n",
       "    <tr>\n",
       "      <th>3</th>\n",
       "      <td>176560</td>\n",
       "      <td>Google Phone</td>\n",
       "      <td>1</td>\n",
       "      <td>600</td>\n",
       "      <td>04/12/19 14:38</td>\n",
       "      <td>669 Spruce St, Los Angeles, CA 90001</td>\n",
       "    </tr>\n",
       "    <tr>\n",
       "      <th>4</th>\n",
       "      <td>176560</td>\n",
       "      <td>Wired Headphones</td>\n",
       "      <td>1</td>\n",
       "      <td>11.99</td>\n",
       "      <td>04/12/19 14:38</td>\n",
       "      <td>669 Spruce St, Los Angeles, CA 90001</td>\n",
       "    </tr>\n",
       "    <tr>\n",
       "      <th>...</th>\n",
       "      <td>...</td>\n",
       "      <td>...</td>\n",
       "      <td>...</td>\n",
       "      <td>...</td>\n",
       "      <td>...</td>\n",
       "      <td>...</td>\n",
       "    </tr>\n",
       "    <tr>\n",
       "      <th>186845</th>\n",
       "      <td>259353</td>\n",
       "      <td>AAA Batteries (4-pack)</td>\n",
       "      <td>3</td>\n",
       "      <td>2.99</td>\n",
       "      <td>09/17/19 20:56</td>\n",
       "      <td>840 Highland St, Los Angeles, CA 90001</td>\n",
       "    </tr>\n",
       "    <tr>\n",
       "      <th>186846</th>\n",
       "      <td>259354</td>\n",
       "      <td>iPhone</td>\n",
       "      <td>1</td>\n",
       "      <td>700</td>\n",
       "      <td>09/01/19 16:00</td>\n",
       "      <td>216 Dogwood St, San Francisco, CA 94016</td>\n",
       "    </tr>\n",
       "    <tr>\n",
       "      <th>186847</th>\n",
       "      <td>259355</td>\n",
       "      <td>iPhone</td>\n",
       "      <td>1</td>\n",
       "      <td>700</td>\n",
       "      <td>09/23/19 07:39</td>\n",
       "      <td>220 12th St, San Francisco, CA 94016</td>\n",
       "    </tr>\n",
       "    <tr>\n",
       "      <th>186848</th>\n",
       "      <td>259356</td>\n",
       "      <td>34in Ultrawide Monitor</td>\n",
       "      <td>1</td>\n",
       "      <td>379.99</td>\n",
       "      <td>09/19/19 17:30</td>\n",
       "      <td>511 Forest St, San Francisco, CA 94016</td>\n",
       "    </tr>\n",
       "    <tr>\n",
       "      <th>186849</th>\n",
       "      <td>259357</td>\n",
       "      <td>USB-C Charging Cable</td>\n",
       "      <td>1</td>\n",
       "      <td>11.95</td>\n",
       "      <td>09/30/19 00:18</td>\n",
       "      <td>250 Meadow St, San Francisco, CA 94016</td>\n",
       "    </tr>\n",
       "  </tbody>\n",
       "</table>\n",
       "<p>186850 rows × 6 columns</p>\n",
       "</div>"
      ],
      "text/plain": [
       "       Order ID                     Product Quantity Ordered Price Each  \\\n",
       "0        176558        USB-C Charging Cable                2      11.95   \n",
       "1          None                        None             None       None   \n",
       "2        176559  Bose SoundSport Headphones                1      99.99   \n",
       "3        176560                Google Phone                1        600   \n",
       "4        176560            Wired Headphones                1      11.99   \n",
       "...         ...                         ...              ...        ...   \n",
       "186845   259353      AAA Batteries (4-pack)                3       2.99   \n",
       "186846   259354                      iPhone                1        700   \n",
       "186847   259355                      iPhone                1        700   \n",
       "186848   259356      34in Ultrawide Monitor                1     379.99   \n",
       "186849   259357        USB-C Charging Cable                1      11.95   \n",
       "\n",
       "            Order Date                         Purchase Address  \n",
       "0       04/19/19 08:46             917 1st St, Dallas, TX 75001  \n",
       "1                 None                                     None  \n",
       "2       04/07/19 22:30        682 Chestnut St, Boston, MA 02215  \n",
       "3       04/12/19 14:38     669 Spruce St, Los Angeles, CA 90001  \n",
       "4       04/12/19 14:38     669 Spruce St, Los Angeles, CA 90001  \n",
       "...                ...                                      ...  \n",
       "186845  09/17/19 20:56   840 Highland St, Los Angeles, CA 90001  \n",
       "186846  09/01/19 16:00  216 Dogwood St, San Francisco, CA 94016  \n",
       "186847  09/23/19 07:39     220 12th St, San Francisco, CA 94016  \n",
       "186848  09/19/19 17:30   511 Forest St, San Francisco, CA 94016  \n",
       "186849  09/30/19 00:18   250 Meadow St, San Francisco, CA 94016  \n",
       "\n",
       "[186850 rows x 6 columns]"
      ]
     },
     "execution_count": 3,
     "metadata": {},
     "output_type": "execute_result"
    }
   ],
   "source": [
    "# ============== 2. Data Loading ==============\n",
    "# Load sales data from feather file\n",
    "all_data = pd.read_feather(os.path.join(\"..\", \"data\", \"Sales_data.ftr\"))\n",
    "all_data"
   ]
  },
  {
   "cell_type": "code",
   "execution_count": null,
   "metadata": {},
   "outputs": [
    {
     "data": {
      "application/vnd.microsoft.datawrangler.viewer.v0+json": {
       "columns": [
        {
         "name": "index",
         "rawType": "object",
         "type": "string"
        },
        {
         "name": "0",
         "rawType": "int64",
         "type": "integer"
        }
       ],
       "ref": "b5607bd4-9e31-41fe-aefe-a6147b7013f5",
       "rows": [
        [
         "Order ID",
         "545"
        ],
        [
         "Product",
         "545"
        ],
        [
         "Quantity Ordered",
         "545"
        ],
        [
         "Price Each",
         "545"
        ],
        [
         "Order Date",
         "545"
        ],
        [
         "Purchase Address",
         "545"
        ]
       ],
       "shape": {
        "columns": 1,
        "rows": 6
       }
      },
      "text/plain": [
       "Order ID            545\n",
       "Product             545\n",
       "Quantity Ordered    545\n",
       "Price Each          545\n",
       "Order Date          545\n",
       "Purchase Address    545\n",
       "dtype: int64"
      ]
     },
     "execution_count": 4,
     "metadata": {},
     "output_type": "execute_result"
    }
   ],
   "source": [
    "# ============== 3. Data Cleaning ==============\n",
    "# Check for missing values\n",
    "all_data.isnull().sum()"
   ]
  },
  {
   "cell_type": "code",
   "execution_count": null,
   "metadata": {},
   "outputs": [
    {
     "data": {
      "application/vnd.microsoft.datawrangler.viewer.v0+json": {
       "columns": [
        {
         "name": "index",
         "rawType": "object",
         "type": "string"
        },
        {
         "name": "0",
         "rawType": "int64",
         "type": "integer"
        }
       ],
       "ref": "f6c3562d-b7ea-4b20-b46d-ec7fffd1ae9c",
       "rows": [
        [
         "Order ID",
         "0"
        ],
        [
         "Product",
         "0"
        ],
        [
         "Quantity Ordered",
         "0"
        ],
        [
         "Price Each",
         "0"
        ],
        [
         "Order Date",
         "0"
        ],
        [
         "Purchase Address",
         "0"
        ]
       ],
       "shape": {
        "columns": 1,
        "rows": 6
       }
      },
      "text/plain": [
       "Order ID            0\n",
       "Product             0\n",
       "Quantity Ordered    0\n",
       "Price Each          0\n",
       "Order Date          0\n",
       "Purchase Address    0\n",
       "dtype: int64"
      ]
     },
     "execution_count": 5,
     "metadata": {},
     "output_type": "execute_result"
    }
   ],
   "source": [
    "# Handle missing values\n",
    "all_data.dropna(how='all', inplace=True)\n",
    "all_data.isnull().sum()"
   ]
  },
  {
   "cell_type": "code",
   "execution_count": null,
   "metadata": {},
   "outputs": [
    {
     "data": {
      "text/plain": [
       "np.int64(618)"
      ]
     },
     "execution_count": 6,
     "metadata": {},
     "output_type": "execute_result"
    }
   ],
   "source": [
    "# Check for duplicates\n",
    "all_data.duplicated().sum()"
   ]
  },
  {
   "cell_type": "code",
   "execution_count": null,
   "metadata": {},
   "outputs": [],
   "source": [
    "# Handle duplicate values\n",
    "all_data.drop_duplicates(inplace=True)"
   ]
  },
  {
   "cell_type": "code",
   "execution_count": null,
   "metadata": {},
   "outputs": [
    {
     "data": {
      "text/plain": [
       "np.int64(0)"
      ]
     },
     "execution_count": 8,
     "metadata": {},
     "output_type": "execute_result"
    }
   ],
   "source": [
    "# Verify duplicates are removed\n",
    "all_data.duplicated().sum()"
   ]
  },
  {
   "cell_type": "code",
   "execution_count": null,
   "metadata": {},
   "outputs": [
    {
     "data": {
      "application/vnd.microsoft.datawrangler.viewer.v0+json": {
       "columns": [
        {
         "name": "index",
         "rawType": "int64",
         "type": "integer"
        },
        {
         "name": "Order ID",
         "rawType": "object",
         "type": "string"
        },
        {
         "name": "Product",
         "rawType": "object",
         "type": "string"
        },
        {
         "name": "Quantity Ordered",
         "rawType": "object",
         "type": "string"
        },
        {
         "name": "Price Each",
         "rawType": "object",
         "type": "string"
        },
        {
         "name": "Order Date",
         "rawType": "object",
         "type": "string"
        },
        {
         "name": "Purchase Address",
         "rawType": "object",
         "type": "string"
        }
       ],
       "ref": "121d1c40-ad0e-44b1-a0a6-df08ddeb1d8f",
       "rows": [
        [
         "0",
         "176558",
         "USB-C Charging Cable",
         "2",
         "11.95",
         "04/19/19 08:46",
         "917 1st St, Dallas, TX 75001"
        ],
        [
         "2",
         "176559",
         "Bose SoundSport Headphones",
         "1",
         "99.99",
         "04/07/19 22:30",
         "682 Chestnut St, Boston, MA 02215"
        ],
        [
         "3",
         "176560",
         "Google Phone",
         "1",
         "600",
         "04/12/19 14:38",
         "669 Spruce St, Los Angeles, CA 90001"
        ],
        [
         "4",
         "176560",
         "Wired Headphones",
         "1",
         "11.99",
         "04/12/19 14:38",
         "669 Spruce St, Los Angeles, CA 90001"
        ],
        [
         "5",
         "176561",
         "Wired Headphones",
         "1",
         "11.99",
         "04/30/19 09:27",
         "333 8th St, Los Angeles, CA 90001"
        ],
        [
         "6",
         "176562",
         "USB-C Charging Cable",
         "1",
         "11.95",
         "04/29/19 13:03",
         "381 Wilson St, San Francisco, CA 94016"
        ],
        [
         "7",
         "176563",
         "Bose SoundSport Headphones",
         "1",
         "99.99",
         "04/02/19 07:46",
         "668 Center St, Seattle, WA 98101"
        ],
        [
         "8",
         "176564",
         "USB-C Charging Cable",
         "1",
         "11.95",
         "04/12/19 10:58",
         "790 Ridge St, Atlanta, GA 30301"
        ],
        [
         "9",
         "176565",
         "Macbook Pro Laptop",
         "1",
         "1700",
         "04/24/19 10:38",
         "915 Willow St, San Francisco, CA 94016"
        ],
        [
         "10",
         "176566",
         "Wired Headphones",
         "1",
         "11.99",
         "04/08/19 14:05",
         "83 7th St, Boston, MA 02215"
        ],
        [
         "11",
         "176567",
         "Google Phone",
         "1",
         "600",
         "04/18/19 17:18",
         "444 7th St, Los Angeles, CA 90001"
        ],
        [
         "12",
         "176568",
         "Lightning Charging Cable",
         "1",
         "14.95",
         "04/15/19 12:18",
         "438 Elm St, Seattle, WA 98101"
        ],
        [
         "13",
         "176569",
         "27in 4K Gaming Monitor",
         "1",
         "389.99",
         "04/16/19 19:23",
         "657 Hill St, Dallas, TX 75001"
        ],
        [
         "14",
         "176570",
         "AA Batteries (4-pack)",
         "1",
         "3.84",
         "04/22/19 15:09",
         "186 12th St, Dallas, TX 75001"
        ],
        [
         "15",
         "176571",
         "Lightning Charging Cable",
         "1",
         "14.95",
         "04/19/19 14:29",
         "253 Johnson St, Atlanta, GA 30301"
        ],
        [
         "16",
         "176572",
         "Apple Airpods Headphones",
         "1",
         "150",
         "04/04/19 20:30",
         "149 Dogwood St, New York City, NY 10001"
        ],
        [
         "17",
         "176573",
         "USB-C Charging Cable",
         "1",
         "11.95",
         "04/27/19 18:41",
         "214 Chestnut St, San Francisco, CA 94016"
        ],
        [
         "18",
         "176574",
         "Google Phone",
         "1",
         "600",
         "04/03/19 19:42",
         "20 Hill St, Los Angeles, CA 90001"
        ],
        [
         "19",
         "176574",
         "USB-C Charging Cable",
         "1",
         "11.95",
         "04/03/19 19:42",
         "20 Hill St, Los Angeles, CA 90001"
        ],
        [
         "20",
         "176575",
         "AAA Batteries (4-pack)",
         "1",
         "2.99",
         "04/27/19 00:30",
         "433 Hill St, New York City, NY 10001"
        ],
        [
         "21",
         "176576",
         "Apple Airpods Headphones",
         "1",
         "150",
         "04/28/19 11:42",
         "771 Ridge St, Los Angeles, CA 90001"
        ],
        [
         "22",
         "176577",
         "Apple Airpods Headphones",
         "1",
         "150",
         "04/04/19 19:25",
         "260 Spruce St, Dallas, TX 75001"
        ],
        [
         "23",
         "176578",
         "Apple Airpods Headphones",
         "1",
         "150",
         "04/09/19 23:35",
         "513 Church St, Boston, MA 02215"
        ],
        [
         "24",
         "176579",
         "AA Batteries (4-pack)",
         "1",
         "3.84",
         "04/11/19 10:23",
         "886 Jefferson St, New York City, NY 10001"
        ],
        [
         "25",
         "176580",
         "USB-C Charging Cable",
         "1",
         "11.95",
         "04/05/19 00:35",
         "886 Willow St, Los Angeles, CA 90001"
        ],
        [
         "26",
         "176581",
         "iPhone",
         "1",
         "700",
         "04/09/19 21:38",
         "84 Jackson St, Boston, MA 02215"
        ],
        [
         "27",
         "176582",
         "Bose SoundSport Headphones",
         "1",
         "99.99",
         "04/27/19 12:20",
         "178 Lincoln St, Atlanta, GA 30301"
        ],
        [
         "28",
         "176583",
         "AAA Batteries (4-pack)",
         "2",
         "2.99",
         "04/20/19 12:00",
         "146 Jackson St, Portland, OR 97035"
        ],
        [
         "29",
         "176584",
         "Flatscreen TV",
         "1",
         "300",
         "04/24/19 20:39",
         "936 Church St, San Francisco, CA 94016"
        ],
        [
         "30",
         "176585",
         "Bose SoundSport Headphones",
         "1",
         "99.99",
         "04/07/19 11:31",
         "823 Highland St, Boston, MA 02215"
        ],
        [
         "32",
         "176586",
         "AAA Batteries (4-pack)",
         "2",
         "2.99",
         "04/10/19 17:00",
         "365 Center St, San Francisco, CA 94016"
        ],
        [
         "33",
         "176586",
         "Google Phone",
         "1",
         "600",
         "04/10/19 17:00",
         "365 Center St, San Francisco, CA 94016"
        ],
        [
         "34",
         "176587",
         "27in FHD Monitor",
         "1",
         "149.99",
         "04/29/19 19:38",
         "557 5th St, Los Angeles, CA 90001"
        ],
        [
         "35",
         "176588",
         "20in Monitor",
         "1",
         "109.99",
         "04/02/19 04:00",
         "765 Cherry St, Seattle, WA 98101"
        ],
        [
         "36",
         "176589",
         "Lightning Charging Cable",
         "1",
         "14.95",
         "04/04/19 12:23",
         "846 Highland St, Atlanta, GA 30301"
        ],
        [
         "37",
         "176590",
         "Google Phone",
         "1",
         "600",
         "04/11/19 11:46",
         "873 6th St, New York City, NY 10001"
        ],
        [
         "38",
         "176591",
         "Apple Airpods Headphones",
         "1",
         "150",
         "04/21/19 07:21",
         "600 Maple St, Austin, TX 73301"
        ],
        [
         "39",
         "176592",
         "USB-C Charging Cable",
         "1",
         "11.95",
         "04/27/19 13:04",
         "352 4th St, Los Angeles, CA 90001"
        ],
        [
         "40",
         "176593",
         "Lightning Charging Cable",
         "2",
         "14.95",
         "04/15/19 13:45",
         "906 7th St, Portland, OR 97035"
        ],
        [
         "41",
         "176594",
         "Wired Headphones",
         "1",
         "11.99",
         "04/17/19 23:04",
         "63 Maple St, San Francisco, CA 94016"
        ],
        [
         "42",
         "176595",
         "Wired Headphones",
         "3",
         "11.99",
         "04/02/19 09:11",
         "383 6th St, Los Angeles, CA 90001"
        ],
        [
         "43",
         "176596",
         "Apple Airpods Headphones",
         "1",
         "150",
         "04/27/19 20:11",
         "572 Meadow St, Dallas, TX 75001"
        ],
        [
         "44",
         "176597",
         "USB-C Charging Cable",
         "1",
         "11.95",
         "04/19/19 13:39",
         "681 11th St, San Francisco, CA 94016"
        ],
        [
         "45",
         "176598",
         "AAA Batteries (4-pack)",
         "2",
         "2.99",
         "04/21/19 20:33",
         "294 Park St, San Francisco, CA 94016"
        ],
        [
         "46",
         "176599",
         "Lightning Charging Cable",
         "1",
         "14.95",
         "04/11/19 15:25",
         "279 Maple St, New York City, NY 10001"
        ],
        [
         "47",
         "176600",
         "27in 4K Gaming Monitor",
         "1",
         "389.99",
         "04/30/19 15:54",
         "87 West St, Boston, MA 02215"
        ],
        [
         "48",
         "176601",
         "USB-C Charging Cable",
         "1",
         "11.95",
         "04/02/19 22:32",
         "754 10th St, Los Angeles, CA 90001"
        ],
        [
         "49",
         "176602",
         "Lightning Charging Cable",
         "1",
         "14.95",
         "04/30/19 09:39",
         "9 Jefferson St, Dallas, TX 75001"
        ],
        [
         "50",
         "176603",
         "USB-C Charging Cable",
         "1",
         "11.95",
         "04/01/19 07:46",
         "858 6th St, San Francisco, CA 94016"
        ],
        [
         "51",
         "176604",
         "USB-C Charging Cable",
         "1",
         "11.95",
         "04/02/19 10:57",
         "462 11th St, San Francisco, CA 94016"
        ]
       ],
       "shape": {
        "columns": 6,
        "rows": 185687
       }
      },
      "text/html": [
       "<div>\n",
       "<style scoped>\n",
       "    .dataframe tbody tr th:only-of-type {\n",
       "        vertical-align: middle;\n",
       "    }\n",
       "\n",
       "    .dataframe tbody tr th {\n",
       "        vertical-align: top;\n",
       "    }\n",
       "\n",
       "    .dataframe thead th {\n",
       "        text-align: right;\n",
       "    }\n",
       "</style>\n",
       "<table border=\"1\" class=\"dataframe\">\n",
       "  <thead>\n",
       "    <tr style=\"text-align: right;\">\n",
       "      <th></th>\n",
       "      <th>Order ID</th>\n",
       "      <th>Product</th>\n",
       "      <th>Quantity Ordered</th>\n",
       "      <th>Price Each</th>\n",
       "      <th>Order Date</th>\n",
       "      <th>Purchase Address</th>\n",
       "    </tr>\n",
       "  </thead>\n",
       "  <tbody>\n",
       "    <tr>\n",
       "      <th>0</th>\n",
       "      <td>176558</td>\n",
       "      <td>USB-C Charging Cable</td>\n",
       "      <td>2</td>\n",
       "      <td>11.95</td>\n",
       "      <td>04/19/19 08:46</td>\n",
       "      <td>917 1st St, Dallas, TX 75001</td>\n",
       "    </tr>\n",
       "    <tr>\n",
       "      <th>2</th>\n",
       "      <td>176559</td>\n",
       "      <td>Bose SoundSport Headphones</td>\n",
       "      <td>1</td>\n",
       "      <td>99.99</td>\n",
       "      <td>04/07/19 22:30</td>\n",
       "      <td>682 Chestnut St, Boston, MA 02215</td>\n",
       "    </tr>\n",
       "    <tr>\n",
       "      <th>3</th>\n",
       "      <td>176560</td>\n",
       "      <td>Google Phone</td>\n",
       "      <td>1</td>\n",
       "      <td>600</td>\n",
       "      <td>04/12/19 14:38</td>\n",
       "      <td>669 Spruce St, Los Angeles, CA 90001</td>\n",
       "    </tr>\n",
       "    <tr>\n",
       "      <th>4</th>\n",
       "      <td>176560</td>\n",
       "      <td>Wired Headphones</td>\n",
       "      <td>1</td>\n",
       "      <td>11.99</td>\n",
       "      <td>04/12/19 14:38</td>\n",
       "      <td>669 Spruce St, Los Angeles, CA 90001</td>\n",
       "    </tr>\n",
       "    <tr>\n",
       "      <th>5</th>\n",
       "      <td>176561</td>\n",
       "      <td>Wired Headphones</td>\n",
       "      <td>1</td>\n",
       "      <td>11.99</td>\n",
       "      <td>04/30/19 09:27</td>\n",
       "      <td>333 8th St, Los Angeles, CA 90001</td>\n",
       "    </tr>\n",
       "    <tr>\n",
       "      <th>...</th>\n",
       "      <td>...</td>\n",
       "      <td>...</td>\n",
       "      <td>...</td>\n",
       "      <td>...</td>\n",
       "      <td>...</td>\n",
       "      <td>...</td>\n",
       "    </tr>\n",
       "    <tr>\n",
       "      <th>186845</th>\n",
       "      <td>259353</td>\n",
       "      <td>AAA Batteries (4-pack)</td>\n",
       "      <td>3</td>\n",
       "      <td>2.99</td>\n",
       "      <td>09/17/19 20:56</td>\n",
       "      <td>840 Highland St, Los Angeles, CA 90001</td>\n",
       "    </tr>\n",
       "    <tr>\n",
       "      <th>186846</th>\n",
       "      <td>259354</td>\n",
       "      <td>iPhone</td>\n",
       "      <td>1</td>\n",
       "      <td>700</td>\n",
       "      <td>09/01/19 16:00</td>\n",
       "      <td>216 Dogwood St, San Francisco, CA 94016</td>\n",
       "    </tr>\n",
       "    <tr>\n",
       "      <th>186847</th>\n",
       "      <td>259355</td>\n",
       "      <td>iPhone</td>\n",
       "      <td>1</td>\n",
       "      <td>700</td>\n",
       "      <td>09/23/19 07:39</td>\n",
       "      <td>220 12th St, San Francisco, CA 94016</td>\n",
       "    </tr>\n",
       "    <tr>\n",
       "      <th>186848</th>\n",
       "      <td>259356</td>\n",
       "      <td>34in Ultrawide Monitor</td>\n",
       "      <td>1</td>\n",
       "      <td>379.99</td>\n",
       "      <td>09/19/19 17:30</td>\n",
       "      <td>511 Forest St, San Francisco, CA 94016</td>\n",
       "    </tr>\n",
       "    <tr>\n",
       "      <th>186849</th>\n",
       "      <td>259357</td>\n",
       "      <td>USB-C Charging Cable</td>\n",
       "      <td>1</td>\n",
       "      <td>11.95</td>\n",
       "      <td>09/30/19 00:18</td>\n",
       "      <td>250 Meadow St, San Francisco, CA 94016</td>\n",
       "    </tr>\n",
       "  </tbody>\n",
       "</table>\n",
       "<p>185687 rows × 6 columns</p>\n",
       "</div>"
      ],
      "text/plain": [
       "       Order ID                     Product Quantity Ordered Price Each  \\\n",
       "0        176558        USB-C Charging Cable                2      11.95   \n",
       "2        176559  Bose SoundSport Headphones                1      99.99   \n",
       "3        176560                Google Phone                1        600   \n",
       "4        176560            Wired Headphones                1      11.99   \n",
       "5        176561            Wired Headphones                1      11.99   \n",
       "...         ...                         ...              ...        ...   \n",
       "186845   259353      AAA Batteries (4-pack)                3       2.99   \n",
       "186846   259354                      iPhone                1        700   \n",
       "186847   259355                      iPhone                1        700   \n",
       "186848   259356      34in Ultrawide Monitor                1     379.99   \n",
       "186849   259357        USB-C Charging Cable                1      11.95   \n",
       "\n",
       "            Order Date                         Purchase Address  \n",
       "0       04/19/19 08:46             917 1st St, Dallas, TX 75001  \n",
       "2       04/07/19 22:30        682 Chestnut St, Boston, MA 02215  \n",
       "3       04/12/19 14:38     669 Spruce St, Los Angeles, CA 90001  \n",
       "4       04/12/19 14:38     669 Spruce St, Los Angeles, CA 90001  \n",
       "5       04/30/19 09:27        333 8th St, Los Angeles, CA 90001  \n",
       "...                ...                                      ...  \n",
       "186845  09/17/19 20:56   840 Highland St, Los Angeles, CA 90001  \n",
       "186846  09/01/19 16:00  216 Dogwood St, San Francisco, CA 94016  \n",
       "186847  09/23/19 07:39     220 12th St, San Francisco, CA 94016  \n",
       "186848  09/19/19 17:30   511 Forest St, San Francisco, CA 94016  \n",
       "186849  09/30/19 00:18   250 Meadow St, San Francisco, CA 94016  \n",
       "\n",
       "[185687 rows x 6 columns]"
      ]
     },
     "execution_count": 9,
     "metadata": {},
     "output_type": "execute_result"
    }
   ],
   "source": [
    "# Preview cleaned data\n",
    "all_data"
   ]
  },
  {
   "cell_type": "code",
   "execution_count": null,
   "metadata": {},
   "outputs": [],
   "source": []
  },
  {
   "cell_type": "code",
   "execution_count": null,
   "metadata": {},
   "outputs": [
    {
     "name": "stderr",
     "output_type": "stream",
     "text": [
      "/var/folders/kh/hv0681hd5n1bnsmh2y16qm3h0000gn/T/ipykernel_74378/1827656800.py:9: SettingWithCopyWarning: \n",
      "A value is trying to be set on a copy of a slice from a DataFrame.\n",
      "Try using .loc[row_indexer,col_indexer] = value instead\n",
      "\n",
      "See the caveats in the documentation: https://pandas.pydata.org/pandas-docs/stable/user_guide/indexing.html#returning-a-view-versus-a-copy\n",
      "  all_data['Month'] = all_data['Order Date'].dt.month\n"
     ]
    },
    {
     "data": {
      "application/vnd.microsoft.datawrangler.viewer.v0+json": {
       "columns": [
        {
         "name": "index",
         "rawType": "int64",
         "type": "integer"
        },
        {
         "name": "Order ID",
         "rawType": "object",
         "type": "string"
        },
        {
         "name": "Product",
         "rawType": "object",
         "type": "string"
        },
        {
         "name": "Quantity Ordered",
         "rawType": "object",
         "type": "string"
        },
        {
         "name": "Price Each",
         "rawType": "object",
         "type": "string"
        },
        {
         "name": "Order Date",
         "rawType": "datetime64[ns]",
         "type": "datetime"
        },
        {
         "name": "Purchase Address",
         "rawType": "object",
         "type": "string"
        },
        {
         "name": "Month",
         "rawType": "int32",
         "type": "integer"
        }
       ],
       "ref": "601776cb-30b6-4490-8f2a-2f4e05626023",
       "rows": [
        [
         "0",
         "176558",
         "USB-C Charging Cable",
         "2",
         "11.95",
         "2019-04-19 08:46:00",
         "917 1st St, Dallas, TX 75001",
         "4"
        ],
        [
         "2",
         "176559",
         "Bose SoundSport Headphones",
         "1",
         "99.99",
         "2019-04-07 22:30:00",
         "682 Chestnut St, Boston, MA 02215",
         "4"
        ],
        [
         "3",
         "176560",
         "Google Phone",
         "1",
         "600",
         "2019-04-12 14:38:00",
         "669 Spruce St, Los Angeles, CA 90001",
         "4"
        ],
        [
         "4",
         "176560",
         "Wired Headphones",
         "1",
         "11.99",
         "2019-04-12 14:38:00",
         "669 Spruce St, Los Angeles, CA 90001",
         "4"
        ],
        [
         "5",
         "176561",
         "Wired Headphones",
         "1",
         "11.99",
         "2019-04-30 09:27:00",
         "333 8th St, Los Angeles, CA 90001",
         "4"
        ],
        [
         "6",
         "176562",
         "USB-C Charging Cable",
         "1",
         "11.95",
         "2019-04-29 13:03:00",
         "381 Wilson St, San Francisco, CA 94016",
         "4"
        ],
        [
         "7",
         "176563",
         "Bose SoundSport Headphones",
         "1",
         "99.99",
         "2019-04-02 07:46:00",
         "668 Center St, Seattle, WA 98101",
         "4"
        ],
        [
         "8",
         "176564",
         "USB-C Charging Cable",
         "1",
         "11.95",
         "2019-04-12 10:58:00",
         "790 Ridge St, Atlanta, GA 30301",
         "4"
        ],
        [
         "9",
         "176565",
         "Macbook Pro Laptop",
         "1",
         "1700",
         "2019-04-24 10:38:00",
         "915 Willow St, San Francisco, CA 94016",
         "4"
        ],
        [
         "10",
         "176566",
         "Wired Headphones",
         "1",
         "11.99",
         "2019-04-08 14:05:00",
         "83 7th St, Boston, MA 02215",
         "4"
        ],
        [
         "11",
         "176567",
         "Google Phone",
         "1",
         "600",
         "2019-04-18 17:18:00",
         "444 7th St, Los Angeles, CA 90001",
         "4"
        ],
        [
         "12",
         "176568",
         "Lightning Charging Cable",
         "1",
         "14.95",
         "2019-04-15 12:18:00",
         "438 Elm St, Seattle, WA 98101",
         "4"
        ],
        [
         "13",
         "176569",
         "27in 4K Gaming Monitor",
         "1",
         "389.99",
         "2019-04-16 19:23:00",
         "657 Hill St, Dallas, TX 75001",
         "4"
        ],
        [
         "14",
         "176570",
         "AA Batteries (4-pack)",
         "1",
         "3.84",
         "2019-04-22 15:09:00",
         "186 12th St, Dallas, TX 75001",
         "4"
        ],
        [
         "15",
         "176571",
         "Lightning Charging Cable",
         "1",
         "14.95",
         "2019-04-19 14:29:00",
         "253 Johnson St, Atlanta, GA 30301",
         "4"
        ],
        [
         "16",
         "176572",
         "Apple Airpods Headphones",
         "1",
         "150",
         "2019-04-04 20:30:00",
         "149 Dogwood St, New York City, NY 10001",
         "4"
        ],
        [
         "17",
         "176573",
         "USB-C Charging Cable",
         "1",
         "11.95",
         "2019-04-27 18:41:00",
         "214 Chestnut St, San Francisco, CA 94016",
         "4"
        ],
        [
         "18",
         "176574",
         "Google Phone",
         "1",
         "600",
         "2019-04-03 19:42:00",
         "20 Hill St, Los Angeles, CA 90001",
         "4"
        ],
        [
         "19",
         "176574",
         "USB-C Charging Cable",
         "1",
         "11.95",
         "2019-04-03 19:42:00",
         "20 Hill St, Los Angeles, CA 90001",
         "4"
        ],
        [
         "20",
         "176575",
         "AAA Batteries (4-pack)",
         "1",
         "2.99",
         "2019-04-27 00:30:00",
         "433 Hill St, New York City, NY 10001",
         "4"
        ],
        [
         "21",
         "176576",
         "Apple Airpods Headphones",
         "1",
         "150",
         "2019-04-28 11:42:00",
         "771 Ridge St, Los Angeles, CA 90001",
         "4"
        ],
        [
         "22",
         "176577",
         "Apple Airpods Headphones",
         "1",
         "150",
         "2019-04-04 19:25:00",
         "260 Spruce St, Dallas, TX 75001",
         "4"
        ],
        [
         "23",
         "176578",
         "Apple Airpods Headphones",
         "1",
         "150",
         "2019-04-09 23:35:00",
         "513 Church St, Boston, MA 02215",
         "4"
        ],
        [
         "24",
         "176579",
         "AA Batteries (4-pack)",
         "1",
         "3.84",
         "2019-04-11 10:23:00",
         "886 Jefferson St, New York City, NY 10001",
         "4"
        ],
        [
         "25",
         "176580",
         "USB-C Charging Cable",
         "1",
         "11.95",
         "2019-04-05 00:35:00",
         "886 Willow St, Los Angeles, CA 90001",
         "4"
        ],
        [
         "26",
         "176581",
         "iPhone",
         "1",
         "700",
         "2019-04-09 21:38:00",
         "84 Jackson St, Boston, MA 02215",
         "4"
        ],
        [
         "27",
         "176582",
         "Bose SoundSport Headphones",
         "1",
         "99.99",
         "2019-04-27 12:20:00",
         "178 Lincoln St, Atlanta, GA 30301",
         "4"
        ],
        [
         "28",
         "176583",
         "AAA Batteries (4-pack)",
         "2",
         "2.99",
         "2019-04-20 12:00:00",
         "146 Jackson St, Portland, OR 97035",
         "4"
        ],
        [
         "29",
         "176584",
         "Flatscreen TV",
         "1",
         "300",
         "2019-04-24 20:39:00",
         "936 Church St, San Francisco, CA 94016",
         "4"
        ],
        [
         "30",
         "176585",
         "Bose SoundSport Headphones",
         "1",
         "99.99",
         "2019-04-07 11:31:00",
         "823 Highland St, Boston, MA 02215",
         "4"
        ],
        [
         "32",
         "176586",
         "AAA Batteries (4-pack)",
         "2",
         "2.99",
         "2019-04-10 17:00:00",
         "365 Center St, San Francisco, CA 94016",
         "4"
        ],
        [
         "33",
         "176586",
         "Google Phone",
         "1",
         "600",
         "2019-04-10 17:00:00",
         "365 Center St, San Francisco, CA 94016",
         "4"
        ],
        [
         "34",
         "176587",
         "27in FHD Monitor",
         "1",
         "149.99",
         "2019-04-29 19:38:00",
         "557 5th St, Los Angeles, CA 90001",
         "4"
        ],
        [
         "35",
         "176588",
         "20in Monitor",
         "1",
         "109.99",
         "2019-04-02 04:00:00",
         "765 Cherry St, Seattle, WA 98101",
         "4"
        ],
        [
         "36",
         "176589",
         "Lightning Charging Cable",
         "1",
         "14.95",
         "2019-04-04 12:23:00",
         "846 Highland St, Atlanta, GA 30301",
         "4"
        ],
        [
         "37",
         "176590",
         "Google Phone",
         "1",
         "600",
         "2019-04-11 11:46:00",
         "873 6th St, New York City, NY 10001",
         "4"
        ],
        [
         "38",
         "176591",
         "Apple Airpods Headphones",
         "1",
         "150",
         "2019-04-21 07:21:00",
         "600 Maple St, Austin, TX 73301",
         "4"
        ],
        [
         "39",
         "176592",
         "USB-C Charging Cable",
         "1",
         "11.95",
         "2019-04-27 13:04:00",
         "352 4th St, Los Angeles, CA 90001",
         "4"
        ],
        [
         "40",
         "176593",
         "Lightning Charging Cable",
         "2",
         "14.95",
         "2019-04-15 13:45:00",
         "906 7th St, Portland, OR 97035",
         "4"
        ],
        [
         "41",
         "176594",
         "Wired Headphones",
         "1",
         "11.99",
         "2019-04-17 23:04:00",
         "63 Maple St, San Francisco, CA 94016",
         "4"
        ],
        [
         "42",
         "176595",
         "Wired Headphones",
         "3",
         "11.99",
         "2019-04-02 09:11:00",
         "383 6th St, Los Angeles, CA 90001",
         "4"
        ],
        [
         "43",
         "176596",
         "Apple Airpods Headphones",
         "1",
         "150",
         "2019-04-27 20:11:00",
         "572 Meadow St, Dallas, TX 75001",
         "4"
        ],
        [
         "44",
         "176597",
         "USB-C Charging Cable",
         "1",
         "11.95",
         "2019-04-19 13:39:00",
         "681 11th St, San Francisco, CA 94016",
         "4"
        ],
        [
         "45",
         "176598",
         "AAA Batteries (4-pack)",
         "2",
         "2.99",
         "2019-04-21 20:33:00",
         "294 Park St, San Francisco, CA 94016",
         "4"
        ],
        [
         "46",
         "176599",
         "Lightning Charging Cable",
         "1",
         "14.95",
         "2019-04-11 15:25:00",
         "279 Maple St, New York City, NY 10001",
         "4"
        ],
        [
         "47",
         "176600",
         "27in 4K Gaming Monitor",
         "1",
         "389.99",
         "2019-04-30 15:54:00",
         "87 West St, Boston, MA 02215",
         "4"
        ],
        [
         "48",
         "176601",
         "USB-C Charging Cable",
         "1",
         "11.95",
         "2019-04-02 22:32:00",
         "754 10th St, Los Angeles, CA 90001",
         "4"
        ],
        [
         "49",
         "176602",
         "Lightning Charging Cable",
         "1",
         "14.95",
         "2019-04-30 09:39:00",
         "9 Jefferson St, Dallas, TX 75001",
         "4"
        ],
        [
         "50",
         "176603",
         "USB-C Charging Cable",
         "1",
         "11.95",
         "2019-04-01 07:46:00",
         "858 6th St, San Francisco, CA 94016",
         "4"
        ],
        [
         "51",
         "176604",
         "USB-C Charging Cable",
         "1",
         "11.95",
         "2019-04-02 10:57:00",
         "462 11th St, San Francisco, CA 94016",
         "4"
        ]
       ],
       "shape": {
        "columns": 7,
        "rows": 185686
       }
      },
      "text/html": [
       "<div>\n",
       "<style scoped>\n",
       "    .dataframe tbody tr th:only-of-type {\n",
       "        vertical-align: middle;\n",
       "    }\n",
       "\n",
       "    .dataframe tbody tr th {\n",
       "        vertical-align: top;\n",
       "    }\n",
       "\n",
       "    .dataframe thead th {\n",
       "        text-align: right;\n",
       "    }\n",
       "</style>\n",
       "<table border=\"1\" class=\"dataframe\">\n",
       "  <thead>\n",
       "    <tr style=\"text-align: right;\">\n",
       "      <th></th>\n",
       "      <th>Order ID</th>\n",
       "      <th>Product</th>\n",
       "      <th>Quantity Ordered</th>\n",
       "      <th>Price Each</th>\n",
       "      <th>Order Date</th>\n",
       "      <th>Purchase Address</th>\n",
       "      <th>Month</th>\n",
       "    </tr>\n",
       "  </thead>\n",
       "  <tbody>\n",
       "    <tr>\n",
       "      <th>0</th>\n",
       "      <td>176558</td>\n",
       "      <td>USB-C Charging Cable</td>\n",
       "      <td>2</td>\n",
       "      <td>11.95</td>\n",
       "      <td>2019-04-19 08:46:00</td>\n",
       "      <td>917 1st St, Dallas, TX 75001</td>\n",
       "      <td>4</td>\n",
       "    </tr>\n",
       "    <tr>\n",
       "      <th>2</th>\n",
       "      <td>176559</td>\n",
       "      <td>Bose SoundSport Headphones</td>\n",
       "      <td>1</td>\n",
       "      <td>99.99</td>\n",
       "      <td>2019-04-07 22:30:00</td>\n",
       "      <td>682 Chestnut St, Boston, MA 02215</td>\n",
       "      <td>4</td>\n",
       "    </tr>\n",
       "    <tr>\n",
       "      <th>3</th>\n",
       "      <td>176560</td>\n",
       "      <td>Google Phone</td>\n",
       "      <td>1</td>\n",
       "      <td>600</td>\n",
       "      <td>2019-04-12 14:38:00</td>\n",
       "      <td>669 Spruce St, Los Angeles, CA 90001</td>\n",
       "      <td>4</td>\n",
       "    </tr>\n",
       "    <tr>\n",
       "      <th>4</th>\n",
       "      <td>176560</td>\n",
       "      <td>Wired Headphones</td>\n",
       "      <td>1</td>\n",
       "      <td>11.99</td>\n",
       "      <td>2019-04-12 14:38:00</td>\n",
       "      <td>669 Spruce St, Los Angeles, CA 90001</td>\n",
       "      <td>4</td>\n",
       "    </tr>\n",
       "    <tr>\n",
       "      <th>5</th>\n",
       "      <td>176561</td>\n",
       "      <td>Wired Headphones</td>\n",
       "      <td>1</td>\n",
       "      <td>11.99</td>\n",
       "      <td>2019-04-30 09:27:00</td>\n",
       "      <td>333 8th St, Los Angeles, CA 90001</td>\n",
       "      <td>4</td>\n",
       "    </tr>\n",
       "    <tr>\n",
       "      <th>...</th>\n",
       "      <td>...</td>\n",
       "      <td>...</td>\n",
       "      <td>...</td>\n",
       "      <td>...</td>\n",
       "      <td>...</td>\n",
       "      <td>...</td>\n",
       "      <td>...</td>\n",
       "    </tr>\n",
       "    <tr>\n",
       "      <th>186845</th>\n",
       "      <td>259353</td>\n",
       "      <td>AAA Batteries (4-pack)</td>\n",
       "      <td>3</td>\n",
       "      <td>2.99</td>\n",
       "      <td>2019-09-17 20:56:00</td>\n",
       "      <td>840 Highland St, Los Angeles, CA 90001</td>\n",
       "      <td>9</td>\n",
       "    </tr>\n",
       "    <tr>\n",
       "      <th>186846</th>\n",
       "      <td>259354</td>\n",
       "      <td>iPhone</td>\n",
       "      <td>1</td>\n",
       "      <td>700</td>\n",
       "      <td>2019-09-01 16:00:00</td>\n",
       "      <td>216 Dogwood St, San Francisco, CA 94016</td>\n",
       "      <td>9</td>\n",
       "    </tr>\n",
       "    <tr>\n",
       "      <th>186847</th>\n",
       "      <td>259355</td>\n",
       "      <td>iPhone</td>\n",
       "      <td>1</td>\n",
       "      <td>700</td>\n",
       "      <td>2019-09-23 07:39:00</td>\n",
       "      <td>220 12th St, San Francisco, CA 94016</td>\n",
       "      <td>9</td>\n",
       "    </tr>\n",
       "    <tr>\n",
       "      <th>186848</th>\n",
       "      <td>259356</td>\n",
       "      <td>34in Ultrawide Monitor</td>\n",
       "      <td>1</td>\n",
       "      <td>379.99</td>\n",
       "      <td>2019-09-19 17:30:00</td>\n",
       "      <td>511 Forest St, San Francisco, CA 94016</td>\n",
       "      <td>9</td>\n",
       "    </tr>\n",
       "    <tr>\n",
       "      <th>186849</th>\n",
       "      <td>259357</td>\n",
       "      <td>USB-C Charging Cable</td>\n",
       "      <td>1</td>\n",
       "      <td>11.95</td>\n",
       "      <td>2019-09-30 00:18:00</td>\n",
       "      <td>250 Meadow St, San Francisco, CA 94016</td>\n",
       "      <td>9</td>\n",
       "    </tr>\n",
       "  </tbody>\n",
       "</table>\n",
       "<p>185686 rows × 7 columns</p>\n",
       "</div>"
      ],
      "text/plain": [
       "       Order ID                     Product Quantity Ordered Price Each  \\\n",
       "0        176558        USB-C Charging Cable                2      11.95   \n",
       "2        176559  Bose SoundSport Headphones                1      99.99   \n",
       "3        176560                Google Phone                1        600   \n",
       "4        176560            Wired Headphones                1      11.99   \n",
       "5        176561            Wired Headphones                1      11.99   \n",
       "...         ...                         ...              ...        ...   \n",
       "186845   259353      AAA Batteries (4-pack)                3       2.99   \n",
       "186846   259354                      iPhone                1        700   \n",
       "186847   259355                      iPhone                1        700   \n",
       "186848   259356      34in Ultrawide Monitor                1     379.99   \n",
       "186849   259357        USB-C Charging Cable                1      11.95   \n",
       "\n",
       "                Order Date                         Purchase Address  Month  \n",
       "0      2019-04-19 08:46:00             917 1st St, Dallas, TX 75001      4  \n",
       "2      2019-04-07 22:30:00        682 Chestnut St, Boston, MA 02215      4  \n",
       "3      2019-04-12 14:38:00     669 Spruce St, Los Angeles, CA 90001      4  \n",
       "4      2019-04-12 14:38:00     669 Spruce St, Los Angeles, CA 90001      4  \n",
       "5      2019-04-30 09:27:00        333 8th St, Los Angeles, CA 90001      4  \n",
       "...                    ...                                      ...    ...  \n",
       "186845 2019-09-17 20:56:00   840 Highland St, Los Angeles, CA 90001      9  \n",
       "186846 2019-09-01 16:00:00  216 Dogwood St, San Francisco, CA 94016      9  \n",
       "186847 2019-09-23 07:39:00     220 12th St, San Francisco, CA 94016      9  \n",
       "186848 2019-09-19 17:30:00   511 Forest St, San Francisco, CA 94016      9  \n",
       "186849 2019-09-30 00:18:00   250 Meadow St, San Francisco, CA 94016      9  \n",
       "\n",
       "[185686 rows x 7 columns]"
      ]
     },
     "execution_count": 10,
     "metadata": {},
     "output_type": "execute_result"
    }
   ],
   "source": [
    "# Convert \"Order Date\" column to datetime format\n",
    "all_data['Order Date'] = pd.to_datetime(all_data['Order Date'], format='%m/%d/%y %H:%M', errors='coerce')\n",
    "\n",
    "# Check which values failed to convert\n",
    "non_datetime_values = all_data[all_data['Order Date'].isna()]\n",
    "\n",
    "# Remove rows with invalid \"Order Date\" values\n",
    "all_data = all_data[all_data['Order Date'].notna()]\n",
    "# all_data.reset_index(['Order Date'], inplace=True)\n",
    "\n",
    "# Extract month from \"Order Date\" column\n",
    "all_data['Month'] = all_data['Order Date'].dt.month\n",
    "all_data"
   ]
  },
  {
   "cell_type": "code",
   "execution_count": null,
   "metadata": {},
   "outputs": [
    {
     "data": {
      "application/vnd.microsoft.datawrangler.viewer.v0+json": {
       "columns": [
        {
         "name": "index",
         "rawType": "object",
         "type": "string"
        },
        {
         "name": "0",
         "rawType": "object",
         "type": "unknown"
        }
       ],
       "ref": "c4927602-84f4-48ff-9063-b36162ba6ba6",
       "rows": [
        [
         "Order ID",
         "object"
        ],
        [
         "Product",
         "object"
        ],
        [
         "Quantity Ordered",
         "object"
        ],
        [
         "Price Each",
         "object"
        ],
        [
         "Order Date",
         "datetime64[ns]"
        ],
        [
         "Purchase Address",
         "object"
        ],
        [
         "Month",
         "int32"
        ]
       ],
       "shape": {
        "columns": 1,
        "rows": 7
       }
      },
      "text/plain": [
       "Order ID                    object\n",
       "Product                     object\n",
       "Quantity Ordered            object\n",
       "Price Each                  object\n",
       "Order Date          datetime64[ns]\n",
       "Purchase Address            object\n",
       "Month                        int32\n",
       "dtype: object"
      ]
     },
     "execution_count": 11,
     "metadata": {},
     "output_type": "execute_result"
    }
   ],
   "source": [
    "# Verify data types\n",
    "all_data.dtypes"
   ]
  },
  {
   "cell_type": "code",
   "execution_count": null,
   "metadata": {},
   "outputs": [
    {
     "name": "stderr",
     "output_type": "stream",
     "text": [
      "/var/folders/kh/hv0681hd5n1bnsmh2y16qm3h0000gn/T/ipykernel_74378/3646739576.py:1: SettingWithCopyWarning: \n",
      "A value is trying to be set on a copy of a slice from a DataFrame.\n",
      "Try using .loc[row_indexer,col_indexer] = value instead\n",
      "\n",
      "See the caveats in the documentation: https://pandas.pydata.org/pandas-docs/stable/user_guide/indexing.html#returning-a-view-versus-a-copy\n",
      "  all_data[\"Quantity Ordered\"] = all_data[\"Quantity Ordered\"].astype(int)\n",
      "/var/folders/kh/hv0681hd5n1bnsmh2y16qm3h0000gn/T/ipykernel_74378/3646739576.py:2: SettingWithCopyWarning: \n",
      "A value is trying to be set on a copy of a slice from a DataFrame.\n",
      "Try using .loc[row_indexer,col_indexer] = value instead\n",
      "\n",
      "See the caveats in the documentation: https://pandas.pydata.org/pandas-docs/stable/user_guide/indexing.html#returning-a-view-versus-a-copy\n",
      "  all_data[\"Price Each\"] = all_data[\"Price Each\"].astype(float)\n"
     ]
    }
   ],
   "source": [
    "# Convert \"Quantity Ordered\" and \"Price Each\" columns to appropriate data types\n",
    "all_data[\"Quantity Ordered\"] = all_data[\"Quantity Ordered\"].astype(int)\n",
    "all_data[\"Price Each\"] = all_data[\"Price Each\"].astype(float)"
   ]
  },
  {
   "cell_type": "code",
   "execution_count": null,
   "metadata": {},
   "outputs": [
    {
     "data": {
      "application/vnd.microsoft.datawrangler.viewer.v0+json": {
       "columns": [
        {
         "name": "index",
         "rawType": "object",
         "type": "string"
        },
        {
         "name": "0",
         "rawType": "object",
         "type": "unknown"
        }
       ],
       "ref": "3aab7c1a-5e9c-4706-ba6b-f2a04a597353",
       "rows": [
        [
         "Order ID",
         "object"
        ],
        [
         "Product",
         "object"
        ],
        [
         "Quantity Ordered",
         "int64"
        ],
        [
         "Price Each",
         "float64"
        ],
        [
         "Order Date",
         "datetime64[ns]"
        ],
        [
         "Purchase Address",
         "object"
        ],
        [
         "Month",
         "int32"
        ]
       ],
       "shape": {
        "columns": 1,
        "rows": 7
       }
      },
      "text/plain": [
       "Order ID                    object\n",
       "Product                     object\n",
       "Quantity Ordered             int64\n",
       "Price Each                 float64\n",
       "Order Date          datetime64[ns]\n",
       "Purchase Address            object\n",
       "Month                        int32\n",
       "dtype: object"
      ]
     },
     "execution_count": 13,
     "metadata": {},
     "output_type": "execute_result"
    }
   ],
   "source": [
    "# Confirm updated data types\n",
    "all_data.dtypes"
   ]
  },
  {
   "cell_type": "code",
   "execution_count": null,
   "metadata": {},
   "outputs": [
    {
     "name": "stderr",
     "output_type": "stream",
     "text": [
      "/var/folders/kh/hv0681hd5n1bnsmh2y16qm3h0000gn/T/ipykernel_74378/2859170033.py:1: SettingWithCopyWarning: \n",
      "A value is trying to be set on a copy of a slice from a DataFrame.\n",
      "Try using .loc[row_indexer,col_indexer] = value instead\n",
      "\n",
      "See the caveats in the documentation: https://pandas.pydata.org/pandas-docs/stable/user_guide/indexing.html#returning-a-view-versus-a-copy\n",
      "  all_data['Sales'] = all_data['Quantity Ordered'] * all_data['Price Each']\n"
     ]
    }
   ],
   "source": [
    "# Calculate \"Sales\" column\n",
    "all_data['Sales'] = all_data['Quantity Ordered'] * all_data['Price Each']"
   ]
  },
  {
   "cell_type": "code",
   "execution_count": null,
   "metadata": {},
   "outputs": [
    {
     "data": {
      "application/vnd.microsoft.datawrangler.viewer.v0+json": {
       "columns": [
        {
         "name": "Month",
         "rawType": "int32",
         "type": "integer"
        },
        {
         "name": "Sales",
         "rawType": "float64",
         "type": "float"
        }
       ],
       "ref": "f3eb3cce-634b-4e13-b9d0-3e4e0785deda",
       "rows": [
        [
         "1",
         "1821413.16"
        ],
        [
         "2",
         "2200078.08"
        ],
        [
         "3",
         "2804973.35"
        ],
        [
         "4",
         "3389217.98"
        ],
        [
         "5",
         "3150616.23"
        ],
        [
         "6",
         "2576280.15"
        ],
        [
         "7",
         "2646461.32"
        ],
        [
         "8",
         "2241083.37"
        ],
        [
         "9",
         "2094465.69"
        ],
        [
         "10",
         "3734777.86"
        ],
        [
         "11",
         "3197875.05"
        ],
        [
         "12",
         "4608295.7"
        ]
       ],
       "shape": {
        "columns": 1,
        "rows": 12
       }
      },
      "text/plain": [
       "Month\n",
       "1     1821413.16\n",
       "2     2200078.08\n",
       "3     2804973.35\n",
       "4     3389217.98\n",
       "5     3150616.23\n",
       "6     2576280.15\n",
       "7     2646461.32\n",
       "8     2241083.37\n",
       "9     2094465.69\n",
       "10    3734777.86\n",
       "11    3197875.05\n",
       "12    4608295.70\n",
       "Name: Sales, dtype: float64"
      ]
     },
     "execution_count": 15,
     "metadata": {},
     "output_type": "execute_result"
    }
   ],
   "source": [
    "# ============== 4. Exploratory Data Analysis (EDA) ==============\n",
    "# Total sales per month\n",
    "all_data.groupby('Month')[\"Sales\"].sum()"
   ]
  },
  {
   "cell_type": "code",
   "execution_count": null,
   "metadata": {},
   "outputs": [
    {
     "data": {
      "image/png": "[encoded data removed]",
      "text/plain": [
       "<Figure size 640x480 with 1 Axes>"
      ]
     },
     "metadata": {},
     "output_type": "display_data"
    }
   ],
   "source": [
    "# Plot total sales per month\n",
    "all_data.groupby('Month')[\"Sales\"].sum().plot(kind='bar')\n",
    "plt.show()"
   ]
  },
  {
   "cell_type": "code",
   "execution_count": null,
   "metadata": {},
   "outputs": [],
   "source": []
  },
  {
   "cell_type": "code",
   "execution_count": null,
   "metadata": {},
   "outputs": [
    {
     "data": {
      "text/plain": [
       "'917 1st St, Dallas, TX 75001'"
      ]
     },
     "execution_count": 17,
     "metadata": {},
     "output_type": "execute_result"
    }
   ],
   "source": [
    "# Preview the first purchase address\n",
    "all_data['Purchase Address'][0]"
   ]
  },
  {
   "cell_type": "code",
   "execution_count": null,
   "metadata": {},
   "outputs": [
    {
     "name": "stderr",
     "output_type": "stream",
     "text": [
      "/var/folders/kh/hv0681hd5n1bnsmh2y16qm3h0000gn/T/ipykernel_74378/49454711.py:2: SettingWithCopyWarning: \n",
      "A value is trying to be set on a copy of a slice from a DataFrame.\n",
      "Try using .loc[row_indexer,col_indexer] = value instead\n",
      "\n",
      "See the caveats in the documentation: https://pandas.pydata.org/pandas-docs/stable/user_guide/indexing.html#returning-a-view-versus-a-copy\n",
      "  all_data['City'] = all_data['Purchase Address'].str.split(',').str.get(1).str.strip()\n"
     ]
    },
    {
     "data": {
      "application/vnd.microsoft.datawrangler.viewer.v0+json": {
       "columns": [
        {
         "name": "index",
         "rawType": "int64",
         "type": "integer"
        },
        {
         "name": "Order ID",
         "rawType": "object",
         "type": "string"
        },
        {
         "name": "Product",
         "rawType": "object",
         "type": "string"
        },
        {
         "name": "Quantity Ordered",
         "rawType": "int64",
         "type": "integer"
        },
        {
         "name": "Price Each",
         "rawType": "float64",
         "type": "float"
        },
        {
         "name": "Order Date",
         "rawType": "datetime64[ns]",
         "type": "datetime"
        },
        {
         "name": "Purchase Address",
         "rawType": "object",
         "type": "string"
        },
        {
         "name": "Month",
         "rawType": "int32",
         "type": "integer"
        },
        {
         "name": "Sales",
         "rawType": "float64",
         "type": "float"
        },
        {
         "name": "City",
         "rawType": "object",
         "type": "string"
        }
       ],
       "ref": "977ea995-9c42-4471-8f76-4edd47bbb5fe",
       "rows": [
        [
         "0",
         "176558",
         "USB-C Charging Cable",
         "2",
         "11.95",
         "2019-04-19 08:46:00",
         "917 1st St, Dallas, TX 75001",
         "4",
         "23.9",
         "Dallas"
        ],
        [
         "2",
         "176559",
         "Bose SoundSport Headphones",
         "1",
         "99.99",
         "2019-04-07 22:30:00",
         "682 Chestnut St, Boston, MA 02215",
         "4",
         "99.99",
         "Boston"
        ],
        [
         "3",
         "176560",
         "Google Phone",
         "1",
         "600.0",
         "2019-04-12 14:38:00",
         "669 Spruce St, Los Angeles, CA 90001",
         "4",
         "600.0",
         "Los Angeles"
        ],
        [
         "4",
         "176560",
         "Wired Headphones",
         "1",
         "11.99",
         "2019-04-12 14:38:00",
         "669 Spruce St, Los Angeles, CA 90001",
         "4",
         "11.99",
         "Los Angeles"
        ],
        [
         "5",
         "176561",
         "Wired Headphones",
         "1",
         "11.99",
         "2019-04-30 09:27:00",
         "333 8th St, Los Angeles, CA 90001",
         "4",
         "11.99",
         "Los Angeles"
        ],
        [
         "6",
         "176562",
         "USB-C Charging Cable",
         "1",
         "11.95",
         "2019-04-29 13:03:00",
         "381 Wilson St, San Francisco, CA 94016",
         "4",
         "11.95",
         "San Francisco"
        ],
        [
         "7",
         "176563",
         "Bose SoundSport Headphones",
         "1",
         "99.99",
         "2019-04-02 07:46:00",
         "668 Center St, Seattle, WA 98101",
         "4",
         "99.99",
         "Seattle"
        ],
        [
         "8",
         "176564",
         "USB-C Charging Cable",
         "1",
         "11.95",
         "2019-04-12 10:58:00",
         "790 Ridge St, Atlanta, GA 30301",
         "4",
         "11.95",
         "Atlanta"
        ],
        [
         "9",
         "176565",
         "Macbook Pro Laptop",
         "1",
         "1700.0",
         "2019-04-24 10:38:00",
         "915 Willow St, San Francisco, CA 94016",
         "4",
         "1700.0",
         "San Francisco"
        ],
        [
         "10",
         "176566",
         "Wired Headphones",
         "1",
         "11.99",
         "2019-04-08 14:05:00",
         "83 7th St, Boston, MA 02215",
         "4",
         "11.99",
         "Boston"
        ],
        [
         "11",
         "176567",
         "Google Phone",
         "1",
         "600.0",
         "2019-04-18 17:18:00",
         "444 7th St, Los Angeles, CA 90001",
         "4",
         "600.0",
         "Los Angeles"
        ],
        [
         "12",
         "176568",
         "Lightning Charging Cable",
         "1",
         "14.95",
         "2019-04-15 12:18:00",
         "438 Elm St, Seattle, WA 98101",
         "4",
         "14.95",
         "Seattle"
        ],
        [
         "13",
         "176569",
         "27in 4K Gaming Monitor",
         "1",
         "389.99",
         "2019-04-16 19:23:00",
         "657 Hill St, Dallas, TX 75001",
         "4",
         "389.99",
         "Dallas"
        ],
        [
         "14",
         "176570",
         "AA Batteries (4-pack)",
         "1",
         "3.84",
         "2019-04-22 15:09:00",
         "186 12th St, Dallas, TX 75001",
         "4",
         "3.84",
         "Dallas"
        ],
        [
         "15",
         "176571",
         "Lightning Charging Cable",
         "1",
         "14.95",
         "2019-04-19 14:29:00",
         "253 Johnson St, Atlanta, GA 30301",
         "4",
         "14.95",
         "Atlanta"
        ],
        [
         "16",
         "176572",
         "Apple Airpods Headphones",
         "1",
         "150.0",
         "2019-04-04 20:30:00",
         "149 Dogwood St, New York City, NY 10001",
         "4",
         "150.0",
         "New York City"
        ],
        [
         "17",
         "176573",
         "USB-C Charging Cable",
         "1",
         "11.95",
         "2019-04-27 18:41:00",
         "214 Chestnut St, San Francisco, CA 94016",
         "4",
         "11.95",
         "San Francisco"
        ],
        [
         "18",
         "176574",
         "Google Phone",
         "1",
         "600.0",
         "2019-04-03 19:42:00",
         "20 Hill St, Los Angeles, CA 90001",
         "4",
         "600.0",
         "Los Angeles"
        ],
        [
         "19",
         "176574",
         "USB-C Charging Cable",
         "1",
         "11.95",
         "2019-04-03 19:42:00",
         "20 Hill St, Los Angeles, CA 90001",
         "4",
         "11.95",
         "Los Angeles"
        ],
        [
         "20",
         "176575",
         "AAA Batteries (4-pack)",
         "1",
         "2.99",
         "2019-04-27 00:30:00",
         "433 Hill St, New York City, NY 10001",
         "4",
         "2.99",
         "New York City"
        ],
        [
         "21",
         "176576",
         "Apple Airpods Headphones",
         "1",
         "150.0",
         "2019-04-28 11:42:00",
         "771 Ridge St, Los Angeles, CA 90001",
         "4",
         "150.0",
         "Los Angeles"
        ],
        [
         "22",
         "176577",
         "Apple Airpods Headphones",
         "1",
         "150.0",
         "2019-04-04 19:25:00",
         "260 Spruce St, Dallas, TX 75001",
         "4",
         "150.0",
         "Dallas"
        ],
        [
         "23",
         "176578",
         "Apple Airpods Headphones",
         "1",
         "150.0",
         "2019-04-09 23:35:00",
         "513 Church St, Boston, MA 02215",
         "4",
         "150.0",
         "Boston"
        ],
        [
         "24",
         "176579",
         "AA Batteries (4-pack)",
         "1",
         "3.84",
         "2019-04-11 10:23:00",
         "886 Jefferson St, New York City, NY 10001",
         "4",
         "3.84",
         "New York City"
        ],
        [
         "25",
         "176580",
         "USB-C Charging Cable",
         "1",
         "11.95",
         "2019-04-05 00:35:00",
         "886 Willow St, Los Angeles, CA 90001",
         "4",
         "11.95",
         "Los Angeles"
        ],
        [
         "26",
         "176581",
         "iPhone",
         "1",
         "700.0",
         "2019-04-09 21:38:00",
         "84 Jackson St, Boston, MA 02215",
         "4",
         "700.0",
         "Boston"
        ],
        [
         "27",
         "176582",
         "Bose SoundSport Headphones",
         "1",
         "99.99",
         "2019-04-27 12:20:00",
         "178 Lincoln St, Atlanta, GA 30301",
         "4",
         "99.99",
         "Atlanta"
        ],
        [
         "28",
         "176583",
         "AAA Batteries (4-pack)",
         "2",
         "2.99",
         "2019-04-20 12:00:00",
         "146 Jackson St, Portland, OR 97035",
         "4",
         "5.98",
         "Portland"
        ],
        [
         "29",
         "176584",
         "Flatscreen TV",
         "1",
         "300.0",
         "2019-04-24 20:39:00",
         "936 Church St, San Francisco, CA 94016",
         "4",
         "300.0",
         "San Francisco"
        ],
        [
         "30",
         "176585",
         "Bose SoundSport Headphones",
         "1",
         "99.99",
         "2019-04-07 11:31:00",
         "823 Highland St, Boston, MA 02215",
         "4",
         "99.99",
         "Boston"
        ],
        [
         "32",
         "176586",
         "AAA Batteries (4-pack)",
         "2",
         "2.99",
         "2019-04-10 17:00:00",
         "365 Center St, San Francisco, CA 94016",
         "4",
         "5.98",
         "San Francisco"
        ],
        [
         "33",
         "176586",
         "Google Phone",
         "1",
         "600.0",
         "2019-04-10 17:00:00",
         "365 Center St, San Francisco, CA 94016",
         "4",
         "600.0",
         "San Francisco"
        ],
        [
         "34",
         "176587",
         "27in FHD Monitor",
         "1",
         "149.99",
         "2019-04-29 19:38:00",
         "557 5th St, Los Angeles, CA 90001",
         "4",
         "149.99",
         "Los Angeles"
        ],
        [
         "35",
         "176588",
         "20in Monitor",
         "1",
         "109.99",
         "2019-04-02 04:00:00",
         "765 Cherry St, Seattle, WA 98101",
         "4",
         "109.99",
         "Seattle"
        ],
        [
         "36",
         "176589",
         "Lightning Charging Cable",
         "1",
         "14.95",
         "2019-04-04 12:23:00",
         "846 Highland St, Atlanta, GA 30301",
         "4",
         "14.95",
         "Atlanta"
        ],
        [
         "37",
         "176590",
         "Google Phone",
         "1",
         "600.0",
         "2019-04-11 11:46:00",
         "873 6th St, New York City, NY 10001",
         "4",
         "600.0",
         "New York City"
        ],
        [
         "38",
         "176591",
         "Apple Airpods Headphones",
         "1",
         "150.0",
         "2019-04-21 07:21:00",
         "600 Maple St, Austin, TX 73301",
         "4",
         "150.0",
         "Austin"
        ],
        [
         "39",
         "176592",
         "USB-C Charging Cable",
         "1",
         "11.95",
         "2019-04-27 13:04:00",
         "352 4th St, Los Angeles, CA 90001",
         "4",
         "11.95",
         "Los Angeles"
        ],
        [
         "40",
         "176593",
         "Lightning Charging Cable",
         "2",
         "14.95",
         "2019-04-15 13:45:00",
         "906 7th St, Portland, OR 97035",
         "4",
         "29.9",
         "Portland"
        ],
        [
         "41",
         "176594",
         "Wired Headphones",
         "1",
         "11.99",
         "2019-04-17 23:04:00",
         "63 Maple St, San Francisco, CA 94016",
         "4",
         "11.99",
         "San Francisco"
        ],
        [
         "42",
         "176595",
         "Wired Headphones",
         "3",
         "11.99",
         "2019-04-02 09:11:00",
         "383 6th St, Los Angeles, CA 90001",
         "4",
         "35.97",
         "Los Angeles"
        ],
        [
         "43",
         "176596",
         "Apple Airpods Headphones",
         "1",
         "150.0",
         "2019-04-27 20:11:00",
         "572 Meadow St, Dallas, TX 75001",
         "4",
         "150.0",
         "Dallas"
        ],
        [
         "44",
         "176597",
         "USB-C Charging Cable",
         "1",
         "11.95",
         "2019-04-19 13:39:00",
         "681 11th St, San Francisco, CA 94016",
         "4",
         "11.95",
         "San Francisco"
        ],
        [
         "45",
         "176598",
         "AAA Batteries (4-pack)",
         "2",
         "2.99",
         "2019-04-21 20:33:00",
         "294 Park St, San Francisco, CA 94016",
         "4",
         "5.98",
         "San Francisco"
        ],
        [
         "46",
         "176599",
         "Lightning Charging Cable",
         "1",
         "14.95",
         "2019-04-11 15:25:00",
         "279 Maple St, New York City, NY 10001",
         "4",
         "14.95",
         "New York City"
        ],
        [
         "47",
         "176600",
         "27in 4K Gaming Monitor",
         "1",
         "389.99",
         "2019-04-30 15:54:00",
         "87 West St, Boston, MA 02215",
         "4",
         "389.99",
         "Boston"
        ],
        [
         "48",
         "176601",
         "USB-C Charging Cable",
         "1",
         "11.95",
         "2019-04-02 22:32:00",
         "754 10th St, Los Angeles, CA 90001",
         "4",
         "11.95",
         "Los Angeles"
        ],
        [
         "49",
         "176602",
         "Lightning Charging Cable",
         "1",
         "14.95",
         "2019-04-30 09:39:00",
         "9 Jefferson St, Dallas, TX 75001",
         "4",
         "14.95",
         "Dallas"
        ],
        [
         "50",
         "176603",
         "USB-C Charging Cable",
         "1",
         "11.95",
         "2019-04-01 07:46:00",
         "858 6th St, San Francisco, CA 94016",
         "4",
         "11.95",
         "San Francisco"
        ],
        [
         "51",
         "176604",
         "USB-C Charging Cable",
         "1",
         "11.95",
         "2019-04-02 10:57:00",
         "462 11th St, San Francisco, CA 94016",
         "4",
         "11.95",
         "San Francisco"
        ]
       ],
       "shape": {
        "columns": 9,
        "rows": 185686
       }
      },
      "text/html": [
       "<div>\n",
       "<style scoped>\n",
       "    .dataframe tbody tr th:only-of-type {\n",
       "        vertical-align: middle;\n",
       "    }\n",
       "\n",
       "    .dataframe tbody tr th {\n",
       "        vertical-align: top;\n",
       "    }\n",
       "\n",
       "    .dataframe thead th {\n",
       "        text-align: right;\n",
       "    }\n",
       "</style>\n",
       "<table border=\"1\" class=\"dataframe\">\n",
       "  <thead>\n",
       "    <tr style=\"text-align: right;\">\n",
       "      <th></th>\n",
       "      <th>Order ID</th>\n",
       "      <th>Product</th>\n",
       "      <th>Quantity Ordered</th>\n",
       "      <th>Price Each</th>\n",
       "      <th>Order Date</th>\n",
       "      <th>Purchase Address</th>\n",
       "      <th>Month</th>\n",
       "      <th>Sales</th>\n",
       "      <th>City</th>\n",
       "    </tr>\n",
       "  </thead>\n",
       "  <tbody>\n",
       "    <tr>\n",
       "      <th>0</th>\n",
       "      <td>176558</td>\n",
       "      <td>USB-C Charging Cable</td>\n",
       "      <td>2</td>\n",
       "      <td>11.95</td>\n",
       "      <td>2019-04-19 08:46:00</td>\n",
       "      <td>917 1st St, Dallas, TX 75001</td>\n",
       "      <td>4</td>\n",
       "      <td>23.90</td>\n",
       "      <td>Dallas</td>\n",
       "    </tr>\n",
       "    <tr>\n",
       "      <th>2</th>\n",
       "      <td>176559</td>\n",
       "      <td>Bose SoundSport Headphones</td>\n",
       "      <td>1</td>\n",
       "      <td>99.99</td>\n",
       "      <td>2019-04-07 22:30:00</td>\n",
       "      <td>682 Chestnut St, Boston, MA 02215</td>\n",
       "      <td>4</td>\n",
       "      <td>99.99</td>\n",
       "      <td>Boston</td>\n",
       "    </tr>\n",
       "    <tr>\n",
       "      <th>3</th>\n",
       "      <td>176560</td>\n",
       "      <td>Google Phone</td>\n",
       "      <td>1</td>\n",
       "      <td>600.00</td>\n",
       "      <td>2019-04-12 14:38:00</td>\n",
       "      <td>669 Spruce St, Los Angeles, CA 90001</td>\n",
       "      <td>4</td>\n",
       "      <td>600.00</td>\n",
       "      <td>Los Angeles</td>\n",
       "    </tr>\n",
       "    <tr>\n",
       "      <th>4</th>\n",
       "      <td>176560</td>\n",
       "      <td>Wired Headphones</td>\n",
       "      <td>1</td>\n",
       "      <td>11.99</td>\n",
       "      <td>2019-04-12 14:38:00</td>\n",
       "      <td>669 Spruce St, Los Angeles, CA 90001</td>\n",
       "      <td>4</td>\n",
       "      <td>11.99</td>\n",
       "      <td>Los Angeles</td>\n",
       "    </tr>\n",
       "    <tr>\n",
       "      <th>5</th>\n",
       "      <td>176561</td>\n",
       "      <td>Wired Headphones</td>\n",
       "      <td>1</td>\n",
       "      <td>11.99</td>\n",
       "      <td>2019-04-30 09:27:00</td>\n",
       "      <td>333 8th St, Los Angeles, CA 90001</td>\n",
       "      <td>4</td>\n",
       "      <td>11.99</td>\n",
       "      <td>Los Angeles</td>\n",
       "    </tr>\n",
       "    <tr>\n",
       "      <th>...</th>\n",
       "      <td>...</td>\n",
       "      <td>...</td>\n",
       "      <td>...</td>\n",
       "      <td>...</td>\n",
       "      <td>...</td>\n",
       "      <td>...</td>\n",
       "      <td>...</td>\n",
       "      <td>...</td>\n",
       "      <td>...</td>\n",
       "    </tr>\n",
       "    <tr>\n",
       "      <th>186845</th>\n",
       "      <td>259353</td>\n",
       "      <td>AAA Batteries (4-pack)</td>\n",
       "      <td>3</td>\n",
       "      <td>2.99</td>\n",
       "      <td>2019-09-17 20:56:00</td>\n",
       "      <td>840 Highland St, Los Angeles, CA 90001</td>\n",
       "      <td>9</td>\n",
       "      <td>8.97</td>\n",
       "      <td>Los Angeles</td>\n",
       "    </tr>\n",
       "    <tr>\n",
       "      <th>186846</th>\n",
       "      <td>259354</td>\n",
       "      <td>iPhone</td>\n",
       "      <td>1</td>\n",
       "      <td>700.00</td>\n",
       "      <td>2019-09-01 16:00:00</td>\n",
       "      <td>216 Dogwood St, San Francisco, CA 94016</td>\n",
       "      <td>9</td>\n",
       "      <td>700.00</td>\n",
       "      <td>San Francisco</td>\n",
       "    </tr>\n",
       "    <tr>\n",
       "      <th>186847</th>\n",
       "      <td>259355</td>\n",
       "      <td>iPhone</td>\n",
       "      <td>1</td>\n",
       "      <td>700.00</td>\n",
       "      <td>2019-09-23 07:39:00</td>\n",
       "      <td>220 12th St, San Francisco, CA 94016</td>\n",
       "      <td>9</td>\n",
       "      <td>700.00</td>\n",
       "      <td>San Francisco</td>\n",
       "    </tr>\n",
       "    <tr>\n",
       "      <th>186848</th>\n",
       "      <td>259356</td>\n",
       "      <td>34in Ultrawide Monitor</td>\n",
       "      <td>1</td>\n",
       "      <td>379.99</td>\n",
       "      <td>2019-09-19 17:30:00</td>\n",
       "      <td>511 Forest St, San Francisco, CA 94016</td>\n",
       "      <td>9</td>\n",
       "      <td>379.99</td>\n",
       "      <td>San Francisco</td>\n",
       "    </tr>\n",
       "    <tr>\n",
       "      <th>186849</th>\n",
       "      <td>259357</td>\n",
       "      <td>USB-C Charging Cable</td>\n",
       "      <td>1</td>\n",
       "      <td>11.95</td>\n",
       "      <td>2019-09-30 00:18:00</td>\n",
       "      <td>250 Meadow St, San Francisco, CA 94016</td>\n",
       "      <td>9</td>\n",
       "      <td>11.95</td>\n",
       "      <td>San Francisco</td>\n",
       "    </tr>\n",
       "  </tbody>\n",
       "</table>\n",
       "<p>185686 rows × 9 columns</p>\n",
       "</div>"
      ],
      "text/plain": [
       "       Order ID                     Product  Quantity Ordered  Price Each  \\\n",
       "0        176558        USB-C Charging Cable                 2       11.95   \n",
       "2        176559  Bose SoundSport Headphones                 1       99.99   \n",
       "3        176560                Google Phone                 1      600.00   \n",
       "4        176560            Wired Headphones                 1       11.99   \n",
       "5        176561            Wired Headphones                 1       11.99   \n",
       "...         ...                         ...               ...         ...   \n",
       "186845   259353      AAA Batteries (4-pack)                 3        2.99   \n",
       "186846   259354                      iPhone                 1      700.00   \n",
       "186847   259355                      iPhone                 1      700.00   \n",
       "186848   259356      34in Ultrawide Monitor                 1      379.99   \n",
       "186849   259357        USB-C Charging Cable                 1       11.95   \n",
       "\n",
       "                Order Date                         Purchase Address  Month  \\\n",
       "0      2019-04-19 08:46:00             917 1st St, Dallas, TX 75001      4   \n",
       "2      2019-04-07 22:30:00        682 Chestnut St, Boston, MA 02215      4   \n",
       "3      2019-04-12 14:38:00     669 Spruce St, Los Angeles, CA 90001      4   \n",
       "4      2019-04-12 14:38:00     669 Spruce St, Los Angeles, CA 90001      4   \n",
       "5      2019-04-30 09:27:00        333 8th St, Los Angeles, CA 90001      4   \n",
       "...                    ...                                      ...    ...   \n",
       "186845 2019-09-17 20:56:00   840 Highland St, Los Angeles, CA 90001      9   \n",
       "186846 2019-09-01 16:00:00  216 Dogwood St, San Francisco, CA 94016      9   \n",
       "186847 2019-09-23 07:39:00     220 12th St, San Francisco, CA 94016      9   \n",
       "186848 2019-09-19 17:30:00   511 Forest St, San Francisco, CA 94016      9   \n",
       "186849 2019-09-30 00:18:00   250 Meadow St, San Francisco, CA 94016      9   \n",
       "\n",
       "         Sales           City  \n",
       "0        23.90         Dallas  \n",
       "2        99.99         Boston  \n",
       "3       600.00    Los Angeles  \n",
       "4        11.99    Los Angeles  \n",
       "5        11.99    Los Angeles  \n",
       "...        ...            ...  \n",
       "186845    8.97    Los Angeles  \n",
       "186846  700.00  San Francisco  \n",
       "186847  700.00  San Francisco  \n",
       "186848  379.99  San Francisco  \n",
       "186849   11.95  San Francisco  \n",
       "\n",
       "[185686 rows x 9 columns]"
      ]
     },
     "execution_count": 18,
     "metadata": {},
     "output_type": "execute_result"
    }
   ],
   "source": [
    "# Extract city from \"Purchase Address\" column\n",
    "all_data['City'] = all_data['Purchase Address'].str.split(',').str.get(1).str.strip()\n",
    "all_data"
   ]
  },
  {
   "cell_type": "code",
   "execution_count": null,
   "metadata": {},
   "outputs": [
    {
     "data": {
      "text/plain": [
       "array(['Dallas', 'Boston', 'Los Angeles', 'San Francisco', 'Seattle',\n",
       "       'Atlanta', 'New York City', 'Portland', 'Austin'], dtype=object)"
      ]
     },
     "execution_count": 19,
     "metadata": {},
     "output_type": "execute_result"
    }
   ],
   "source": [
    "# List unique cities\n",
    "all_data[\"City\"].unique()"
   ]
  },
  {
   "cell_type": "code",
   "execution_count": null,
   "metadata": {},
   "outputs": [
    {
     "name": "stderr",
     "output_type": "stream",
     "text": [
      "/var/folders/kh/hv0681hd5n1bnsmh2y16qm3h0000gn/T/ipykernel_74378/2447386727.py:1: FutureWarning: pandas.value_counts is deprecated and will be removed in a future version. Use pd.Series(obj).value_counts() instead.\n",
      "  pd.value_counts(all_data[\"City\"])\n"
     ]
    },
    {
     "data": {
      "application/vnd.microsoft.datawrangler.viewer.v0+json": {
       "columns": [
        {
         "name": "City",
         "rawType": "object",
         "type": "string"
        },
        {
         "name": "count",
         "rawType": "int64",
         "type": "integer"
        }
       ],
       "ref": "2e1f6e56-576a-479b-91a2-70190156efd1",
       "rows": [
        [
         "San Francisco",
         "44662"
        ],
        [
         "Los Angeles",
         "29564"
        ],
        [
         "New York City",
         "24847"
        ],
        [
         "Boston",
         "19901"
        ],
        [
         "Atlanta",
         "14863"
        ],
        [
         "Dallas",
         "14797"
        ],
        [
         "Seattle",
         "14713"
        ],
        [
         "Portland",
         "12449"
        ],
        [
         "Austin",
         "9890"
        ]
       ],
       "shape": {
        "columns": 1,
        "rows": 9
       }
      },
      "text/plain": [
       "City\n",
       "San Francisco    44662\n",
       "Los Angeles      29564\n",
       "New York City    24847\n",
       "Boston           19901\n",
       "Atlanta          14863\n",
       "Dallas           14797\n",
       "Seattle          14713\n",
       "Portland         12449\n",
       "Austin            9890\n",
       "Name: count, dtype: int64"
      ]
     },
     "execution_count": 20,
     "metadata": {},
     "output_type": "execute_result"
    }
   ],
   "source": [
    "# Count sales per city\n",
    "pd.value_counts(all_data[\"City\"])"
   ]
  },
  {
   "cell_type": "code",
   "execution_count": null,
   "metadata": {},
   "outputs": [
    {
     "name": "stderr",
     "output_type": "stream",
     "text": [
      "/var/folders/kh/hv0681hd5n1bnsmh2y16qm3h0000gn/T/ipykernel_74378/367275648.py:1: FutureWarning: pandas.value_counts is deprecated and will be removed in a future version. Use pd.Series(obj).value_counts() instead.\n",
      "  pd.value_counts(all_data[\"City\"]).plot(kind='pie', autopct='%1.1f%%')\n"
     ]
    },
    {
     "data": {
      "image/png": "[encoded data removed]",
      "text/plain": [
       "<Figure size 640x480 with 1 Axes>"
      ]
     },
     "metadata": {},
     "output_type": "display_data"
    }
   ],
   "source": [
    "# Plot sales distribution by city\n",
    "pd.value_counts(all_data[\"City\"]).plot(kind='pie', autopct='%1.1f%%')\n",
    "plt.show()"
   ]
  },
  {
   "cell_type": "code",
   "execution_count": null,
   "metadata": {},
   "outputs": [],
   "source": []
  },
  {
   "cell_type": "code",
   "execution_count": null,
   "metadata": {},
   "outputs": [
    {
     "data": {
      "application/vnd.microsoft.datawrangler.viewer.v0+json": {
       "columns": [
        {
         "name": "index",
         "rawType": "int64",
         "type": "integer"
        },
        {
         "name": "Product",
         "rawType": "object",
         "type": "string"
        },
        {
         "name": "Quantity Ordered",
         "rawType": "int64",
         "type": "integer"
        },
        {
         "name": "Price Each",
         "rawType": "float64",
         "type": "float"
        }
       ],
       "ref": "69d42fe3-87c3-48c4-884e-6078673db1ce",
       "rows": [
        [
         "0",
         "AAA Batteries (4-pack)",
         "30986",
         "2.99"
        ],
        [
         "1",
         "AA Batteries (4-pack)",
         "27615",
         "3.84"
        ],
        [
         "2",
         "USB-C Charging Cable",
         "23931",
         "11.95"
        ],
        [
         "3",
         "Lightning Charging Cable",
         "23169",
         "14.95"
        ],
        [
         "4",
         "Wired Headphones",
         "20524",
         "11.99"
        ],
        [
         "5",
         "Apple Airpods Headphones",
         "15637",
         "150.0"
        ],
        [
         "6",
         "Bose SoundSport Headphones",
         "13430",
         "99.99"
        ],
        [
         "7",
         "27in FHD Monitor",
         "7541",
         "149.99"
        ],
        [
         "8",
         "iPhone",
         "6847",
         "700.0"
        ],
        [
         "9",
         "27in 4K Gaming Monitor",
         "6239",
         "389.99"
        ],
        [
         "10",
         "34in Ultrawide Monitor",
         "6192",
         "379.99000000000007"
        ],
        [
         "11",
         "Google Phone",
         "5529",
         "600.0"
        ],
        [
         "12",
         "Flatscreen TV",
         "4813",
         "300.0"
        ],
        [
         "13",
         "Macbook Pro Laptop",
         "4725",
         "1700.0"
        ],
        [
         "14",
         "ThinkPad Laptop",
         "4128",
         "999.99"
        ],
        [
         "15",
         "20in Monitor",
         "4126",
         "109.99"
        ],
        [
         "16",
         "Vareebadd Phone",
         "2068",
         "400.0"
        ],
        [
         "17",
         "LG Washing Machine",
         "666",
         "600.0"
        ],
        [
         "18",
         "LG Dryer",
         "646",
         "600.0"
        ]
       ],
       "shape": {
        "columns": 3,
        "rows": 19
       }
      },
      "text/html": [
       "<div>\n",
       "<style scoped>\n",
       "    .dataframe tbody tr th:only-of-type {\n",
       "        vertical-align: middle;\n",
       "    }\n",
       "\n",
       "    .dataframe tbody tr th {\n",
       "        vertical-align: top;\n",
       "    }\n",
       "\n",
       "    .dataframe thead th {\n",
       "        text-align: right;\n",
       "    }\n",
       "</style>\n",
       "<table border=\"1\" class=\"dataframe\">\n",
       "  <thead>\n",
       "    <tr style=\"text-align: right;\">\n",
       "      <th></th>\n",
       "      <th>Product</th>\n",
       "      <th>Quantity Ordered</th>\n",
       "      <th>Price Each</th>\n",
       "    </tr>\n",
       "  </thead>\n",
       "  <tbody>\n",
       "    <tr>\n",
       "      <th>0</th>\n",
       "      <td>AAA Batteries (4-pack)</td>\n",
       "      <td>30986</td>\n",
       "      <td>2.99</td>\n",
       "    </tr>\n",
       "    <tr>\n",
       "      <th>1</th>\n",
       "      <td>AA Batteries (4-pack)</td>\n",
       "      <td>27615</td>\n",
       "      <td>3.84</td>\n",
       "    </tr>\n",
       "    <tr>\n",
       "      <th>2</th>\n",
       "      <td>USB-C Charging Cable</td>\n",
       "      <td>23931</td>\n",
       "      <td>11.95</td>\n",
       "    </tr>\n",
       "    <tr>\n",
       "      <th>3</th>\n",
       "      <td>Lightning Charging Cable</td>\n",
       "      <td>23169</td>\n",
       "      <td>14.95</td>\n",
       "    </tr>\n",
       "    <tr>\n",
       "      <th>4</th>\n",
       "      <td>Wired Headphones</td>\n",
       "      <td>20524</td>\n",
       "      <td>11.99</td>\n",
       "    </tr>\n",
       "    <tr>\n",
       "      <th>5</th>\n",
       "      <td>Apple Airpods Headphones</td>\n",
       "      <td>15637</td>\n",
       "      <td>150.00</td>\n",
       "    </tr>\n",
       "    <tr>\n",
       "      <th>6</th>\n",
       "      <td>Bose SoundSport Headphones</td>\n",
       "      <td>13430</td>\n",
       "      <td>99.99</td>\n",
       "    </tr>\n",
       "    <tr>\n",
       "      <th>7</th>\n",
       "      <td>27in FHD Monitor</td>\n",
       "      <td>7541</td>\n",
       "      <td>149.99</td>\n",
       "    </tr>\n",
       "    <tr>\n",
       "      <th>8</th>\n",
       "      <td>iPhone</td>\n",
       "      <td>6847</td>\n",
       "      <td>700.00</td>\n",
       "    </tr>\n",
       "    <tr>\n",
       "      <th>9</th>\n",
       "      <td>27in 4K Gaming Monitor</td>\n",
       "      <td>6239</td>\n",
       "      <td>389.99</td>\n",
       "    </tr>\n",
       "    <tr>\n",
       "      <th>10</th>\n",
       "      <td>34in Ultrawide Monitor</td>\n",
       "      <td>6192</td>\n",
       "      <td>379.99</td>\n",
       "    </tr>\n",
       "    <tr>\n",
       "      <th>11</th>\n",
       "      <td>Google Phone</td>\n",
       "      <td>5529</td>\n",
       "      <td>600.00</td>\n",
       "    </tr>\n",
       "    <tr>\n",
       "      <th>12</th>\n",
       "      <td>Flatscreen TV</td>\n",
       "      <td>4813</td>\n",
       "      <td>300.00</td>\n",
       "    </tr>\n",
       "    <tr>\n",
       "      <th>13</th>\n",
       "      <td>Macbook Pro Laptop</td>\n",
       "      <td>4725</td>\n",
       "      <td>1700.00</td>\n",
       "    </tr>\n",
       "    <tr>\n",
       "      <th>14</th>\n",
       "      <td>ThinkPad Laptop</td>\n",
       "      <td>4128</td>\n",
       "      <td>999.99</td>\n",
       "    </tr>\n",
       "    <tr>\n",
       "      <th>15</th>\n",
       "      <td>20in Monitor</td>\n",
       "      <td>4126</td>\n",
       "      <td>109.99</td>\n",
       "    </tr>\n",
       "    <tr>\n",
       "      <th>16</th>\n",
       "      <td>Vareebadd Phone</td>\n",
       "      <td>2068</td>\n",
       "      <td>400.00</td>\n",
       "    </tr>\n",
       "    <tr>\n",
       "      <th>17</th>\n",
       "      <td>LG Washing Machine</td>\n",
       "      <td>666</td>\n",
       "      <td>600.00</td>\n",
       "    </tr>\n",
       "    <tr>\n",
       "      <th>18</th>\n",
       "      <td>LG Dryer</td>\n",
       "      <td>646</td>\n",
       "      <td>600.00</td>\n",
       "    </tr>\n",
       "  </tbody>\n",
       "</table>\n",
       "</div>"
      ],
      "text/plain": [
       "                       Product  Quantity Ordered  Price Each\n",
       "0       AAA Batteries (4-pack)             30986        2.99\n",
       "1        AA Batteries (4-pack)             27615        3.84\n",
       "2         USB-C Charging Cable             23931       11.95\n",
       "3     Lightning Charging Cable             23169       14.95\n",
       "4             Wired Headphones             20524       11.99\n",
       "5     Apple Airpods Headphones             15637      150.00\n",
       "6   Bose SoundSport Headphones             13430       99.99\n",
       "7             27in FHD Monitor              7541      149.99\n",
       "8                       iPhone              6847      700.00\n",
       "9       27in 4K Gaming Monitor              6239      389.99\n",
       "10      34in Ultrawide Monitor              6192      379.99\n",
       "11                Google Phone              5529      600.00\n",
       "12               Flatscreen TV              4813      300.00\n",
       "13          Macbook Pro Laptop              4725     1700.00\n",
       "14             ThinkPad Laptop              4128      999.99\n",
       "15                20in Monitor              4126      109.99\n",
       "16             Vareebadd Phone              2068      400.00\n",
       "17          LG Washing Machine               666      600.00\n",
       "18                    LG Dryer               646      600.00"
      ]
     },
     "execution_count": 22,
     "metadata": {},
     "output_type": "execute_result"
    }
   ],
   "source": [
    "# Count total sales by product\n",
    "count_df = all_data.groupby(\"Product\").agg({'Quantity Ordered': 'sum', 'Price Each': 'mean'}).sort_values(by='Quantity Ordered', ascending=False)\n",
    "count_df.reset_index(inplace=True)\n",
    "count_df"
   ]
  },
  {
   "cell_type": "code",
   "execution_count": null,
   "metadata": {},
   "outputs": [],
   "source": []
  },
  {
   "cell_type": "code",
   "execution_count": null,
   "metadata": {},
   "outputs": [
    {
     "name": "stderr",
     "output_type": "stream",
     "text": [
      "/var/folders/kh/hv0681hd5n1bnsmh2y16qm3h0000gn/T/ipykernel_74378/3735931883.py:6: UserWarning: set_ticklabels() should only be used with a fixed number of ticks, i.e. after set_ticks() or using a FixedLocator.\n",
      "  ax1.set_xticklabels(count_df['Product'], rotation='vertical', size=8)\n"
     ]
    },
    {
     "data": {
      "image/png": "[encoded data removed]",
      "text/plain": [
       "<Figure size 640x480 with 2 Axes>"
      ]
     },
     "metadata": {},
     "output_type": "display_data"
    }
   ],
   "source": [
    "# Plot product sales and price\n",
    "fig, ax1 = plt.subplots()\n",
    "ax2 = ax1.twinx()\n",
    "ax1.bar(count_df['Product'], count_df['Quantity Ordered'], color='g')\n",
    "ax2.plot(count_df['Product'], count_df['Price Each'], color='b')\n",
    "\n",
    "ax1.set_xticklabels(count_df['Product'], rotation='vertical', size=8)\n",
    "ax1.set_ylabel('Quantity Ordered', color='g')\n",
    "ax2.set_ylabel('Average Price (USD)', color='b')\n",
    "plt.title('Product Sales and Price')\n",
    "plt.tight_layout()\n",
    "\n",
    "plt.show()"
   ]
  },
  {
   "cell_type": "code",
   "execution_count": null,
   "metadata": {},
   "outputs": [],
   "source": []
  },
  {
   "cell_type": "code",
   "execution_count": null,
   "metadata": {},
   "outputs": [
    {
     "data": {
      "text/plain": [
       "Index(['USB-C Charging Cable', 'Lightning Charging Cable',\n",
       "       'AAA Batteries (4-pack)', 'AA Batteries (4-pack)', 'Wired Headphones'],\n",
       "      dtype='object', name='Product')"
      ]
     },
     "execution_count": 24,
     "metadata": {},
     "output_type": "execute_result"
    }
   ],
   "source": [
    "# Identify the top 5 most sold products\n",
    "most_sold = all_data[\"Product\"].value_counts()[0:5].index\n",
    "most_sold"
   ]
  },
  {
   "cell_type": "code",
   "execution_count": null,
   "metadata": {},
   "outputs": [
    {
     "data": {
      "application/vnd.microsoft.datawrangler.viewer.v0+json": {
       "columns": [
        {
         "name": "index",
         "rawType": "int64",
         "type": "integer"
        },
        {
         "name": "Order ID",
         "rawType": "object",
         "type": "string"
        },
        {
         "name": "Product",
         "rawType": "object",
         "type": "string"
        },
        {
         "name": "Quantity Ordered",
         "rawType": "int64",
         "type": "integer"
        },
        {
         "name": "Price Each",
         "rawType": "float64",
         "type": "float"
        },
        {
         "name": "Order Date",
         "rawType": "datetime64[ns]",
         "type": "datetime"
        },
        {
         "name": "Purchase Address",
         "rawType": "object",
         "type": "string"
        },
        {
         "name": "Month",
         "rawType": "int32",
         "type": "integer"
        },
        {
         "name": "Sales",
         "rawType": "float64",
         "type": "float"
        },
        {
         "name": "City",
         "rawType": "object",
         "type": "string"
        }
       ],
       "ref": "5108f663-2bf0-45b7-bc67-0176eb66a19e",
       "rows": [
        [
         "0",
         "176558",
         "USB-C Charging Cable",
         "2",
         "11.95",
         "2019-04-19 08:46:00",
         "917 1st St, Dallas, TX 75001",
         "4",
         "23.9",
         "Dallas"
        ],
        [
         "4",
         "176560",
         "Wired Headphones",
         "1",
         "11.99",
         "2019-04-12 14:38:00",
         "669 Spruce St, Los Angeles, CA 90001",
         "4",
         "11.99",
         "Los Angeles"
        ],
        [
         "5",
         "176561",
         "Wired Headphones",
         "1",
         "11.99",
         "2019-04-30 09:27:00",
         "333 8th St, Los Angeles, CA 90001",
         "4",
         "11.99",
         "Los Angeles"
        ],
        [
         "6",
         "176562",
         "USB-C Charging Cable",
         "1",
         "11.95",
         "2019-04-29 13:03:00",
         "381 Wilson St, San Francisco, CA 94016",
         "4",
         "11.95",
         "San Francisco"
        ],
        [
         "8",
         "176564",
         "USB-C Charging Cable",
         "1",
         "11.95",
         "2019-04-12 10:58:00",
         "790 Ridge St, Atlanta, GA 30301",
         "4",
         "11.95",
         "Atlanta"
        ],
        [
         "10",
         "176566",
         "Wired Headphones",
         "1",
         "11.99",
         "2019-04-08 14:05:00",
         "83 7th St, Boston, MA 02215",
         "4",
         "11.99",
         "Boston"
        ],
        [
         "12",
         "176568",
         "Lightning Charging Cable",
         "1",
         "14.95",
         "2019-04-15 12:18:00",
         "438 Elm St, Seattle, WA 98101",
         "4",
         "14.95",
         "Seattle"
        ],
        [
         "14",
         "176570",
         "AA Batteries (4-pack)",
         "1",
         "3.84",
         "2019-04-22 15:09:00",
         "186 12th St, Dallas, TX 75001",
         "4",
         "3.84",
         "Dallas"
        ],
        [
         "15",
         "176571",
         "Lightning Charging Cable",
         "1",
         "14.95",
         "2019-04-19 14:29:00",
         "253 Johnson St, Atlanta, GA 30301",
         "4",
         "14.95",
         "Atlanta"
        ],
        [
         "17",
         "176573",
         "USB-C Charging Cable",
         "1",
         "11.95",
         "2019-04-27 18:41:00",
         "214 Chestnut St, San Francisco, CA 94016",
         "4",
         "11.95",
         "San Francisco"
        ],
        [
         "19",
         "176574",
         "USB-C Charging Cable",
         "1",
         "11.95",
         "2019-04-03 19:42:00",
         "20 Hill St, Los Angeles, CA 90001",
         "4",
         "11.95",
         "Los Angeles"
        ],
        [
         "20",
         "176575",
         "AAA Batteries (4-pack)",
         "1",
         "2.99",
         "2019-04-27 00:30:00",
         "433 Hill St, New York City, NY 10001",
         "4",
         "2.99",
         "New York City"
        ],
        [
         "24",
         "176579",
         "AA Batteries (4-pack)",
         "1",
         "3.84",
         "2019-04-11 10:23:00",
         "886 Jefferson St, New York City, NY 10001",
         "4",
         "3.84",
         "New York City"
        ],
        [
         "25",
         "176580",
         "USB-C Charging Cable",
         "1",
         "11.95",
         "2019-04-05 00:35:00",
         "886 Willow St, Los Angeles, CA 90001",
         "4",
         "11.95",
         "Los Angeles"
        ],
        [
         "28",
         "176583",
         "AAA Batteries (4-pack)",
         "2",
         "2.99",
         "2019-04-20 12:00:00",
         "146 Jackson St, Portland, OR 97035",
         "4",
         "5.98",
         "Portland"
        ],
        [
         "32",
         "176586",
         "AAA Batteries (4-pack)",
         "2",
         "2.99",
         "2019-04-10 17:00:00",
         "365 Center St, San Francisco, CA 94016",
         "4",
         "5.98",
         "San Francisco"
        ],
        [
         "36",
         "176589",
         "Lightning Charging Cable",
         "1",
         "14.95",
         "2019-04-04 12:23:00",
         "846 Highland St, Atlanta, GA 30301",
         "4",
         "14.95",
         "Atlanta"
        ],
        [
         "39",
         "176592",
         "USB-C Charging Cable",
         "1",
         "11.95",
         "2019-04-27 13:04:00",
         "352 4th St, Los Angeles, CA 90001",
         "4",
         "11.95",
         "Los Angeles"
        ],
        [
         "40",
         "176593",
         "Lightning Charging Cable",
         "2",
         "14.95",
         "2019-04-15 13:45:00",
         "906 7th St, Portland, OR 97035",
         "4",
         "29.9",
         "Portland"
        ],
        [
         "41",
         "176594",
         "Wired Headphones",
         "1",
         "11.99",
         "2019-04-17 23:04:00",
         "63 Maple St, San Francisco, CA 94016",
         "4",
         "11.99",
         "San Francisco"
        ],
        [
         "42",
         "176595",
         "Wired Headphones",
         "3",
         "11.99",
         "2019-04-02 09:11:00",
         "383 6th St, Los Angeles, CA 90001",
         "4",
         "35.97",
         "Los Angeles"
        ],
        [
         "44",
         "176597",
         "USB-C Charging Cable",
         "1",
         "11.95",
         "2019-04-19 13:39:00",
         "681 11th St, San Francisco, CA 94016",
         "4",
         "11.95",
         "San Francisco"
        ],
        [
         "45",
         "176598",
         "AAA Batteries (4-pack)",
         "2",
         "2.99",
         "2019-04-21 20:33:00",
         "294 Park St, San Francisco, CA 94016",
         "4",
         "5.98",
         "San Francisco"
        ],
        [
         "46",
         "176599",
         "Lightning Charging Cable",
         "1",
         "14.95",
         "2019-04-11 15:25:00",
         "279 Maple St, New York City, NY 10001",
         "4",
         "14.95",
         "New York City"
        ],
        [
         "48",
         "176601",
         "USB-C Charging Cable",
         "1",
         "11.95",
         "2019-04-02 22:32:00",
         "754 10th St, Los Angeles, CA 90001",
         "4",
         "11.95",
         "Los Angeles"
        ],
        [
         "49",
         "176602",
         "Lightning Charging Cable",
         "1",
         "14.95",
         "2019-04-30 09:39:00",
         "9 Jefferson St, Dallas, TX 75001",
         "4",
         "14.95",
         "Dallas"
        ],
        [
         "50",
         "176603",
         "USB-C Charging Cable",
         "1",
         "11.95",
         "2019-04-01 07:46:00",
         "858 6th St, San Francisco, CA 94016",
         "4",
         "11.95",
         "San Francisco"
        ],
        [
         "51",
         "176604",
         "USB-C Charging Cable",
         "1",
         "11.95",
         "2019-04-02 10:57:00",
         "462 11th St, San Francisco, CA 94016",
         "4",
         "11.95",
         "San Francisco"
        ],
        [
         "52",
         "176605",
         "USB-C Charging Cable",
         "1",
         "11.95",
         "2019-04-15 16:29:00",
         "717 Pine St, San Francisco, CA 94016",
         "4",
         "11.95",
         "San Francisco"
        ],
        [
         "54",
         "176607",
         "AAA Batteries (4-pack)",
         "2",
         "2.99",
         "2019-04-18 12:11:00",
         "689 10th St, Boston, MA 02215",
         "4",
         "5.98",
         "Boston"
        ],
        [
         "57",
         "176610",
         "AAA Batteries (4-pack)",
         "1",
         "2.99",
         "2019-04-26 00:40:00",
         "382 River St, Dallas, TX 75001",
         "4",
         "2.99",
         "Dallas"
        ],
        [
         "60",
         "176613",
         "USB-C Charging Cable",
         "2",
         "11.95",
         "2019-04-26 18:58:00",
         "405 4th St, New York City, NY 10001",
         "4",
         "23.9",
         "New York City"
        ],
        [
         "61",
         "176614",
         "AA Batteries (4-pack)",
         "1",
         "3.84",
         "2019-04-07 21:01:00",
         "647 Jackson St, San Francisco, CA 94016",
         "4",
         "3.84",
         "San Francisco"
        ],
        [
         "62",
         "176615",
         "Lightning Charging Cable",
         "1",
         "14.95",
         "2019-04-30 10:35:00",
         "833 River St, Dallas, TX 75001",
         "4",
         "14.95",
         "Dallas"
        ],
        [
         "63",
         "176616",
         "USB-C Charging Cable",
         "1",
         "11.95",
         "2019-04-05 20:40:00",
         "380 Washington St, San Francisco, CA 94016",
         "4",
         "11.95",
         "San Francisco"
        ],
        [
         "65",
         "176618",
         "Lightning Charging Cable",
         "2",
         "14.95",
         "2019-04-18 21:44:00",
         "273 South St, San Francisco, CA 94016",
         "4",
         "29.9",
         "San Francisco"
        ],
        [
         "67",
         "176620",
         "USB-C Charging Cable",
         "1",
         "11.95",
         "2019-04-17 10:39:00",
         "994 Pine St, Los Angeles, CA 90001",
         "4",
         "11.95",
         "Los Angeles"
        ],
        [
         "68",
         "176621",
         "Lightning Charging Cable",
         "1",
         "14.95",
         "2019-04-11 16:09:00",
         "863 8th St, Boston, MA 02215",
         "4",
         "14.95",
         "Boston"
        ],
        [
         "69",
         "176622",
         "AA Batteries (4-pack)",
         "1",
         "3.84",
         "2019-04-11 20:16:00",
         "983 11th St, San Francisco, CA 94016",
         "4",
         "3.84",
         "San Francisco"
        ],
        [
         "71",
         "176624",
         "AA Batteries (4-pack)",
         "1",
         "3.84",
         "2019-04-28 10:44:00",
         "664 Church St, Seattle, WA 98101",
         "4",
         "3.84",
         "Seattle"
        ],
        [
         "72",
         "176625",
         "AAA Batteries (4-pack)",
         "2",
         "2.99",
         "2019-04-24 19:00:00",
         "858 5th St, San Francisco, CA 94016",
         "4",
         "5.98",
         "San Francisco"
        ],
        [
         "74",
         "176627",
         "Wired Headphones",
         "1",
         "11.99",
         "2019-04-21 14:57:00",
         "994 13th St, Atlanta, GA 30301",
         "4",
         "11.99",
         "Atlanta"
        ],
        [
         "75",
         "176628",
         "Lightning Charging Cable",
         "2",
         "14.95",
         "2019-04-15 04:03:00",
         "628 Wilson St, Dallas, TX 75001",
         "4",
         "29.9",
         "Dallas"
        ],
        [
         "76",
         "176629",
         "USB-C Charging Cable",
         "1",
         "11.95",
         "2019-04-24 11:56:00",
         "101 Lincoln St, San Francisco, CA 94016",
         "4",
         "11.95",
         "San Francisco"
        ],
        [
         "78",
         "176631",
         "USB-C Charging Cable",
         "1",
         "11.95",
         "2019-04-13 18:48:00",
         "292 Dogwood St, San Francisco, CA 94016",
         "4",
         "11.95",
         "San Francisco"
        ],
        [
         "79",
         "176632",
         "AAA Batteries (4-pack)",
         "1",
         "2.99",
         "2019-04-14 14:28:00",
         "814 Madison St, San Francisco, CA 94016",
         "4",
         "2.99",
         "San Francisco"
        ],
        [
         "81",
         "176634",
         "Lightning Charging Cable",
         "1",
         "14.95",
         "2019-04-10 08:00:00",
         "311 Madison St, Atlanta, GA 30301",
         "4",
         "14.95",
         "Atlanta"
        ],
        [
         "83",
         "176636",
         "AA Batteries (4-pack)",
         "1",
         "3.84",
         "2019-04-30 20:37:00",
         "140 10th St, Boston, MA 02215",
         "4",
         "3.84",
         "Boston"
        ],
        [
         "84",
         "176637",
         "AAA Batteries (4-pack)",
         "1",
         "2.99",
         "2019-04-17 10:03:00",
         "261 Sunset St, New York City, NY 10001",
         "4",
         "2.99",
         "New York City"
        ],
        [
         "85",
         "176638",
         "USB-C Charging Cable",
         "1",
         "11.95",
         "2019-04-20 08:33:00",
         "869 Cherry St, Boston, MA 02215",
         "4",
         "11.95",
         "Boston"
        ]
       ],
       "shape": {
        "columns": 9,
        "rows": 103488
       }
      },
      "text/html": [
       "<div>\n",
       "<style scoped>\n",
       "    .dataframe tbody tr th:only-of-type {\n",
       "        vertical-align: middle;\n",
       "    }\n",
       "\n",
       "    .dataframe tbody tr th {\n",
       "        vertical-align: top;\n",
       "    }\n",
       "\n",
       "    .dataframe thead th {\n",
       "        text-align: right;\n",
       "    }\n",
       "</style>\n",
       "<table border=\"1\" class=\"dataframe\">\n",
       "  <thead>\n",
       "    <tr style=\"text-align: right;\">\n",
       "      <th></th>\n",
       "      <th>Order ID</th>\n",
       "      <th>Product</th>\n",
       "      <th>Quantity Ordered</th>\n",
       "      <th>Price Each</th>\n",
       "      <th>Order Date</th>\n",
       "      <th>Purchase Address</th>\n",
       "      <th>Month</th>\n",
       "      <th>Sales</th>\n",
       "      <th>City</th>\n",
       "    </tr>\n",
       "  </thead>\n",
       "  <tbody>\n",
       "    <tr>\n",
       "      <th>0</th>\n",
       "      <td>176558</td>\n",
       "      <td>USB-C Charging Cable</td>\n",
       "      <td>2</td>\n",
       "      <td>11.95</td>\n",
       "      <td>2019-04-19 08:46:00</td>\n",
       "      <td>917 1st St, Dallas, TX 75001</td>\n",
       "      <td>4</td>\n",
       "      <td>23.90</td>\n",
       "      <td>Dallas</td>\n",
       "    </tr>\n",
       "    <tr>\n",
       "      <th>4</th>\n",
       "      <td>176560</td>\n",
       "      <td>Wired Headphones</td>\n",
       "      <td>1</td>\n",
       "      <td>11.99</td>\n",
       "      <td>2019-04-12 14:38:00</td>\n",
       "      <td>669 Spruce St, Los Angeles, CA 90001</td>\n",
       "      <td>4</td>\n",
       "      <td>11.99</td>\n",
       "      <td>Los Angeles</td>\n",
       "    </tr>\n",
       "    <tr>\n",
       "      <th>5</th>\n",
       "      <td>176561</td>\n",
       "      <td>Wired Headphones</td>\n",
       "      <td>1</td>\n",
       "      <td>11.99</td>\n",
       "      <td>2019-04-30 09:27:00</td>\n",
       "      <td>333 8th St, Los Angeles, CA 90001</td>\n",
       "      <td>4</td>\n",
       "      <td>11.99</td>\n",
       "      <td>Los Angeles</td>\n",
       "    </tr>\n",
       "    <tr>\n",
       "      <th>6</th>\n",
       "      <td>176562</td>\n",
       "      <td>USB-C Charging Cable</td>\n",
       "      <td>1</td>\n",
       "      <td>11.95</td>\n",
       "      <td>2019-04-29 13:03:00</td>\n",
       "      <td>381 Wilson St, San Francisco, CA 94016</td>\n",
       "      <td>4</td>\n",
       "      <td>11.95</td>\n",
       "      <td>San Francisco</td>\n",
       "    </tr>\n",
       "    <tr>\n",
       "      <th>8</th>\n",
       "      <td>176564</td>\n",
       "      <td>USB-C Charging Cable</td>\n",
       "      <td>1</td>\n",
       "      <td>11.95</td>\n",
       "      <td>2019-04-12 10:58:00</td>\n",
       "      <td>790 Ridge St, Atlanta, GA 30301</td>\n",
       "      <td>4</td>\n",
       "      <td>11.95</td>\n",
       "      <td>Atlanta</td>\n",
       "    </tr>\n",
       "    <tr>\n",
       "      <th>...</th>\n",
       "      <td>...</td>\n",
       "      <td>...</td>\n",
       "      <td>...</td>\n",
       "      <td>...</td>\n",
       "      <td>...</td>\n",
       "      <td>...</td>\n",
       "      <td>...</td>\n",
       "      <td>...</td>\n",
       "      <td>...</td>\n",
       "    </tr>\n",
       "    <tr>\n",
       "      <th>186840</th>\n",
       "      <td>259349</td>\n",
       "      <td>AAA Batteries (4-pack)</td>\n",
       "      <td>1</td>\n",
       "      <td>2.99</td>\n",
       "      <td>2019-09-01 22:14:00</td>\n",
       "      <td>911 River St, Dallas, TX 75001</td>\n",
       "      <td>9</td>\n",
       "      <td>2.99</td>\n",
       "      <td>Dallas</td>\n",
       "    </tr>\n",
       "    <tr>\n",
       "      <th>186842</th>\n",
       "      <td>259350</td>\n",
       "      <td>USB-C Charging Cable</td>\n",
       "      <td>1</td>\n",
       "      <td>11.95</td>\n",
       "      <td>2019-09-30 13:49:00</td>\n",
       "      <td>519 Maple St, San Francisco, CA 94016</td>\n",
       "      <td>9</td>\n",
       "      <td>11.95</td>\n",
       "      <td>San Francisco</td>\n",
       "    </tr>\n",
       "    <tr>\n",
       "      <th>186844</th>\n",
       "      <td>259352</td>\n",
       "      <td>USB-C Charging Cable</td>\n",
       "      <td>1</td>\n",
       "      <td>11.95</td>\n",
       "      <td>2019-09-07 15:49:00</td>\n",
       "      <td>976 Forest St, San Francisco, CA 94016</td>\n",
       "      <td>9</td>\n",
       "      <td>11.95</td>\n",
       "      <td>San Francisco</td>\n",
       "    </tr>\n",
       "    <tr>\n",
       "      <th>186845</th>\n",
       "      <td>259353</td>\n",
       "      <td>AAA Batteries (4-pack)</td>\n",
       "      <td>3</td>\n",
       "      <td>2.99</td>\n",
       "      <td>2019-09-17 20:56:00</td>\n",
       "      <td>840 Highland St, Los Angeles, CA 90001</td>\n",
       "      <td>9</td>\n",
       "      <td>8.97</td>\n",
       "      <td>Los Angeles</td>\n",
       "    </tr>\n",
       "    <tr>\n",
       "      <th>186849</th>\n",
       "      <td>259357</td>\n",
       "      <td>USB-C Charging Cable</td>\n",
       "      <td>1</td>\n",
       "      <td>11.95</td>\n",
       "      <td>2019-09-30 00:18:00</td>\n",
       "      <td>250 Meadow St, San Francisco, CA 94016</td>\n",
       "      <td>9</td>\n",
       "      <td>11.95</td>\n",
       "      <td>San Francisco</td>\n",
       "    </tr>\n",
       "  </tbody>\n",
       "</table>\n",
       "<p>103488 rows × 9 columns</p>\n",
       "</div>"
      ],
      "text/plain": [
       "       Order ID                 Product  Quantity Ordered  Price Each  \\\n",
       "0        176558    USB-C Charging Cable                 2       11.95   \n",
       "4        176560        Wired Headphones                 1       11.99   \n",
       "5        176561        Wired Headphones                 1       11.99   \n",
       "6        176562    USB-C Charging Cable                 1       11.95   \n",
       "8        176564    USB-C Charging Cable                 1       11.95   \n",
       "...         ...                     ...               ...         ...   \n",
       "186840   259349  AAA Batteries (4-pack)                 1        2.99   \n",
       "186842   259350    USB-C Charging Cable                 1       11.95   \n",
       "186844   259352    USB-C Charging Cable                 1       11.95   \n",
       "186845   259353  AAA Batteries (4-pack)                 3        2.99   \n",
       "186849   259357    USB-C Charging Cable                 1       11.95   \n",
       "\n",
       "                Order Date                        Purchase Address  Month  \\\n",
       "0      2019-04-19 08:46:00            917 1st St, Dallas, TX 75001      4   \n",
       "4      2019-04-12 14:38:00    669 Spruce St, Los Angeles, CA 90001      4   \n",
       "5      2019-04-30 09:27:00       333 8th St, Los Angeles, CA 90001      4   \n",
       "6      2019-04-29 13:03:00  381 Wilson St, San Francisco, CA 94016      4   \n",
       "8      2019-04-12 10:58:00         790 Ridge St, Atlanta, GA 30301      4   \n",
       "...                    ...                                     ...    ...   \n",
       "186840 2019-09-01 22:14:00          911 River St, Dallas, TX 75001      9   \n",
       "186842 2019-09-30 13:49:00   519 Maple St, San Francisco, CA 94016      9   \n",
       "186844 2019-09-07 15:49:00  976 Forest St, San Francisco, CA 94016      9   \n",
       "186845 2019-09-17 20:56:00  840 Highland St, Los Angeles, CA 90001      9   \n",
       "186849 2019-09-30 00:18:00  250 Meadow St, San Francisco, CA 94016      9   \n",
       "\n",
       "        Sales           City  \n",
       "0       23.90         Dallas  \n",
       "4       11.99    Los Angeles  \n",
       "5       11.99    Los Angeles  \n",
       "6       11.95  San Francisco  \n",
       "8       11.95        Atlanta  \n",
       "...       ...            ...  \n",
       "186840   2.99         Dallas  \n",
       "186842  11.95  San Francisco  \n",
       "186844  11.95  San Francisco  \n",
       "186845   8.97    Los Angeles  \n",
       "186849  11.95  San Francisco  \n",
       "\n",
       "[103488 rows x 9 columns]"
      ]
     },
     "execution_count": 25,
     "metadata": {},
     "output_type": "execute_result"
    }
   ],
   "source": [
    "# Filter data for the most sold products\n",
    "most_sold_df = all_data[all_data[\"Product\"].isin(most_sold)]\n",
    "most_sold_df"
   ]
  },
  {
   "cell_type": "code",
   "execution_count": null,
   "metadata": {},
   "outputs": [
    {
     "data": {
      "application/vnd.microsoft.datawrangler.viewer.v0+json": {
       "columns": [
        {
         "name": "Month",
         "rawType": "int32",
         "type": "integer"
        },
        {
         "name": "AA Batteries (4-pack)",
         "rawType": "int64",
         "type": "integer"
        },
        {
         "name": "AAA Batteries (4-pack)",
         "rawType": "int64",
         "type": "integer"
        },
        {
         "name": "Lightning Charging Cable",
         "rawType": "int64",
         "type": "integer"
        },
        {
         "name": "USB-C Charging Cable",
         "rawType": "int64",
         "type": "integer"
        },
        {
         "name": "Wired Headphones",
         "rawType": "int64",
         "type": "integer"
        }
       ],
       "ref": "7993516d-0d3b-4b68-b195-a104fa9293bb",
       "rows": [
        [
         "1",
         "1037",
         "1084",
         "1069",
         "1171",
         "1004"
        ],
        [
         "2",
         "1274",
         "1320",
         "1393",
         "1511",
         "1179"
        ],
        [
         "3",
         "1672",
         "1645",
         "1749",
         "1766",
         "1512"
        ],
        [
         "4",
         "2062",
         "1988",
         "2197",
         "2074",
         "1888"
        ],
        [
         "5",
         "1821",
         "1888",
         "1929",
         "1879",
         "1729"
        ],
        [
         "6",
         "1540",
         "1451",
         "1560",
         "1531",
         "1334"
        ],
        [
         "7",
         "1555",
         "1554",
         "1690",
         "1667",
         "1434"
        ],
        [
         "8",
         "1357",
         "1340",
         "1354",
         "1339",
         "1191"
        ],
        [
         "9",
         "1314",
         "1281",
         "1324",
         "1451",
         "1173"
        ],
        [
         "10",
         "2240",
         "2234",
         "2414",
         "2437",
         "2091"
        ],
        [
         "11",
         "1970",
         "1999",
         "2044",
         "2054",
         "1777"
        ],
        [
         "12",
         "2716",
         "2828",
         "2887",
         "2979",
         "2537"
        ]
       ],
       "shape": {
        "columns": 5,
        "rows": 12
       }
      },
      "text/html": [
       "<div>\n",
       "<style scoped>\n",
       "    .dataframe tbody tr th:only-of-type {\n",
       "        vertical-align: middle;\n",
       "    }\n",
       "\n",
       "    .dataframe tbody tr th {\n",
       "        vertical-align: top;\n",
       "    }\n",
       "\n",
       "    .dataframe thead th {\n",
       "        text-align: right;\n",
       "    }\n",
       "</style>\n",
       "<table border=\"1\" class=\"dataframe\">\n",
       "  <thead>\n",
       "    <tr style=\"text-align: right;\">\n",
       "      <th>Product</th>\n",
       "      <th>AA Batteries (4-pack)</th>\n",
       "      <th>AAA Batteries (4-pack)</th>\n",
       "      <th>Lightning Charging Cable</th>\n",
       "      <th>USB-C Charging Cable</th>\n",
       "      <th>Wired Headphones</th>\n",
       "    </tr>\n",
       "    <tr>\n",
       "      <th>Month</th>\n",
       "      <th></th>\n",
       "      <th></th>\n",
       "      <th></th>\n",
       "      <th></th>\n",
       "      <th></th>\n",
       "    </tr>\n",
       "  </thead>\n",
       "  <tbody>\n",
       "    <tr>\n",
       "      <th>1</th>\n",
       "      <td>1037</td>\n",
       "      <td>1084</td>\n",
       "      <td>1069</td>\n",
       "      <td>1171</td>\n",
       "      <td>1004</td>\n",
       "    </tr>\n",
       "    <tr>\n",
       "      <th>2</th>\n",
       "      <td>1274</td>\n",
       "      <td>1320</td>\n",
       "      <td>1393</td>\n",
       "      <td>1511</td>\n",
       "      <td>1179</td>\n",
       "    </tr>\n",
       "    <tr>\n",
       "      <th>3</th>\n",
       "      <td>1672</td>\n",
       "      <td>1645</td>\n",
       "      <td>1749</td>\n",
       "      <td>1766</td>\n",
       "      <td>1512</td>\n",
       "    </tr>\n",
       "    <tr>\n",
       "      <th>4</th>\n",
       "      <td>2062</td>\n",
       "      <td>1988</td>\n",
       "      <td>2197</td>\n",
       "      <td>2074</td>\n",
       "      <td>1888</td>\n",
       "    </tr>\n",
       "    <tr>\n",
       "      <th>5</th>\n",
       "      <td>1821</td>\n",
       "      <td>1888</td>\n",
       "      <td>1929</td>\n",
       "      <td>1879</td>\n",
       "      <td>1729</td>\n",
       "    </tr>\n",
       "    <tr>\n",
       "      <th>6</th>\n",
       "      <td>1540</td>\n",
       "      <td>1451</td>\n",
       "      <td>1560</td>\n",
       "      <td>1531</td>\n",
       "      <td>1334</td>\n",
       "    </tr>\n",
       "    <tr>\n",
       "      <th>7</th>\n",
       "      <td>1555</td>\n",
       "      <td>1554</td>\n",
       "      <td>1690</td>\n",
       "      <td>1667</td>\n",
       "      <td>1434</td>\n",
       "    </tr>\n",
       "    <tr>\n",
       "      <th>8</th>\n",
       "      <td>1357</td>\n",
       "      <td>1340</td>\n",
       "      <td>1354</td>\n",
       "      <td>1339</td>\n",
       "      <td>1191</td>\n",
       "    </tr>\n",
       "    <tr>\n",
       "      <th>9</th>\n",
       "      <td>1314</td>\n",
       "      <td>1281</td>\n",
       "      <td>1324</td>\n",
       "      <td>1451</td>\n",
       "      <td>1173</td>\n",
       "    </tr>\n",
       "    <tr>\n",
       "      <th>10</th>\n",
       "      <td>2240</td>\n",
       "      <td>2234</td>\n",
       "      <td>2414</td>\n",
       "      <td>2437</td>\n",
       "      <td>2091</td>\n",
       "    </tr>\n",
       "    <tr>\n",
       "      <th>11</th>\n",
       "      <td>1970</td>\n",
       "      <td>1999</td>\n",
       "      <td>2044</td>\n",
       "      <td>2054</td>\n",
       "      <td>1777</td>\n",
       "    </tr>\n",
       "    <tr>\n",
       "      <th>12</th>\n",
       "      <td>2716</td>\n",
       "      <td>2828</td>\n",
       "      <td>2887</td>\n",
       "      <td>2979</td>\n",
       "      <td>2537</td>\n",
       "    </tr>\n",
       "  </tbody>\n",
       "</table>\n",
       "</div>"
      ],
      "text/plain": [
       "Product  AA Batteries (4-pack)  AAA Batteries (4-pack)  \\\n",
       "Month                                                    \n",
       "1                         1037                    1084   \n",
       "2                         1274                    1320   \n",
       "3                         1672                    1645   \n",
       "4                         2062                    1988   \n",
       "5                         1821                    1888   \n",
       "6                         1540                    1451   \n",
       "7                         1555                    1554   \n",
       "8                         1357                    1340   \n",
       "9                         1314                    1281   \n",
       "10                        2240                    2234   \n",
       "11                        1970                    1999   \n",
       "12                        2716                    2828   \n",
       "\n",
       "Product  Lightning Charging Cable  USB-C Charging Cable  Wired Headphones  \n",
       "Month                                                                      \n",
       "1                            1069                  1171              1004  \n",
       "2                            1393                  1511              1179  \n",
       "3                            1749                  1766              1512  \n",
       "4                            2197                  2074              1888  \n",
       "5                            1929                  1879              1729  \n",
       "6                            1560                  1531              1334  \n",
       "7                            1690                  1667              1434  \n",
       "8                            1354                  1339              1191  \n",
       "9                            1324                  1451              1173  \n",
       "10                           2414                  2437              2091  \n",
       "11                           2044                  2054              1777  \n",
       "12                           2887                  2979              2537  "
      ]
     },
     "execution_count": 26,
     "metadata": {},
     "output_type": "execute_result"
    }
   ],
   "source": [
    "# Create a pivot table of sales by month for the most sold products\n",
    "pivot_df = most_sold_df.groupby(['Month', 'Product']).size().unstack()\n",
    "pivot_df"
   ]
  },
  {
   "cell_type": "code",
   "execution_count": null,
   "metadata": {},
   "outputs": [
    {
     "data": {
      "application/vnd.microsoft.datawrangler.viewer.v0+json": {
       "columns": [
        {
         "name": "Month",
         "rawType": "int32",
         "type": "integer"
        },
        {
         "name": "AA Batteries (4-pack)",
         "rawType": "int64",
         "type": "integer"
        },
        {
         "name": "AAA Batteries (4-pack)",
         "rawType": "int64",
         "type": "integer"
        },
        {
         "name": "Lightning Charging Cable",
         "rawType": "int64",
         "type": "integer"
        },
        {
         "name": "USB-C Charging Cable",
         "rawType": "int64",
         "type": "integer"
        },
        {
         "name": "Wired Headphones",
         "rawType": "int64",
         "type": "integer"
        }
       ],
       "ref": "cceab6aa-2c36-42db-b3aa-2139036f1fa5",
       "rows": [
        [
         "1",
         "1037",
         "1084",
         "1069",
         "1171",
         "1004"
        ],
        [
         "2",
         "1274",
         "1320",
         "1393",
         "1511",
         "1179"
        ],
        [
         "3",
         "1672",
         "1645",
         "1749",
         "1766",
         "1512"
        ],
        [
         "4",
         "2062",
         "1988",
         "2197",
         "2074",
         "1888"
        ],
        [
         "5",
         "1821",
         "1888",
         "1929",
         "1879",
         "1729"
        ],
        [
         "6",
         "1540",
         "1451",
         "1560",
         "1531",
         "1334"
        ],
        [
         "7",
         "1555",
         "1554",
         "1690",
         "1667",
         "1434"
        ],
        [
         "8",
         "1357",
         "1340",
         "1354",
         "1339",
         "1191"
        ],
        [
         "9",
         "1314",
         "1281",
         "1324",
         "1451",
         "1173"
        ],
        [
         "10",
         "2240",
         "2234",
         "2414",
         "2437",
         "2091"
        ],
        [
         "11",
         "1970",
         "1999",
         "2044",
         "2054",
         "1777"
        ],
        [
         "12",
         "2716",
         "2828",
         "2887",
         "2979",
         "2537"
        ]
       ],
       "shape": {
        "columns": 5,
        "rows": 12
       }
      },
      "text/html": [
       "<div>\n",
       "<style scoped>\n",
       "    .dataframe tbody tr th:only-of-type {\n",
       "        vertical-align: middle;\n",
       "    }\n",
       "\n",
       "    .dataframe tbody tr th {\n",
       "        vertical-align: top;\n",
       "    }\n",
       "\n",
       "    .dataframe thead th {\n",
       "        text-align: right;\n",
       "    }\n",
       "</style>\n",
       "<table border=\"1\" class=\"dataframe\">\n",
       "  <thead>\n",
       "    <tr style=\"text-align: right;\">\n",
       "      <th>Product</th>\n",
       "      <th>AA Batteries (4-pack)</th>\n",
       "      <th>AAA Batteries (4-pack)</th>\n",
       "      <th>Lightning Charging Cable</th>\n",
       "      <th>USB-C Charging Cable</th>\n",
       "      <th>Wired Headphones</th>\n",
       "    </tr>\n",
       "    <tr>\n",
       "      <th>Month</th>\n",
       "      <th></th>\n",
       "      <th></th>\n",
       "      <th></th>\n",
       "      <th></th>\n",
       "      <th></th>\n",
       "    </tr>\n",
       "  </thead>\n",
       "  <tbody>\n",
       "    <tr>\n",
       "      <th>1</th>\n",
       "      <td>1037</td>\n",
       "      <td>1084</td>\n",
       "      <td>1069</td>\n",
       "      <td>1171</td>\n",
       "      <td>1004</td>\n",
       "    </tr>\n",
       "    <tr>\n",
       "      <th>2</th>\n",
       "      <td>1274</td>\n",
       "      <td>1320</td>\n",
       "      <td>1393</td>\n",
       "      <td>1511</td>\n",
       "      <td>1179</td>\n",
       "    </tr>\n",
       "    <tr>\n",
       "      <th>3</th>\n",
       "      <td>1672</td>\n",
       "      <td>1645</td>\n",
       "      <td>1749</td>\n",
       "      <td>1766</td>\n",
       "      <td>1512</td>\n",
       "    </tr>\n",
       "    <tr>\n",
       "      <th>4</th>\n",
       "      <td>2062</td>\n",
       "      <td>1988</td>\n",
       "      <td>2197</td>\n",
       "      <td>2074</td>\n",
       "      <td>1888</td>\n",
       "    </tr>\n",
       "    <tr>\n",
       "      <th>5</th>\n",
       "      <td>1821</td>\n",
       "      <td>1888</td>\n",
       "      <td>1929</td>\n",
       "      <td>1879</td>\n",
       "      <td>1729</td>\n",
       "    </tr>\n",
       "    <tr>\n",
       "      <th>6</th>\n",
       "      <td>1540</td>\n",
       "      <td>1451</td>\n",
       "      <td>1560</td>\n",
       "      <td>1531</td>\n",
       "      <td>1334</td>\n",
       "    </tr>\n",
       "    <tr>\n",
       "      <th>7</th>\n",
       "      <td>1555</td>\n",
       "      <td>1554</td>\n",
       "      <td>1690</td>\n",
       "      <td>1667</td>\n",
       "      <td>1434</td>\n",
       "    </tr>\n",
       "    <tr>\n",
       "      <th>8</th>\n",
       "      <td>1357</td>\n",
       "      <td>1340</td>\n",
       "      <td>1354</td>\n",
       "      <td>1339</td>\n",
       "      <td>1191</td>\n",
       "    </tr>\n",
       "    <tr>\n",
       "      <th>9</th>\n",
       "      <td>1314</td>\n",
       "      <td>1281</td>\n",
       "      <td>1324</td>\n",
       "      <td>1451</td>\n",
       "      <td>1173</td>\n",
       "    </tr>\n",
       "    <tr>\n",
       "      <th>10</th>\n",
       "      <td>2240</td>\n",
       "      <td>2234</td>\n",
       "      <td>2414</td>\n",
       "      <td>2437</td>\n",
       "      <td>2091</td>\n",
       "    </tr>\n",
       "    <tr>\n",
       "      <th>11</th>\n",
       "      <td>1970</td>\n",
       "      <td>1999</td>\n",
       "      <td>2044</td>\n",
       "      <td>2054</td>\n",
       "      <td>1777</td>\n",
       "    </tr>\n",
       "    <tr>\n",
       "      <th>12</th>\n",
       "      <td>2716</td>\n",
       "      <td>2828</td>\n",
       "      <td>2887</td>\n",
       "      <td>2979</td>\n",
       "      <td>2537</td>\n",
       "    </tr>\n",
       "  </tbody>\n",
       "</table>\n",
       "</div>"
      ],
      "text/plain": [
       "Product  AA Batteries (4-pack)  AAA Batteries (4-pack)  \\\n",
       "Month                                                    \n",
       "1                         1037                    1084   \n",
       "2                         1274                    1320   \n",
       "3                         1672                    1645   \n",
       "4                         2062                    1988   \n",
       "5                         1821                    1888   \n",
       "6                         1540                    1451   \n",
       "7                         1555                    1554   \n",
       "8                         1357                    1340   \n",
       "9                         1314                    1281   \n",
       "10                        2240                    2234   \n",
       "11                        1970                    1999   \n",
       "12                        2716                    2828   \n",
       "\n",
       "Product  Lightning Charging Cable  USB-C Charging Cable  Wired Headphones  \n",
       "Month                                                                      \n",
       "1                            1069                  1171              1004  \n",
       "2                            1393                  1511              1179  \n",
       "3                            1749                  1766              1512  \n",
       "4                            2197                  2074              1888  \n",
       "5                            1929                  1879              1729  \n",
       "6                            1560                  1531              1334  \n",
       "7                            1690                  1667              1434  \n",
       "8                            1354                  1339              1191  \n",
       "9                            1324                  1451              1173  \n",
       "10                           2414                  2437              2091  \n",
       "11                           2044                  2054              1777  \n",
       "12                           2887                  2979              2537  "
      ]
     },
     "execution_count": 27,
     "metadata": {},
     "output_type": "execute_result"
    }
   ],
   "source": [
    "# Create a crosstab of sales by month for the most sold products\n",
    "pd.crosstab(most_sold_df['Month'], most_sold_df['Product'])"
   ]
  },
  {
   "cell_type": "code",
   "execution_count": null,
   "metadata": {},
   "outputs": [
    {
     "data": {
      "image/png": "[encoded data removed]",
      "text/plain": [
       "<Figure size 640x480 with 1 Axes>"
      ]
     },
     "metadata": {},
     "output_type": "display_data"
    }
   ],
   "source": [
    "# Plot sales trends of the most sold products over months\n",
    "pivot_df.plot()\n",
    "plt.show()"
   ]
  },
  {
   "cell_type": "code",
   "execution_count": null,
   "metadata": {},
   "outputs": [],
   "source": []
  },
  {
   "cell_type": "code",
   "execution_count": null,
   "metadata": {},
   "outputs": [
    {
     "data": {
      "application/vnd.microsoft.datawrangler.viewer.v0+json": {
       "columns": [
        {
         "name": "index",
         "rawType": "int64",
         "type": "integer"
        },
        {
         "name": "Order ID",
         "rawType": "object",
         "type": "string"
        },
        {
         "name": "Product",
         "rawType": "object",
         "type": "string"
        },
        {
         "name": "Quantity Ordered",
         "rawType": "int64",
         "type": "integer"
        },
        {
         "name": "Price Each",
         "rawType": "float64",
         "type": "float"
        },
        {
         "name": "Order Date",
         "rawType": "datetime64[ns]",
         "type": "datetime"
        },
        {
         "name": "Purchase Address",
         "rawType": "object",
         "type": "string"
        },
        {
         "name": "Month",
         "rawType": "int32",
         "type": "integer"
        },
        {
         "name": "Sales",
         "rawType": "float64",
         "type": "float"
        },
        {
         "name": "City",
         "rawType": "object",
         "type": "string"
        }
       ],
       "ref": "1a52f1ad-cd9a-497c-b28f-a00b3284eefe",
       "rows": [
        [
         "3",
         "176560",
         "Google Phone",
         "1",
         "600.0",
         "2019-04-12 14:38:00",
         "669 Spruce St, Los Angeles, CA 90001",
         "4",
         "600.0",
         "Los Angeles"
        ],
        [
         "4",
         "176560",
         "Wired Headphones",
         "1",
         "11.99",
         "2019-04-12 14:38:00",
         "669 Spruce St, Los Angeles, CA 90001",
         "4",
         "11.99",
         "Los Angeles"
        ],
        [
         "18",
         "176574",
         "Google Phone",
         "1",
         "600.0",
         "2019-04-03 19:42:00",
         "20 Hill St, Los Angeles, CA 90001",
         "4",
         "600.0",
         "Los Angeles"
        ],
        [
         "19",
         "176574",
         "USB-C Charging Cable",
         "1",
         "11.95",
         "2019-04-03 19:42:00",
         "20 Hill St, Los Angeles, CA 90001",
         "4",
         "11.95",
         "Los Angeles"
        ],
        [
         "32",
         "176586",
         "AAA Batteries (4-pack)",
         "2",
         "2.99",
         "2019-04-10 17:00:00",
         "365 Center St, San Francisco, CA 94016",
         "4",
         "5.98",
         "San Francisco"
        ],
        [
         "33",
         "176586",
         "Google Phone",
         "1",
         "600.0",
         "2019-04-10 17:00:00",
         "365 Center St, San Francisco, CA 94016",
         "4",
         "600.0",
         "San Francisco"
        ],
        [
         "119",
         "176672",
         "Lightning Charging Cable",
         "1",
         "14.95",
         "2019-04-12 11:07:00",
         "778 Maple St, New York City, NY 10001",
         "4",
         "14.95",
         "New York City"
        ],
        [
         "120",
         "176672",
         "USB-C Charging Cable",
         "1",
         "11.95",
         "2019-04-12 11:07:00",
         "778 Maple St, New York City, NY 10001",
         "4",
         "11.95",
         "New York City"
        ],
        [
         "129",
         "176681",
         "Apple Airpods Headphones",
         "1",
         "150.0",
         "2019-04-20 10:39:00",
         "331 Cherry St, Seattle, WA 98101",
         "4",
         "150.0",
         "Seattle"
        ],
        [
         "130",
         "176681",
         "ThinkPad Laptop",
         "1",
         "999.99",
         "2019-04-20 10:39:00",
         "331 Cherry St, Seattle, WA 98101",
         "4",
         "999.99",
         "Seattle"
        ],
        [
         "138",
         "176689",
         "Bose SoundSport Headphones",
         "1",
         "99.99",
         "2019-04-24 17:15:00",
         "659 Lincoln St, New York City, NY 10001",
         "4",
         "99.99",
         "New York City"
        ],
        [
         "139",
         "176689",
         "AAA Batteries (4-pack)",
         "2",
         "2.99",
         "2019-04-24 17:15:00",
         "659 Lincoln St, New York City, NY 10001",
         "4",
         "5.98",
         "New York City"
        ],
        [
         "189",
         "176739",
         "34in Ultrawide Monitor",
         "1",
         "379.99",
         "2019-04-05 17:38:00",
         "730 6th St, Austin, TX 73301",
         "4",
         "379.99",
         "Austin"
        ],
        [
         "190",
         "176739",
         "Google Phone",
         "1",
         "600.0",
         "2019-04-05 17:38:00",
         "730 6th St, Austin, TX 73301",
         "4",
         "600.0",
         "Austin"
        ],
        [
         "225",
         "176774",
         "Lightning Charging Cable",
         "1",
         "14.95",
         "2019-04-25 15:06:00",
         "372 Church St, Los Angeles, CA 90001",
         "4",
         "14.95",
         "Los Angeles"
        ],
        [
         "226",
         "176774",
         "USB-C Charging Cable",
         "1",
         "11.95",
         "2019-04-25 15:06:00",
         "372 Church St, Los Angeles, CA 90001",
         "4",
         "11.95",
         "Los Angeles"
        ],
        [
         "233",
         "176781",
         "iPhone",
         "1",
         "700.0",
         "2019-04-03 07:37:00",
         "976 Hickory St, Dallas, TX 75001",
         "4",
         "700.0",
         "Dallas"
        ],
        [
         "234",
         "176781",
         "Lightning Charging Cable",
         "1",
         "14.95",
         "2019-04-03 07:37:00",
         "976 Hickory St, Dallas, TX 75001",
         "4",
         "14.95",
         "Dallas"
        ],
        [
         "250",
         "176797",
         "Google Phone",
         "1",
         "600.0",
         "2019-04-21 08:54:00",
         "923 Elm St, Los Angeles, CA 90001",
         "4",
         "600.0",
         "Los Angeles"
        ],
        [
         "251",
         "176797",
         "Bose SoundSport Headphones",
         "1",
         "99.99",
         "2019-04-21 08:54:00",
         "923 Elm St, Los Angeles, CA 90001",
         "4",
         "99.99",
         "Los Angeles"
        ],
        [
         "252",
         "176797",
         "Wired Headphones",
         "1",
         "11.99",
         "2019-04-21 08:54:00",
         "923 Elm St, Los Angeles, CA 90001",
         "4",
         "11.99",
         "Los Angeles"
        ],
        [
         "260",
         "176805",
         "Google Phone",
         "1",
         "600.0",
         "2019-04-01 15:50:00",
         "91 Lincoln St, Portland, OR 97035",
         "4",
         "600.0",
         "Portland"
        ],
        [
         "261",
         "176805",
         "USB-C Charging Cable",
         "1",
         "11.95",
         "2019-04-01 15:50:00",
         "91 Lincoln St, Portland, OR 97035",
         "4",
         "11.95",
         "Portland"
        ],
        [
         "264",
         "176808",
         "Google Phone",
         "1",
         "600.0",
         "2019-04-28 18:03:00",
         "933 Meadow St, San Francisco, CA 94016",
         "4",
         "600.0",
         "San Francisco"
        ],
        [
         "265",
         "176808",
         "Wired Headphones",
         "1",
         "11.99",
         "2019-04-28 18:03:00",
         "933 Meadow St, San Francisco, CA 94016",
         "4",
         "11.99",
         "San Francisco"
        ],
        [
         "270",
         "176813",
         "Google Phone",
         "1",
         "600.0",
         "2019-04-28 18:01:00",
         "269 Hill St, Atlanta, GA 30301",
         "4",
         "600.0",
         "Atlanta"
        ],
        [
         "271",
         "176813",
         "Wired Headphones",
         "1",
         "11.99",
         "2019-04-28 18:01:00",
         "269 Hill St, Atlanta, GA 30301",
         "4",
         "11.99",
         "Atlanta"
        ],
        [
         "394",
         "176935",
         "AAA Batteries (4-pack)",
         "1",
         "2.99",
         "2019-04-03 21:31:00",
         "315 1st St, Dallas, TX 75001",
         "4",
         "2.99",
         "Dallas"
        ],
        [
         "395",
         "176935",
         "27in FHD Monitor",
         "1",
         "149.99",
         "2019-04-03 21:31:00",
         "315 1st St, Dallas, TX 75001",
         "4",
         "149.99",
         "Dallas"
        ],
        [
         "435",
         "176975",
         "USB-C Charging Cable",
         "1",
         "11.95",
         "2019-04-23 15:46:00",
         "28 13th St, San Francisco, CA 94016",
         "4",
         "11.95",
         "San Francisco"
        ],
        [
         "436",
         "176975",
         "AAA Batteries (4-pack)",
         "1",
         "2.99",
         "2019-04-23 15:46:00",
         "28 13th St, San Francisco, CA 94016",
         "4",
         "2.99",
         "San Francisco"
        ],
        [
         "450",
         "176989",
         "Google Phone",
         "1",
         "600.0",
         "2019-04-09 13:43:00",
         "346 9th St, Los Angeles, CA 90001",
         "4",
         "600.0",
         "Los Angeles"
        ],
        [
         "451",
         "176989",
         "USB-C Charging Cable",
         "1",
         "11.95",
         "2019-04-09 13:43:00",
         "346 9th St, Los Angeles, CA 90001",
         "4",
         "11.95",
         "Los Angeles"
        ],
        [
         "455",
         "176993",
         "iPhone",
         "1",
         "700.0",
         "2019-04-07 09:43:00",
         "28 South St, Los Angeles, CA 90001",
         "4",
         "700.0",
         "Los Angeles"
        ],
        [
         "456",
         "176993",
         "Wired Headphones",
         "1",
         "11.99",
         "2019-04-07 09:43:00",
         "28 South St, Los Angeles, CA 90001",
         "4",
         "11.99",
         "Los Angeles"
        ],
        [
         "485",
         "177022",
         "iPhone",
         "1",
         "700.0",
         "2019-04-17 18:14:00",
         "216 Chestnut St, Los Angeles, CA 90001",
         "4",
         "700.0",
         "Los Angeles"
        ],
        [
         "486",
         "177022",
         "Wired Headphones",
         "1",
         "11.99",
         "2019-04-17 18:14:00",
         "216 Chestnut St, Los Angeles, CA 90001",
         "4",
         "11.99",
         "Los Angeles"
        ],
        [
         "567",
         "177102",
         "iPhone",
         "1",
         "700.0",
         "2019-04-24 05:19:00",
         "542 Center St, New York City, NY 10001",
         "4",
         "700.0",
         "New York City"
        ],
        [
         "568",
         "177102",
         "27in 4K Gaming Monitor",
         "1",
         "389.99",
         "2019-04-24 05:19:00",
         "542 Center St, New York City, NY 10001",
         "4",
         "389.99",
         "New York City"
        ],
        [
         "581",
         "177115",
         "iPhone",
         "1",
         "700.0",
         "2019-04-19 19:10:00",
         "71 6th St, San Francisco, CA 94016",
         "4",
         "700.0",
         "San Francisco"
        ],
        [
         "582",
         "177115",
         "Lightning Charging Cable",
         "1",
         "14.95",
         "2019-04-19 19:10:00",
         "71 6th St, San Francisco, CA 94016",
         "4",
         "14.95",
         "San Francisco"
        ],
        [
         "584",
         "177117",
         "ThinkPad Laptop",
         "1",
         "999.99",
         "2019-04-16 19:34:00",
         "564 Hill St, San Francisco, CA 94016",
         "4",
         "999.99",
         "San Francisco"
        ],
        [
         "585",
         "177117",
         "AAA Batteries (4-pack)",
         "1",
         "2.99",
         "2019-04-16 19:34:00",
         "564 Hill St, San Francisco, CA 94016",
         "4",
         "2.99",
         "San Francisco"
        ],
        [
         "635",
         "177167",
         "iPhone",
         "1",
         "700.0",
         "2019-04-28 16:40:00",
         "39 Lakeview St, Boston, MA 02215",
         "4",
         "700.0",
         "Boston"
        ],
        [
         "636",
         "177167",
         "Apple Airpods Headphones",
         "1",
         "150.0",
         "2019-04-28 16:40:00",
         "39 Lakeview St, Boston, MA 02215",
         "4",
         "150.0",
         "Boston"
        ],
        [
         "637",
         "177167",
         "AAA Batteries (4-pack)",
         "3",
         "2.99",
         "2019-04-28 16:40:00",
         "39 Lakeview St, Boston, MA 02215",
         "4",
         "8.97",
         "Boston"
        ],
        [
         "648",
         "177178",
         "iPhone",
         "1",
         "700.0",
         "2019-04-07 00:02:00",
         "342 Dogwood St, Seattle, WA 98101",
         "4",
         "700.0",
         "Seattle"
        ],
        [
         "649",
         "177178",
         "Lightning Charging Cable",
         "1",
         "14.95",
         "2019-04-07 00:02:00",
         "342 Dogwood St, Seattle, WA 98101",
         "4",
         "14.95",
         "Seattle"
        ],
        [
         "652",
         "177181",
         "Wired Headphones",
         "1",
         "11.99",
         "2019-04-09 00:49:00",
         "309 8th St, Los Angeles, CA 90001",
         "4",
         "11.99",
         "Los Angeles"
        ],
        [
         "653",
         "177181",
         "Apple Airpods Headphones",
         "1",
         "150.0",
         "2019-04-09 00:49:00",
         "309 8th St, Los Angeles, CA 90001",
         "4",
         "150.0",
         "Los Angeles"
        ]
       ],
       "shape": {
        "columns": 9,
        "rows": 14128
       }
      },
      "text/html": [
       "<div>\n",
       "<style scoped>\n",
       "    .dataframe tbody tr th:only-of-type {\n",
       "        vertical-align: middle;\n",
       "    }\n",
       "\n",
       "    .dataframe tbody tr th {\n",
       "        vertical-align: top;\n",
       "    }\n",
       "\n",
       "    .dataframe thead th {\n",
       "        text-align: right;\n",
       "    }\n",
       "</style>\n",
       "<table border=\"1\" class=\"dataframe\">\n",
       "  <thead>\n",
       "    <tr style=\"text-align: right;\">\n",
       "      <th></th>\n",
       "      <th>Order ID</th>\n",
       "      <th>Product</th>\n",
       "      <th>Quantity Ordered</th>\n",
       "      <th>Price Each</th>\n",
       "      <th>Order Date</th>\n",
       "      <th>Purchase Address</th>\n",
       "      <th>Month</th>\n",
       "      <th>Sales</th>\n",
       "      <th>City</th>\n",
       "    </tr>\n",
       "  </thead>\n",
       "  <tbody>\n",
       "    <tr>\n",
       "      <th>3</th>\n",
       "      <td>176560</td>\n",
       "      <td>Google Phone</td>\n",
       "      <td>1</td>\n",
       "      <td>600.00</td>\n",
       "      <td>2019-04-12 14:38:00</td>\n",
       "      <td>669 Spruce St, Los Angeles, CA 90001</td>\n",
       "      <td>4</td>\n",
       "      <td>600.00</td>\n",
       "      <td>Los Angeles</td>\n",
       "    </tr>\n",
       "    <tr>\n",
       "      <th>4</th>\n",
       "      <td>176560</td>\n",
       "      <td>Wired Headphones</td>\n",
       "      <td>1</td>\n",
       "      <td>11.99</td>\n",
       "      <td>2019-04-12 14:38:00</td>\n",
       "      <td>669 Spruce St, Los Angeles, CA 90001</td>\n",
       "      <td>4</td>\n",
       "      <td>11.99</td>\n",
       "      <td>Los Angeles</td>\n",
       "    </tr>\n",
       "    <tr>\n",
       "      <th>18</th>\n",
       "      <td>176574</td>\n",
       "      <td>Google Phone</td>\n",
       "      <td>1</td>\n",
       "      <td>600.00</td>\n",
       "      <td>2019-04-03 19:42:00</td>\n",
       "      <td>20 Hill St, Los Angeles, CA 90001</td>\n",
       "      <td>4</td>\n",
       "      <td>600.00</td>\n",
       "      <td>Los Angeles</td>\n",
       "    </tr>\n",
       "    <tr>\n",
       "      <th>19</th>\n",
       "      <td>176574</td>\n",
       "      <td>USB-C Charging Cable</td>\n",
       "      <td>1</td>\n",
       "      <td>11.95</td>\n",
       "      <td>2019-04-03 19:42:00</td>\n",
       "      <td>20 Hill St, Los Angeles, CA 90001</td>\n",
       "      <td>4</td>\n",
       "      <td>11.95</td>\n",
       "      <td>Los Angeles</td>\n",
       "    </tr>\n",
       "    <tr>\n",
       "      <th>32</th>\n",
       "      <td>176586</td>\n",
       "      <td>AAA Batteries (4-pack)</td>\n",
       "      <td>2</td>\n",
       "      <td>2.99</td>\n",
       "      <td>2019-04-10 17:00:00</td>\n",
       "      <td>365 Center St, San Francisco, CA 94016</td>\n",
       "      <td>4</td>\n",
       "      <td>5.98</td>\n",
       "      <td>San Francisco</td>\n",
       "    </tr>\n",
       "    <tr>\n",
       "      <th>...</th>\n",
       "      <td>...</td>\n",
       "      <td>...</td>\n",
       "      <td>...</td>\n",
       "      <td>...</td>\n",
       "      <td>...</td>\n",
       "      <td>...</td>\n",
       "      <td>...</td>\n",
       "      <td>...</td>\n",
       "      <td>...</td>\n",
       "    </tr>\n",
       "    <tr>\n",
       "      <th>186792</th>\n",
       "      <td>259303</td>\n",
       "      <td>AA Batteries (4-pack)</td>\n",
       "      <td>1</td>\n",
       "      <td>3.84</td>\n",
       "      <td>2019-09-20 20:18:00</td>\n",
       "      <td>106 7th St, Atlanta, GA 30301</td>\n",
       "      <td>9</td>\n",
       "      <td>3.84</td>\n",
       "      <td>Atlanta</td>\n",
       "    </tr>\n",
       "    <tr>\n",
       "      <th>186803</th>\n",
       "      <td>259314</td>\n",
       "      <td>Wired Headphones</td>\n",
       "      <td>1</td>\n",
       "      <td>11.99</td>\n",
       "      <td>2019-09-16 00:25:00</td>\n",
       "      <td>241 Highland St, Atlanta, GA 30301</td>\n",
       "      <td>9</td>\n",
       "      <td>11.99</td>\n",
       "      <td>Atlanta</td>\n",
       "    </tr>\n",
       "    <tr>\n",
       "      <th>186804</th>\n",
       "      <td>259314</td>\n",
       "      <td>AAA Batteries (4-pack)</td>\n",
       "      <td>2</td>\n",
       "      <td>2.99</td>\n",
       "      <td>2019-09-16 00:25:00</td>\n",
       "      <td>241 Highland St, Atlanta, GA 30301</td>\n",
       "      <td>9</td>\n",
       "      <td>5.98</td>\n",
       "      <td>Atlanta</td>\n",
       "    </tr>\n",
       "    <tr>\n",
       "      <th>186841</th>\n",
       "      <td>259350</td>\n",
       "      <td>Google Phone</td>\n",
       "      <td>1</td>\n",
       "      <td>600.00</td>\n",
       "      <td>2019-09-30 13:49:00</td>\n",
       "      <td>519 Maple St, San Francisco, CA 94016</td>\n",
       "      <td>9</td>\n",
       "      <td>600.00</td>\n",
       "      <td>San Francisco</td>\n",
       "    </tr>\n",
       "    <tr>\n",
       "      <th>186842</th>\n",
       "      <td>259350</td>\n",
       "      <td>USB-C Charging Cable</td>\n",
       "      <td>1</td>\n",
       "      <td>11.95</td>\n",
       "      <td>2019-09-30 13:49:00</td>\n",
       "      <td>519 Maple St, San Francisco, CA 94016</td>\n",
       "      <td>9</td>\n",
       "      <td>11.95</td>\n",
       "      <td>San Francisco</td>\n",
       "    </tr>\n",
       "  </tbody>\n",
       "</table>\n",
       "<p>14128 rows × 9 columns</p>\n",
       "</div>"
      ],
      "text/plain": [
       "       Order ID                 Product  Quantity Ordered  Price Each  \\\n",
       "3        176560            Google Phone                 1      600.00   \n",
       "4        176560        Wired Headphones                 1       11.99   \n",
       "18       176574            Google Phone                 1      600.00   \n",
       "19       176574    USB-C Charging Cable                 1       11.95   \n",
       "32       176586  AAA Batteries (4-pack)                 2        2.99   \n",
       "...         ...                     ...               ...         ...   \n",
       "186792   259303   AA Batteries (4-pack)                 1        3.84   \n",
       "186803   259314        Wired Headphones                 1       11.99   \n",
       "186804   259314  AAA Batteries (4-pack)                 2        2.99   \n",
       "186841   259350            Google Phone                 1      600.00   \n",
       "186842   259350    USB-C Charging Cable                 1       11.95   \n",
       "\n",
       "                Order Date                        Purchase Address  Month  \\\n",
       "3      2019-04-12 14:38:00    669 Spruce St, Los Angeles, CA 90001      4   \n",
       "4      2019-04-12 14:38:00    669 Spruce St, Los Angeles, CA 90001      4   \n",
       "18     2019-04-03 19:42:00       20 Hill St, Los Angeles, CA 90001      4   \n",
       "19     2019-04-03 19:42:00       20 Hill St, Los Angeles, CA 90001      4   \n",
       "32     2019-04-10 17:00:00  365 Center St, San Francisco, CA 94016      4   \n",
       "...                    ...                                     ...    ...   \n",
       "186792 2019-09-20 20:18:00           106 7th St, Atlanta, GA 30301      9   \n",
       "186803 2019-09-16 00:25:00      241 Highland St, Atlanta, GA 30301      9   \n",
       "186804 2019-09-16 00:25:00      241 Highland St, Atlanta, GA 30301      9   \n",
       "186841 2019-09-30 13:49:00   519 Maple St, San Francisco, CA 94016      9   \n",
       "186842 2019-09-30 13:49:00   519 Maple St, San Francisco, CA 94016      9   \n",
       "\n",
       "         Sales           City  \n",
       "3       600.00    Los Angeles  \n",
       "4        11.99    Los Angeles  \n",
       "18      600.00    Los Angeles  \n",
       "19       11.95    Los Angeles  \n",
       "32        5.98  San Francisco  \n",
       "...        ...            ...  \n",
       "186792    3.84        Atlanta  \n",
       "186803   11.99        Atlanta  \n",
       "186804    5.98        Atlanta  \n",
       "186841  600.00  San Francisco  \n",
       "186842   11.95  San Francisco  \n",
       "\n",
       "[14128 rows x 9 columns]"
      ]
     },
     "execution_count": 29,
     "metadata": {},
     "output_type": "execute_result"
    }
   ],
   "source": [
    "# Identify orders with multiple items\n",
    "multi_order_df = all_data[all_data['Order ID'].duplicated(keep=False)]\n",
    "multi_order_df"
   ]
  },
  {
   "cell_type": "code",
   "execution_count": null,
   "metadata": {},
   "outputs": [
    {
     "data": {
      "application/vnd.microsoft.datawrangler.viewer.v0+json": {
       "columns": [
        {
         "name": "index",
         "rawType": "int64",
         "type": "integer"
        },
        {
         "name": "Order ID",
         "rawType": "object",
         "type": "string"
        },
        {
         "name": "Grouped Products",
         "rawType": "object",
         "type": "string"
        }
       ],
       "ref": "9f70a5ea-383e-4bf7-bbb6-03dc0aa1b5d7",
       "rows": [
        [
         "0",
         "141275",
         "USB-C Charging Cable,Wired Headphones"
        ],
        [
         "1",
         "141290",
         "Apple Airpods Headphones,AA Batteries (4-pack)"
        ],
        [
         "2",
         "141365",
         "Vareebadd Phone,Wired Headphones"
        ],
        [
         "3",
         "141384",
         "Google Phone,USB-C Charging Cable"
        ],
        [
         "4",
         "141450",
         "Google Phone,Bose SoundSport Headphones"
        ],
        [
         "5",
         "141457",
         "iPhone,Apple Airpods Headphones"
        ],
        [
         "6",
         "141478",
         "Google Phone,Apple Airpods Headphones"
        ],
        [
         "7",
         "141550",
         "iPhone,Apple Airpods Headphones,Wired Headphones"
        ],
        [
         "8",
         "141587",
         "USB-C Charging Cable,Apple Airpods Headphones"
        ],
        [
         "9",
         "141645",
         "Lightning Charging Cable,Wired Headphones"
        ],
        [
         "10",
         "141738",
         "iPhone,Lightning Charging Cable"
        ],
        [
         "11",
         "141782",
         "27in FHD Monitor,Bose SoundSport Headphones"
        ],
        [
         "12",
         "141789",
         "Google Phone,USB-C Charging Cable"
        ],
        [
         "13",
         "141795",
         "iPhone,Wired Headphones"
        ],
        [
         "14",
         "141809",
         "Google Phone,USB-C Charging Cable"
        ],
        [
         "15",
         "141843",
         "AA Batteries (4-pack),AAA Batteries (4-pack)"
        ],
        [
         "16",
         "141900",
         "Vareebadd Phone,USB-C Charging Cable,Wired Headphones"
        ],
        [
         "17",
         "141901",
         "Google Phone,USB-C Charging Cable"
        ],
        [
         "18",
         "141910",
         "Vareebadd Phone,Wired Headphones"
        ],
        [
         "19",
         "141939",
         "34in Ultrawide Monitor,Lightning Charging Cable"
        ],
        [
         "20",
         "141946",
         "USB-C Charging Cable,Wired Headphones"
        ],
        [
         "21",
         "141947",
         "Lightning Charging Cable,Bose SoundSport Headphones"
        ],
        [
         "22",
         "141965",
         "Google Phone,Wired Headphones"
        ],
        [
         "23",
         "141967",
         "iPhone,Wired Headphones"
        ],
        [
         "24",
         "141970",
         "Apple Airpods Headphones,Lightning Charging Cable"
        ],
        [
         "25",
         "141972",
         "Google Phone,iPhone"
        ],
        [
         "26",
         "141993",
         "iPhone,Wired Headphones"
        ],
        [
         "27",
         "142010",
         "iPhone,Lightning Charging Cable"
        ],
        [
         "28",
         "142023",
         "20in Monitor,Wired Headphones"
        ],
        [
         "29",
         "142037",
         "iPhone,Apple Airpods Headphones"
        ],
        [
         "30",
         "142039",
         "Google Phone,USB-C Charging Cable"
        ],
        [
         "31",
         "142048",
         "Google Phone,Wired Headphones"
        ],
        [
         "32",
         "142085",
         "iPhone,Lightning Charging Cable"
        ],
        [
         "33",
         "142112",
         "20in Monitor,Bose SoundSport Headphones"
        ],
        [
         "34",
         "142128",
         "Google Phone,Bose SoundSport Headphones,Wired Headphones"
        ],
        [
         "35",
         "142144",
         "Vareebadd Phone,USB-C Charging Cable"
        ],
        [
         "36",
         "142145",
         "Apple Airpods Headphones,USB-C Charging Cable"
        ],
        [
         "37",
         "142192",
         "Google Phone,USB-C Charging Cable"
        ],
        [
         "38",
         "142230",
         "Google Phone,USB-C Charging Cable"
        ],
        [
         "39",
         "142261",
         "iPhone,Wired Headphones"
        ],
        [
         "40",
         "142287",
         "Google Phone,USB-C Charging Cable,Wired Headphones"
        ],
        [
         "41",
         "142299",
         "iPhone,Wired Headphones"
        ],
        [
         "42",
         "142308",
         "Google Phone,Wired Headphones"
        ],
        [
         "43",
         "142319",
         "Bose SoundSport Headphones,Google Phone"
        ],
        [
         "44",
         "142320",
         "Google Phone,iPhone"
        ],
        [
         "45",
         "142350",
         "iPhone,Wired Headphones"
        ],
        [
         "46",
         "142379",
         "Google Phone,USB-C Charging Cable"
        ],
        [
         "47",
         "142389",
         "iPhone,Lightning Charging Cable"
        ],
        [
         "48",
         "142396",
         "Vareebadd Phone,USB-C Charging Cable"
        ],
        [
         "49",
         "142419",
         "Google Phone,Wired Headphones"
        ]
       ],
       "shape": {
        "columns": 2,
        "rows": 6879
       }
      },
      "text/html": [
       "<div>\n",
       "<style scoped>\n",
       "    .dataframe tbody tr th:only-of-type {\n",
       "        vertical-align: middle;\n",
       "    }\n",
       "\n",
       "    .dataframe tbody tr th {\n",
       "        vertical-align: top;\n",
       "    }\n",
       "\n",
       "    .dataframe thead th {\n",
       "        text-align: right;\n",
       "    }\n",
       "</style>\n",
       "<table border=\"1\" class=\"dataframe\">\n",
       "  <thead>\n",
       "    <tr style=\"text-align: right;\">\n",
       "      <th></th>\n",
       "      <th>Order ID</th>\n",
       "      <th>Grouped Products</th>\n",
       "    </tr>\n",
       "  </thead>\n",
       "  <tbody>\n",
       "    <tr>\n",
       "      <th>0</th>\n",
       "      <td>141275</td>\n",
       "      <td>USB-C Charging Cable,Wired Headphones</td>\n",
       "    </tr>\n",
       "    <tr>\n",
       "      <th>1</th>\n",
       "      <td>141290</td>\n",
       "      <td>Apple Airpods Headphones,AA Batteries (4-pack)</td>\n",
       "    </tr>\n",
       "    <tr>\n",
       "      <th>2</th>\n",
       "      <td>141365</td>\n",
       "      <td>Vareebadd Phone,Wired Headphones</td>\n",
       "    </tr>\n",
       "    <tr>\n",
       "      <th>3</th>\n",
       "      <td>141384</td>\n",
       "      <td>Google Phone,USB-C Charging Cable</td>\n",
       "    </tr>\n",
       "    <tr>\n",
       "      <th>4</th>\n",
       "      <td>141450</td>\n",
       "      <td>Google Phone,Bose SoundSport Headphones</td>\n",
       "    </tr>\n",
       "    <tr>\n",
       "      <th>...</th>\n",
       "      <td>...</td>\n",
       "      <td>...</td>\n",
       "    </tr>\n",
       "    <tr>\n",
       "      <th>6874</th>\n",
       "      <td>319536</td>\n",
       "      <td>Macbook Pro Laptop,Wired Headphones</td>\n",
       "    </tr>\n",
       "    <tr>\n",
       "      <th>6875</th>\n",
       "      <td>319556</td>\n",
       "      <td>Google Phone,Wired Headphones</td>\n",
       "    </tr>\n",
       "    <tr>\n",
       "      <th>6876</th>\n",
       "      <td>319584</td>\n",
       "      <td>iPhone,Wired Headphones</td>\n",
       "    </tr>\n",
       "    <tr>\n",
       "      <th>6877</th>\n",
       "      <td>319596</td>\n",
       "      <td>iPhone,Lightning Charging Cable</td>\n",
       "    </tr>\n",
       "    <tr>\n",
       "      <th>6878</th>\n",
       "      <td>319631</td>\n",
       "      <td>34in Ultrawide Monitor,Lightning Charging Cable</td>\n",
       "    </tr>\n",
       "  </tbody>\n",
       "</table>\n",
       "<p>6879 rows × 2 columns</p>\n",
       "</div>"
      ],
      "text/plain": [
       "     Order ID                                 Grouped Products\n",
       "0      141275            USB-C Charging Cable,Wired Headphones\n",
       "1      141290   Apple Airpods Headphones,AA Batteries (4-pack)\n",
       "2      141365                 Vareebadd Phone,Wired Headphones\n",
       "3      141384                Google Phone,USB-C Charging Cable\n",
       "4      141450          Google Phone,Bose SoundSport Headphones\n",
       "...       ...                                              ...\n",
       "6874   319536              Macbook Pro Laptop,Wired Headphones\n",
       "6875   319556                    Google Phone,Wired Headphones\n",
       "6876   319584                          iPhone,Wired Headphones\n",
       "6877   319596                  iPhone,Lightning Charging Cable\n",
       "6878   319631  34in Ultrawide Monitor,Lightning Charging Cable\n",
       "\n",
       "[6879 rows x 2 columns]"
      ]
     },
     "execution_count": 30,
     "metadata": {},
     "output_type": "execute_result"
    }
   ],
   "source": [
    "# Group products by \"Order ID\" and concatenate products into a single string\n",
    "multi_products_df = multi_order_df.groupby('Order ID')['Product'].apply(lambda x: ','.join(x)).reset_index().rename(columns={'Product': 'Grouped Products'})\n",
    "multi_products_df"
   ]
  },
  {
   "cell_type": "code",
   "execution_count": null,
   "metadata": {},
   "outputs": [
    {
     "data": {
      "application/vnd.microsoft.datawrangler.viewer.v0+json": {
       "columns": [
        {
         "name": "index",
         "rawType": "int64",
         "type": "integer"
        },
        {
         "name": "Order ID",
         "rawType": "object",
         "type": "string"
        },
        {
         "name": "Product",
         "rawType": "object",
         "type": "string"
        },
        {
         "name": "Quantity Ordered",
         "rawType": "int64",
         "type": "integer"
        },
        {
         "name": "Price Each",
         "rawType": "float64",
         "type": "float"
        },
        {
         "name": "Order Date",
         "rawType": "datetime64[ns]",
         "type": "datetime"
        },
        {
         "name": "Purchase Address",
         "rawType": "object",
         "type": "string"
        },
        {
         "name": "Month",
         "rawType": "int32",
         "type": "integer"
        },
        {
         "name": "Sales",
         "rawType": "float64",
         "type": "float"
        },
        {
         "name": "City",
         "rawType": "object",
         "type": "string"
        },
        {
         "name": "Grouped Products",
         "rawType": "object",
         "type": "string"
        }
       ],
       "ref": "d155bf36-a7ac-409c-b82a-0dad398d242a",
       "rows": [
        [
         "0",
         "176560",
         "Google Phone",
         "1",
         "600.0",
         "2019-04-12 14:38:00",
         "669 Spruce St, Los Angeles, CA 90001",
         "4",
         "600.0",
         "Los Angeles",
         "Google Phone,Wired Headphones"
        ],
        [
         "1",
         "176560",
         "Wired Headphones",
         "1",
         "11.99",
         "2019-04-12 14:38:00",
         "669 Spruce St, Los Angeles, CA 90001",
         "4",
         "11.99",
         "Los Angeles",
         "Google Phone,Wired Headphones"
        ],
        [
         "2",
         "176574",
         "Google Phone",
         "1",
         "600.0",
         "2019-04-03 19:42:00",
         "20 Hill St, Los Angeles, CA 90001",
         "4",
         "600.0",
         "Los Angeles",
         "Google Phone,USB-C Charging Cable"
        ],
        [
         "3",
         "176574",
         "USB-C Charging Cable",
         "1",
         "11.95",
         "2019-04-03 19:42:00",
         "20 Hill St, Los Angeles, CA 90001",
         "4",
         "11.95",
         "Los Angeles",
         "Google Phone,USB-C Charging Cable"
        ],
        [
         "4",
         "176586",
         "AAA Batteries (4-pack)",
         "2",
         "2.99",
         "2019-04-10 17:00:00",
         "365 Center St, San Francisco, CA 94016",
         "4",
         "5.98",
         "San Francisco",
         "AAA Batteries (4-pack),Google Phone"
        ],
        [
         "5",
         "176586",
         "Google Phone",
         "1",
         "600.0",
         "2019-04-10 17:00:00",
         "365 Center St, San Francisco, CA 94016",
         "4",
         "600.0",
         "San Francisco",
         "AAA Batteries (4-pack),Google Phone"
        ],
        [
         "6",
         "176672",
         "Lightning Charging Cable",
         "1",
         "14.95",
         "2019-04-12 11:07:00",
         "778 Maple St, New York City, NY 10001",
         "4",
         "14.95",
         "New York City",
         "Lightning Charging Cable,USB-C Charging Cable"
        ],
        [
         "7",
         "176672",
         "USB-C Charging Cable",
         "1",
         "11.95",
         "2019-04-12 11:07:00",
         "778 Maple St, New York City, NY 10001",
         "4",
         "11.95",
         "New York City",
         "Lightning Charging Cable,USB-C Charging Cable"
        ],
        [
         "8",
         "176681",
         "Apple Airpods Headphones",
         "1",
         "150.0",
         "2019-04-20 10:39:00",
         "331 Cherry St, Seattle, WA 98101",
         "4",
         "150.0",
         "Seattle",
         "Apple Airpods Headphones,ThinkPad Laptop"
        ],
        [
         "9",
         "176681",
         "ThinkPad Laptop",
         "1",
         "999.99",
         "2019-04-20 10:39:00",
         "331 Cherry St, Seattle, WA 98101",
         "4",
         "999.99",
         "Seattle",
         "Apple Airpods Headphones,ThinkPad Laptop"
        ],
        [
         "10",
         "176689",
         "Bose SoundSport Headphones",
         "1",
         "99.99",
         "2019-04-24 17:15:00",
         "659 Lincoln St, New York City, NY 10001",
         "4",
         "99.99",
         "New York City",
         "Bose SoundSport Headphones,AAA Batteries (4-pack)"
        ],
        [
         "11",
         "176689",
         "AAA Batteries (4-pack)",
         "2",
         "2.99",
         "2019-04-24 17:15:00",
         "659 Lincoln St, New York City, NY 10001",
         "4",
         "5.98",
         "New York City",
         "Bose SoundSport Headphones,AAA Batteries (4-pack)"
        ],
        [
         "12",
         "176739",
         "34in Ultrawide Monitor",
         "1",
         "379.99",
         "2019-04-05 17:38:00",
         "730 6th St, Austin, TX 73301",
         "4",
         "379.99",
         "Austin",
         "34in Ultrawide Monitor,Google Phone"
        ],
        [
         "13",
         "176739",
         "Google Phone",
         "1",
         "600.0",
         "2019-04-05 17:38:00",
         "730 6th St, Austin, TX 73301",
         "4",
         "600.0",
         "Austin",
         "34in Ultrawide Monitor,Google Phone"
        ],
        [
         "14",
         "176774",
         "Lightning Charging Cable",
         "1",
         "14.95",
         "2019-04-25 15:06:00",
         "372 Church St, Los Angeles, CA 90001",
         "4",
         "14.95",
         "Los Angeles",
         "Lightning Charging Cable,USB-C Charging Cable"
        ],
        [
         "15",
         "176774",
         "USB-C Charging Cable",
         "1",
         "11.95",
         "2019-04-25 15:06:00",
         "372 Church St, Los Angeles, CA 90001",
         "4",
         "11.95",
         "Los Angeles",
         "Lightning Charging Cable,USB-C Charging Cable"
        ],
        [
         "16",
         "176781",
         "iPhone",
         "1",
         "700.0",
         "2019-04-03 07:37:00",
         "976 Hickory St, Dallas, TX 75001",
         "4",
         "700.0",
         "Dallas",
         "iPhone,Lightning Charging Cable"
        ],
        [
         "17",
         "176781",
         "Lightning Charging Cable",
         "1",
         "14.95",
         "2019-04-03 07:37:00",
         "976 Hickory St, Dallas, TX 75001",
         "4",
         "14.95",
         "Dallas",
         "iPhone,Lightning Charging Cable"
        ],
        [
         "18",
         "176797",
         "Google Phone",
         "1",
         "600.0",
         "2019-04-21 08:54:00",
         "923 Elm St, Los Angeles, CA 90001",
         "4",
         "600.0",
         "Los Angeles",
         "Google Phone,Bose SoundSport Headphones,Wired Headphones"
        ],
        [
         "19",
         "176797",
         "Bose SoundSport Headphones",
         "1",
         "99.99",
         "2019-04-21 08:54:00",
         "923 Elm St, Los Angeles, CA 90001",
         "4",
         "99.99",
         "Los Angeles",
         "Google Phone,Bose SoundSport Headphones,Wired Headphones"
        ],
        [
         "20",
         "176797",
         "Wired Headphones",
         "1",
         "11.99",
         "2019-04-21 08:54:00",
         "923 Elm St, Los Angeles, CA 90001",
         "4",
         "11.99",
         "Los Angeles",
         "Google Phone,Bose SoundSport Headphones,Wired Headphones"
        ],
        [
         "21",
         "176805",
         "Google Phone",
         "1",
         "600.0",
         "2019-04-01 15:50:00",
         "91 Lincoln St, Portland, OR 97035",
         "4",
         "600.0",
         "Portland",
         "Google Phone,USB-C Charging Cable"
        ],
        [
         "22",
         "176805",
         "USB-C Charging Cable",
         "1",
         "11.95",
         "2019-04-01 15:50:00",
         "91 Lincoln St, Portland, OR 97035",
         "4",
         "11.95",
         "Portland",
         "Google Phone,USB-C Charging Cable"
        ],
        [
         "23",
         "176808",
         "Google Phone",
         "1",
         "600.0",
         "2019-04-28 18:03:00",
         "933 Meadow St, San Francisco, CA 94016",
         "4",
         "600.0",
         "San Francisco",
         "Google Phone,Wired Headphones"
        ],
        [
         "24",
         "176808",
         "Wired Headphones",
         "1",
         "11.99",
         "2019-04-28 18:03:00",
         "933 Meadow St, San Francisco, CA 94016",
         "4",
         "11.99",
         "San Francisco",
         "Google Phone,Wired Headphones"
        ],
        [
         "25",
         "176813",
         "Google Phone",
         "1",
         "600.0",
         "2019-04-28 18:01:00",
         "269 Hill St, Atlanta, GA 30301",
         "4",
         "600.0",
         "Atlanta",
         "Google Phone,Wired Headphones"
        ],
        [
         "26",
         "176813",
         "Wired Headphones",
         "1",
         "11.99",
         "2019-04-28 18:01:00",
         "269 Hill St, Atlanta, GA 30301",
         "4",
         "11.99",
         "Atlanta",
         "Google Phone,Wired Headphones"
        ],
        [
         "27",
         "176935",
         "AAA Batteries (4-pack)",
         "1",
         "2.99",
         "2019-04-03 21:31:00",
         "315 1st St, Dallas, TX 75001",
         "4",
         "2.99",
         "Dallas",
         "AAA Batteries (4-pack),27in FHD Monitor"
        ],
        [
         "28",
         "176935",
         "27in FHD Monitor",
         "1",
         "149.99",
         "2019-04-03 21:31:00",
         "315 1st St, Dallas, TX 75001",
         "4",
         "149.99",
         "Dallas",
         "AAA Batteries (4-pack),27in FHD Monitor"
        ],
        [
         "29",
         "176975",
         "USB-C Charging Cable",
         "1",
         "11.95",
         "2019-04-23 15:46:00",
         "28 13th St, San Francisco, CA 94016",
         "4",
         "11.95",
         "San Francisco",
         "USB-C Charging Cable,AAA Batteries (4-pack)"
        ],
        [
         "30",
         "176975",
         "AAA Batteries (4-pack)",
         "1",
         "2.99",
         "2019-04-23 15:46:00",
         "28 13th St, San Francisco, CA 94016",
         "4",
         "2.99",
         "San Francisco",
         "USB-C Charging Cable,AAA Batteries (4-pack)"
        ],
        [
         "31",
         "176989",
         "Google Phone",
         "1",
         "600.0",
         "2019-04-09 13:43:00",
         "346 9th St, Los Angeles, CA 90001",
         "4",
         "600.0",
         "Los Angeles",
         "Google Phone,USB-C Charging Cable"
        ],
        [
         "32",
         "176989",
         "USB-C Charging Cable",
         "1",
         "11.95",
         "2019-04-09 13:43:00",
         "346 9th St, Los Angeles, CA 90001",
         "4",
         "11.95",
         "Los Angeles",
         "Google Phone,USB-C Charging Cable"
        ],
        [
         "33",
         "176993",
         "iPhone",
         "1",
         "700.0",
         "2019-04-07 09:43:00",
         "28 South St, Los Angeles, CA 90001",
         "4",
         "700.0",
         "Los Angeles",
         "iPhone,Wired Headphones"
        ],
        [
         "34",
         "176993",
         "Wired Headphones",
         "1",
         "11.99",
         "2019-04-07 09:43:00",
         "28 South St, Los Angeles, CA 90001",
         "4",
         "11.99",
         "Los Angeles",
         "iPhone,Wired Headphones"
        ],
        [
         "35",
         "177022",
         "iPhone",
         "1",
         "700.0",
         "2019-04-17 18:14:00",
         "216 Chestnut St, Los Angeles, CA 90001",
         "4",
         "700.0",
         "Los Angeles",
         "iPhone,Wired Headphones"
        ],
        [
         "36",
         "177022",
         "Wired Headphones",
         "1",
         "11.99",
         "2019-04-17 18:14:00",
         "216 Chestnut St, Los Angeles, CA 90001",
         "4",
         "11.99",
         "Los Angeles",
         "iPhone,Wired Headphones"
        ],
        [
         "37",
         "177102",
         "iPhone",
         "1",
         "700.0",
         "2019-04-24 05:19:00",
         "542 Center St, New York City, NY 10001",
         "4",
         "700.0",
         "New York City",
         "iPhone,27in 4K Gaming Monitor"
        ],
        [
         "38",
         "177102",
         "27in 4K Gaming Monitor",
         "1",
         "389.99",
         "2019-04-24 05:19:00",
         "542 Center St, New York City, NY 10001",
         "4",
         "389.99",
         "New York City",
         "iPhone,27in 4K Gaming Monitor"
        ],
        [
         "39",
         "177115",
         "iPhone",
         "1",
         "700.0",
         "2019-04-19 19:10:00",
         "71 6th St, San Francisco, CA 94016",
         "4",
         "700.0",
         "San Francisco",
         "iPhone,Lightning Charging Cable"
        ],
        [
         "40",
         "177115",
         "Lightning Charging Cable",
         "1",
         "14.95",
         "2019-04-19 19:10:00",
         "71 6th St, San Francisco, CA 94016",
         "4",
         "14.95",
         "San Francisco",
         "iPhone,Lightning Charging Cable"
        ],
        [
         "41",
         "177117",
         "ThinkPad Laptop",
         "1",
         "999.99",
         "2019-04-16 19:34:00",
         "564 Hill St, San Francisco, CA 94016",
         "4",
         "999.99",
         "San Francisco",
         "ThinkPad Laptop,AAA Batteries (4-pack)"
        ],
        [
         "42",
         "177117",
         "AAA Batteries (4-pack)",
         "1",
         "2.99",
         "2019-04-16 19:34:00",
         "564 Hill St, San Francisco, CA 94016",
         "4",
         "2.99",
         "San Francisco",
         "ThinkPad Laptop,AAA Batteries (4-pack)"
        ],
        [
         "43",
         "177167",
         "iPhone",
         "1",
         "700.0",
         "2019-04-28 16:40:00",
         "39 Lakeview St, Boston, MA 02215",
         "4",
         "700.0",
         "Boston",
         "iPhone,Apple Airpods Headphones,AAA Batteries (4-pack)"
        ],
        [
         "44",
         "177167",
         "Apple Airpods Headphones",
         "1",
         "150.0",
         "2019-04-28 16:40:00",
         "39 Lakeview St, Boston, MA 02215",
         "4",
         "150.0",
         "Boston",
         "iPhone,Apple Airpods Headphones,AAA Batteries (4-pack)"
        ],
        [
         "45",
         "177167",
         "AAA Batteries (4-pack)",
         "3",
         "2.99",
         "2019-04-28 16:40:00",
         "39 Lakeview St, Boston, MA 02215",
         "4",
         "8.97",
         "Boston",
         "iPhone,Apple Airpods Headphones,AAA Batteries (4-pack)"
        ],
        [
         "46",
         "177178",
         "iPhone",
         "1",
         "700.0",
         "2019-04-07 00:02:00",
         "342 Dogwood St, Seattle, WA 98101",
         "4",
         "700.0",
         "Seattle",
         "iPhone,Lightning Charging Cable"
        ],
        [
         "47",
         "177178",
         "Lightning Charging Cable",
         "1",
         "14.95",
         "2019-04-07 00:02:00",
         "342 Dogwood St, Seattle, WA 98101",
         "4",
         "14.95",
         "Seattle",
         "iPhone,Lightning Charging Cable"
        ],
        [
         "48",
         "177181",
         "Wired Headphones",
         "1",
         "11.99",
         "2019-04-09 00:49:00",
         "309 8th St, Los Angeles, CA 90001",
         "4",
         "11.99",
         "Los Angeles",
         "Wired Headphones,Apple Airpods Headphones"
        ],
        [
         "49",
         "177181",
         "Apple Airpods Headphones",
         "1",
         "150.0",
         "2019-04-09 00:49:00",
         "309 8th St, Los Angeles, CA 90001",
         "4",
         "150.0",
         "Los Angeles",
         "Wired Headphones,Apple Airpods Headphones"
        ]
       ],
       "shape": {
        "columns": 10,
        "rows": 14128
       }
      },
      "text/html": [
       "<div>\n",
       "<style scoped>\n",
       "    .dataframe tbody tr th:only-of-type {\n",
       "        vertical-align: middle;\n",
       "    }\n",
       "\n",
       "    .dataframe tbody tr th {\n",
       "        vertical-align: top;\n",
       "    }\n",
       "\n",
       "    .dataframe thead th {\n",
       "        text-align: right;\n",
       "    }\n",
       "</style>\n",
       "<table border=\"1\" class=\"dataframe\">\n",
       "  <thead>\n",
       "    <tr style=\"text-align: right;\">\n",
       "      <th></th>\n",
       "      <th>Order ID</th>\n",
       "      <th>Product</th>\n",
       "      <th>Quantity Ordered</th>\n",
       "      <th>Price Each</th>\n",
       "      <th>Order Date</th>\n",
       "      <th>Purchase Address</th>\n",
       "      <th>Month</th>\n",
       "      <th>Sales</th>\n",
       "      <th>City</th>\n",
       "      <th>Grouped Products</th>\n",
       "    </tr>\n",
       "  </thead>\n",
       "  <tbody>\n",
       "    <tr>\n",
       "      <th>0</th>\n",
       "      <td>176560</td>\n",
       "      <td>Google Phone</td>\n",
       "      <td>1</td>\n",
       "      <td>600.00</td>\n",
       "      <td>2019-04-12 14:38:00</td>\n",
       "      <td>669 Spruce St, Los Angeles, CA 90001</td>\n",
       "      <td>4</td>\n",
       "      <td>600.00</td>\n",
       "      <td>Los Angeles</td>\n",
       "      <td>Google Phone,Wired Headphones</td>\n",
       "    </tr>\n",
       "    <tr>\n",
       "      <th>1</th>\n",
       "      <td>176560</td>\n",
       "      <td>Wired Headphones</td>\n",
       "      <td>1</td>\n",
       "      <td>11.99</td>\n",
       "      <td>2019-04-12 14:38:00</td>\n",
       "      <td>669 Spruce St, Los Angeles, CA 90001</td>\n",
       "      <td>4</td>\n",
       "      <td>11.99</td>\n",
       "      <td>Los Angeles</td>\n",
       "      <td>Google Phone,Wired Headphones</td>\n",
       "    </tr>\n",
       "    <tr>\n",
       "      <th>2</th>\n",
       "      <td>176574</td>\n",
       "      <td>Google Phone</td>\n",
       "      <td>1</td>\n",
       "      <td>600.00</td>\n",
       "      <td>2019-04-03 19:42:00</td>\n",
       "      <td>20 Hill St, Los Angeles, CA 90001</td>\n",
       "      <td>4</td>\n",
       "      <td>600.00</td>\n",
       "      <td>Los Angeles</td>\n",
       "      <td>Google Phone,USB-C Charging Cable</td>\n",
       "    </tr>\n",
       "    <tr>\n",
       "      <th>3</th>\n",
       "      <td>176574</td>\n",
       "      <td>USB-C Charging Cable</td>\n",
       "      <td>1</td>\n",
       "      <td>11.95</td>\n",
       "      <td>2019-04-03 19:42:00</td>\n",
       "      <td>20 Hill St, Los Angeles, CA 90001</td>\n",
       "      <td>4</td>\n",
       "      <td>11.95</td>\n",
       "      <td>Los Angeles</td>\n",
       "      <td>Google Phone,USB-C Charging Cable</td>\n",
       "    </tr>\n",
       "    <tr>\n",
       "      <th>4</th>\n",
       "      <td>176586</td>\n",
       "      <td>AAA Batteries (4-pack)</td>\n",
       "      <td>2</td>\n",
       "      <td>2.99</td>\n",
       "      <td>2019-04-10 17:00:00</td>\n",
       "      <td>365 Center St, San Francisco, CA 94016</td>\n",
       "      <td>4</td>\n",
       "      <td>5.98</td>\n",
       "      <td>San Francisco</td>\n",
       "      <td>AAA Batteries (4-pack),Google Phone</td>\n",
       "    </tr>\n",
       "    <tr>\n",
       "      <th>...</th>\n",
       "      <td>...</td>\n",
       "      <td>...</td>\n",
       "      <td>...</td>\n",
       "      <td>...</td>\n",
       "      <td>...</td>\n",
       "      <td>...</td>\n",
       "      <td>...</td>\n",
       "      <td>...</td>\n",
       "      <td>...</td>\n",
       "      <td>...</td>\n",
       "    </tr>\n",
       "    <tr>\n",
       "      <th>14123</th>\n",
       "      <td>259303</td>\n",
       "      <td>AA Batteries (4-pack)</td>\n",
       "      <td>1</td>\n",
       "      <td>3.84</td>\n",
       "      <td>2019-09-20 20:18:00</td>\n",
       "      <td>106 7th St, Atlanta, GA 30301</td>\n",
       "      <td>9</td>\n",
       "      <td>3.84</td>\n",
       "      <td>Atlanta</td>\n",
       "      <td>34in Ultrawide Monitor,AA Batteries (4-pack)</td>\n",
       "    </tr>\n",
       "    <tr>\n",
       "      <th>14124</th>\n",
       "      <td>259314</td>\n",
       "      <td>Wired Headphones</td>\n",
       "      <td>1</td>\n",
       "      <td>11.99</td>\n",
       "      <td>2019-09-16 00:25:00</td>\n",
       "      <td>241 Highland St, Atlanta, GA 30301</td>\n",
       "      <td>9</td>\n",
       "      <td>11.99</td>\n",
       "      <td>Atlanta</td>\n",
       "      <td>Wired Headphones,AAA Batteries (4-pack)</td>\n",
       "    </tr>\n",
       "    <tr>\n",
       "      <th>14125</th>\n",
       "      <td>259314</td>\n",
       "      <td>AAA Batteries (4-pack)</td>\n",
       "      <td>2</td>\n",
       "      <td>2.99</td>\n",
       "      <td>2019-09-16 00:25:00</td>\n",
       "      <td>241 Highland St, Atlanta, GA 30301</td>\n",
       "      <td>9</td>\n",
       "      <td>5.98</td>\n",
       "      <td>Atlanta</td>\n",
       "      <td>Wired Headphones,AAA Batteries (4-pack)</td>\n",
       "    </tr>\n",
       "    <tr>\n",
       "      <th>14126</th>\n",
       "      <td>259350</td>\n",
       "      <td>Google Phone</td>\n",
       "      <td>1</td>\n",
       "      <td>600.00</td>\n",
       "      <td>2019-09-30 13:49:00</td>\n",
       "      <td>519 Maple St, San Francisco, CA 94016</td>\n",
       "      <td>9</td>\n",
       "      <td>600.00</td>\n",
       "      <td>San Francisco</td>\n",
       "      <td>Google Phone,USB-C Charging Cable</td>\n",
       "    </tr>\n",
       "    <tr>\n",
       "      <th>14127</th>\n",
       "      <td>259350</td>\n",
       "      <td>USB-C Charging Cable</td>\n",
       "      <td>1</td>\n",
       "      <td>11.95</td>\n",
       "      <td>2019-09-30 13:49:00</td>\n",
       "      <td>519 Maple St, San Francisco, CA 94016</td>\n",
       "      <td>9</td>\n",
       "      <td>11.95</td>\n",
       "      <td>San Francisco</td>\n",
       "      <td>Google Phone,USB-C Charging Cable</td>\n",
       "    </tr>\n",
       "  </tbody>\n",
       "</table>\n",
       "<p>14128 rows × 10 columns</p>\n",
       "</div>"
      ],
      "text/plain": [
       "      Order ID                 Product  Quantity Ordered  Price Each  \\\n",
       "0       176560            Google Phone                 1      600.00   \n",
       "1       176560        Wired Headphones                 1       11.99   \n",
       "2       176574            Google Phone                 1      600.00   \n",
       "3       176574    USB-C Charging Cable                 1       11.95   \n",
       "4       176586  AAA Batteries (4-pack)                 2        2.99   \n",
       "...        ...                     ...               ...         ...   \n",
       "14123   259303   AA Batteries (4-pack)                 1        3.84   \n",
       "14124   259314        Wired Headphones                 1       11.99   \n",
       "14125   259314  AAA Batteries (4-pack)                 2        2.99   \n",
       "14126   259350            Google Phone                 1      600.00   \n",
       "14127   259350    USB-C Charging Cable                 1       11.95   \n",
       "\n",
       "               Order Date                        Purchase Address  Month  \\\n",
       "0     2019-04-12 14:38:00    669 Spruce St, Los Angeles, CA 90001      4   \n",
       "1     2019-04-12 14:38:00    669 Spruce St, Los Angeles, CA 90001      4   \n",
       "2     2019-04-03 19:42:00       20 Hill St, Los Angeles, CA 90001      4   \n",
       "3     2019-04-03 19:42:00       20 Hill St, Los Angeles, CA 90001      4   \n",
       "4     2019-04-10 17:00:00  365 Center St, San Francisco, CA 94016      4   \n",
       "...                   ...                                     ...    ...   \n",
       "14123 2019-09-20 20:18:00           106 7th St, Atlanta, GA 30301      9   \n",
       "14124 2019-09-16 00:25:00      241 Highland St, Atlanta, GA 30301      9   \n",
       "14125 2019-09-16 00:25:00      241 Highland St, Atlanta, GA 30301      9   \n",
       "14126 2019-09-30 13:49:00   519 Maple St, San Francisco, CA 94016      9   \n",
       "14127 2019-09-30 13:49:00   519 Maple St, San Francisco, CA 94016      9   \n",
       "\n",
       "        Sales           City                              Grouped Products  \n",
       "0      600.00    Los Angeles                 Google Phone,Wired Headphones  \n",
       "1       11.99    Los Angeles                 Google Phone,Wired Headphones  \n",
       "2      600.00    Los Angeles             Google Phone,USB-C Charging Cable  \n",
       "3       11.95    Los Angeles             Google Phone,USB-C Charging Cable  \n",
       "4        5.98  San Francisco           AAA Batteries (4-pack),Google Phone  \n",
       "...       ...            ...                                           ...  \n",
       "14123    3.84        Atlanta  34in Ultrawide Monitor,AA Batteries (4-pack)  \n",
       "14124   11.99        Atlanta       Wired Headphones,AAA Batteries (4-pack)  \n",
       "14125    5.98        Atlanta       Wired Headphones,AAA Batteries (4-pack)  \n",
       "14126  600.00  San Francisco             Google Phone,USB-C Charging Cable  \n",
       "14127   11.95  San Francisco             Google Phone,USB-C Charging Cable  \n",
       "\n",
       "[14128 rows x 10 columns]"
      ]
     },
     "execution_count": 31,
     "metadata": {},
     "output_type": "execute_result"
    }
   ],
   "source": [
    "# Merge grouped products back to the dataframe\n",
    "dup_products_df = multi_order_df.merge(multi_products_df, how='left', on='Order ID')\n",
    "dup_products_df"
   ]
  },
  {
   "cell_type": "code",
   "execution_count": null,
   "metadata": {},
   "outputs": [
    {
     "data": {
      "application/vnd.microsoft.datawrangler.viewer.v0+json": {
       "columns": [
        {
         "name": "index",
         "rawType": "int64",
         "type": "integer"
        },
        {
         "name": "Order ID",
         "rawType": "object",
         "type": "string"
        },
        {
         "name": "Product",
         "rawType": "object",
         "type": "string"
        },
        {
         "name": "Quantity Ordered",
         "rawType": "int64",
         "type": "integer"
        },
        {
         "name": "Price Each",
         "rawType": "float64",
         "type": "float"
        },
        {
         "name": "Order Date",
         "rawType": "datetime64[ns]",
         "type": "datetime"
        },
        {
         "name": "Purchase Address",
         "rawType": "object",
         "type": "string"
        },
        {
         "name": "Month",
         "rawType": "int32",
         "type": "integer"
        },
        {
         "name": "Sales",
         "rawType": "float64",
         "type": "float"
        },
        {
         "name": "City",
         "rawType": "object",
         "type": "string"
        },
        {
         "name": "Grouped Products",
         "rawType": "object",
         "type": "string"
        }
       ],
       "ref": "83bca9ba-0553-4083-9f53-28dd8cf0933a",
       "rows": [
        [
         "0",
         "176560",
         "Google Phone",
         "1",
         "600.0",
         "2019-04-12 14:38:00",
         "669 Spruce St, Los Angeles, CA 90001",
         "4",
         "600.0",
         "Los Angeles",
         "Google Phone,Wired Headphones"
        ],
        [
         "2",
         "176574",
         "Google Phone",
         "1",
         "600.0",
         "2019-04-03 19:42:00",
         "20 Hill St, Los Angeles, CA 90001",
         "4",
         "600.0",
         "Los Angeles",
         "Google Phone,USB-C Charging Cable"
        ],
        [
         "4",
         "176586",
         "AAA Batteries (4-pack)",
         "2",
         "2.99",
         "2019-04-10 17:00:00",
         "365 Center St, San Francisco, CA 94016",
         "4",
         "5.98",
         "San Francisco",
         "AAA Batteries (4-pack),Google Phone"
        ],
        [
         "6",
         "176672",
         "Lightning Charging Cable",
         "1",
         "14.95",
         "2019-04-12 11:07:00",
         "778 Maple St, New York City, NY 10001",
         "4",
         "14.95",
         "New York City",
         "Lightning Charging Cable,USB-C Charging Cable"
        ],
        [
         "8",
         "176681",
         "Apple Airpods Headphones",
         "1",
         "150.0",
         "2019-04-20 10:39:00",
         "331 Cherry St, Seattle, WA 98101",
         "4",
         "150.0",
         "Seattle",
         "Apple Airpods Headphones,ThinkPad Laptop"
        ],
        [
         "10",
         "176689",
         "Bose SoundSport Headphones",
         "1",
         "99.99",
         "2019-04-24 17:15:00",
         "659 Lincoln St, New York City, NY 10001",
         "4",
         "99.99",
         "New York City",
         "Bose SoundSport Headphones,AAA Batteries (4-pack)"
        ],
        [
         "12",
         "176739",
         "34in Ultrawide Monitor",
         "1",
         "379.99",
         "2019-04-05 17:38:00",
         "730 6th St, Austin, TX 73301",
         "4",
         "379.99",
         "Austin",
         "34in Ultrawide Monitor,Google Phone"
        ],
        [
         "14",
         "176774",
         "Lightning Charging Cable",
         "1",
         "14.95",
         "2019-04-25 15:06:00",
         "372 Church St, Los Angeles, CA 90001",
         "4",
         "14.95",
         "Los Angeles",
         "Lightning Charging Cable,USB-C Charging Cable"
        ],
        [
         "16",
         "176781",
         "iPhone",
         "1",
         "700.0",
         "2019-04-03 07:37:00",
         "976 Hickory St, Dallas, TX 75001",
         "4",
         "700.0",
         "Dallas",
         "iPhone,Lightning Charging Cable"
        ],
        [
         "18",
         "176797",
         "Google Phone",
         "1",
         "600.0",
         "2019-04-21 08:54:00",
         "923 Elm St, Los Angeles, CA 90001",
         "4",
         "600.0",
         "Los Angeles",
         "Google Phone,Bose SoundSport Headphones,Wired Headphones"
        ],
        [
         "21",
         "176805",
         "Google Phone",
         "1",
         "600.0",
         "2019-04-01 15:50:00",
         "91 Lincoln St, Portland, OR 97035",
         "4",
         "600.0",
         "Portland",
         "Google Phone,USB-C Charging Cable"
        ],
        [
         "23",
         "176808",
         "Google Phone",
         "1",
         "600.0",
         "2019-04-28 18:03:00",
         "933 Meadow St, San Francisco, CA 94016",
         "4",
         "600.0",
         "San Francisco",
         "Google Phone,Wired Headphones"
        ],
        [
         "25",
         "176813",
         "Google Phone",
         "1",
         "600.0",
         "2019-04-28 18:01:00",
         "269 Hill St, Atlanta, GA 30301",
         "4",
         "600.0",
         "Atlanta",
         "Google Phone,Wired Headphones"
        ],
        [
         "27",
         "176935",
         "AAA Batteries (4-pack)",
         "1",
         "2.99",
         "2019-04-03 21:31:00",
         "315 1st St, Dallas, TX 75001",
         "4",
         "2.99",
         "Dallas",
         "AAA Batteries (4-pack),27in FHD Monitor"
        ],
        [
         "29",
         "176975",
         "USB-C Charging Cable",
         "1",
         "11.95",
         "2019-04-23 15:46:00",
         "28 13th St, San Francisco, CA 94016",
         "4",
         "11.95",
         "San Francisco",
         "USB-C Charging Cable,AAA Batteries (4-pack)"
        ],
        [
         "31",
         "176989",
         "Google Phone",
         "1",
         "600.0",
         "2019-04-09 13:43:00",
         "346 9th St, Los Angeles, CA 90001",
         "4",
         "600.0",
         "Los Angeles",
         "Google Phone,USB-C Charging Cable"
        ],
        [
         "33",
         "176993",
         "iPhone",
         "1",
         "700.0",
         "2019-04-07 09:43:00",
         "28 South St, Los Angeles, CA 90001",
         "4",
         "700.0",
         "Los Angeles",
         "iPhone,Wired Headphones"
        ],
        [
         "35",
         "177022",
         "iPhone",
         "1",
         "700.0",
         "2019-04-17 18:14:00",
         "216 Chestnut St, Los Angeles, CA 90001",
         "4",
         "700.0",
         "Los Angeles",
         "iPhone,Wired Headphones"
        ],
        [
         "37",
         "177102",
         "iPhone",
         "1",
         "700.0",
         "2019-04-24 05:19:00",
         "542 Center St, New York City, NY 10001",
         "4",
         "700.0",
         "New York City",
         "iPhone,27in 4K Gaming Monitor"
        ],
        [
         "39",
         "177115",
         "iPhone",
         "1",
         "700.0",
         "2019-04-19 19:10:00",
         "71 6th St, San Francisco, CA 94016",
         "4",
         "700.0",
         "San Francisco",
         "iPhone,Lightning Charging Cable"
        ],
        [
         "41",
         "177117",
         "ThinkPad Laptop",
         "1",
         "999.99",
         "2019-04-16 19:34:00",
         "564 Hill St, San Francisco, CA 94016",
         "4",
         "999.99",
         "San Francisco",
         "ThinkPad Laptop,AAA Batteries (4-pack)"
        ],
        [
         "43",
         "177167",
         "iPhone",
         "1",
         "700.0",
         "2019-04-28 16:40:00",
         "39 Lakeview St, Boston, MA 02215",
         "4",
         "700.0",
         "Boston",
         "iPhone,Apple Airpods Headphones,AAA Batteries (4-pack)"
        ],
        [
         "46",
         "177178",
         "iPhone",
         "1",
         "700.0",
         "2019-04-07 00:02:00",
         "342 Dogwood St, Seattle, WA 98101",
         "4",
         "700.0",
         "Seattle",
         "iPhone,Lightning Charging Cable"
        ],
        [
         "48",
         "177181",
         "Wired Headphones",
         "1",
         "11.99",
         "2019-04-09 00:49:00",
         "309 8th St, Los Angeles, CA 90001",
         "4",
         "11.99",
         "Los Angeles",
         "Wired Headphones,Apple Airpods Headphones"
        ],
        [
         "50",
         "177182",
         "Macbook Pro Laptop",
         "1",
         "1700.0",
         "2019-04-10 22:00:00",
         "332 10th St, Los Angeles, CA 90001",
         "4",
         "1700.0",
         "Los Angeles",
         "Macbook Pro Laptop,ThinkPad Laptop"
        ],
        [
         "52",
         "177184",
         "AA Batteries (4-pack)",
         "1",
         "3.84",
         "2019-04-01 16:49:00",
         "289 Hill St, Atlanta, GA 30301",
         "4",
         "3.84",
         "Atlanta",
         "AA Batteries (4-pack),Flatscreen TV"
        ],
        [
         "54",
         "177198",
         "Vareebadd Phone",
         "1",
         "400.0",
         "2019-04-06 16:07:00",
         "154 6th St, New York City, NY 10001",
         "4",
         "400.0",
         "New York City",
         "Vareebadd Phone,USB-C Charging Cable"
        ],
        [
         "56",
         "177201",
         "USB-C Charging Cable",
         "1",
         "11.95",
         "2019-04-26 16:13:00",
         "505 River St, Los Angeles, CA 90001",
         "4",
         "11.95",
         "Los Angeles",
         "USB-C Charging Cable,Lightning Charging Cable"
        ],
        [
         "58",
         "177213",
         "iPhone",
         "1",
         "700.0",
         "2019-04-25 10:04:00",
         "756 Lincoln St, Dallas, TX 75001",
         "4",
         "700.0",
         "Dallas",
         "iPhone,Lightning Charging Cable"
        ],
        [
         "60",
         "177228",
         "Google Phone",
         "1",
         "600.0",
         "2019-04-17 19:38:00",
         "233 South St, Dallas, TX 75001",
         "4",
         "600.0",
         "Dallas",
         "Google Phone,AA Batteries (4-pack)"
        ],
        [
         "62",
         "177254",
         "AA Batteries (4-pack)",
         "1",
         "3.84",
         "2019-04-21 02:12:00",
         "689 Cherry St, Boston, MA 02215",
         "4",
         "3.84",
         "Boston",
         "AA Batteries (4-pack),AAA Batteries (4-pack)"
        ],
        [
         "64",
         "177256",
         "Bose SoundSport Headphones",
         "1",
         "99.99",
         "2019-04-28 21:34:00",
         "789 11th St, San Francisco, CA 94016",
         "4",
         "99.99",
         "San Francisco",
         "Bose SoundSport Headphones,AA Batteries (4-pack)"
        ],
        [
         "66",
         "177300",
         "20in Monitor",
         "1",
         "109.99",
         "2019-04-03 21:33:00",
         "276 Lincoln St, Los Angeles, CA 90001",
         "4",
         "109.99",
         "Los Angeles",
         "20in Monitor,Apple Airpods Headphones"
        ],
        [
         "68",
         "177367",
         "Google Phone",
         "1",
         "600.0",
         "2019-04-05 07:52:00",
         "141 Chestnut St, San Francisco, CA 94016",
         "4",
         "600.0",
         "San Francisco",
         "Google Phone,USB-C Charging Cable,Bose SoundSport Headphones"
        ],
        [
         "71",
         "177398",
         "27in FHD Monitor",
         "1",
         "149.99",
         "2019-04-13 21:54:00",
         "640 8th St, Los Angeles, CA 90001",
         "4",
         "149.99",
         "Los Angeles",
         "27in FHD Monitor,AAA Batteries (4-pack)"
        ],
        [
         "73",
         "177428",
         "Vareebadd Phone",
         "1",
         "400.0",
         "2019-04-15 08:19:00",
         "481 Jefferson St, Boston, MA 02215",
         "4",
         "400.0",
         "Boston",
         "Vareebadd Phone,USB-C Charging Cable"
        ],
        [
         "75",
         "177441",
         "iPhone",
         "1",
         "700.0",
         "2019-04-16 14:38:00",
         "559 Elm St, Dallas, TX 75001",
         "4",
         "700.0",
         "Dallas",
         "iPhone,Lightning Charging Cable"
        ],
        [
         "77",
         "177443",
         "Apple Airpods Headphones",
         "1",
         "150.0",
         "2019-04-21 16:42:00",
         "23 9th St, Dallas, TX 75001",
         "4",
         "150.0",
         "Dallas",
         "Apple Airpods Headphones,27in 4K Gaming Monitor"
        ],
        [
         "79",
         "177448",
         "Google Phone",
         "1",
         "600.0",
         "2019-04-24 19:38:00",
         "915 Forest St, Los Angeles, CA 90001",
         "4",
         "600.0",
         "Los Angeles",
         "Google Phone,USB-C Charging Cable"
        ],
        [
         "81",
         "177486",
         "ThinkPad Laptop",
         "1",
         "999.99",
         "2019-04-21 16:24:00",
         "809 Highland St, Seattle, WA 98101",
         "4",
         "999.99",
         "Seattle",
         "ThinkPad Laptop,Google Phone"
        ],
        [
         "83",
         "177504",
         "Google Phone",
         "1",
         "600.0",
         "2019-04-10 14:39:00",
         "19 Cedar St, Boston, MA 02215",
         "4",
         "600.0",
         "Boston",
         "Google Phone,USB-C Charging Cable"
        ],
        [
         "85",
         "177506",
         "iPhone",
         "1",
         "700.0",
         "2019-04-02 07:46:00",
         "656 Pine St, Los Angeles, CA 90001",
         "4",
         "700.0",
         "Los Angeles",
         "iPhone,Apple Airpods Headphones"
        ],
        [
         "87",
         "177511",
         "iPhone",
         "1",
         "700.0",
         "2019-04-07 17:38:00",
         "719 North St, Los Angeles, CA 90001",
         "4",
         "700.0",
         "Los Angeles",
         "iPhone,Lightning Charging Cable"
        ],
        [
         "89",
         "177569",
         "Wired Headphones",
         "1",
         "11.99",
         "2019-04-27 10:31:00",
         "994 7th St, Los Angeles, CA 90001",
         "4",
         "11.99",
         "Los Angeles",
         "Wired Headphones,Google Phone"
        ],
        [
         "91",
         "177578",
         "Google Phone",
         "1",
         "600.0",
         "2019-04-28 22:51:00",
         "752 Park St, Dallas, TX 75001",
         "4",
         "600.0",
         "Dallas",
         "Google Phone,USB-C Charging Cable"
        ],
        [
         "93",
         "177582",
         "Bose SoundSport Headphones",
         "1",
         "99.99",
         "2019-04-16 17:19:00",
         "707 9th St, Dallas, TX 75001",
         "4",
         "99.99",
         "Dallas",
         "Bose SoundSport Headphones,Wired Headphones"
        ],
        [
         "95",
         "177592",
         "iPhone",
         "1",
         "700.0",
         "2019-04-19 11:10:00",
         "448 Maple St, San Francisco, CA 94016",
         "4",
         "700.0",
         "San Francisco",
         "iPhone,Lightning Charging Cable"
        ],
        [
         "97",
         "177638",
         "Apple Airpods Headphones",
         "1",
         "150.0",
         "2019-04-04 12:44:00",
         "261 Center St, Portland, OR 97035",
         "4",
         "150.0",
         "Portland",
         "Apple Airpods Headphones,Google Phone"
        ],
        [
         "99",
         "177681",
         "AAA Batteries (4-pack)",
         "1",
         "2.99",
         "2019-04-01 14:07:00",
         "259 7th St, Dallas, TX 75001",
         "4",
         "2.99",
         "Dallas",
         "AAA Batteries (4-pack),Macbook Pro Laptop"
        ],
        [
         "101",
         "177719",
         "Google Phone",
         "1",
         "600.0",
         "2019-04-18 23:41:00",
         "533 Adams St, Los Angeles, CA 90001",
         "4",
         "600.0",
         "Los Angeles",
         "Google Phone,USB-C Charging Cable"
        ]
       ],
       "shape": {
        "columns": 10,
        "rows": 6879
       }
      },
      "text/html": [
       "<div>\n",
       "<style scoped>\n",
       "    .dataframe tbody tr th:only-of-type {\n",
       "        vertical-align: middle;\n",
       "    }\n",
       "\n",
       "    .dataframe tbody tr th {\n",
       "        vertical-align: top;\n",
       "    }\n",
       "\n",
       "    .dataframe thead th {\n",
       "        text-align: right;\n",
       "    }\n",
       "</style>\n",
       "<table border=\"1\" class=\"dataframe\">\n",
       "  <thead>\n",
       "    <tr style=\"text-align: right;\">\n",
       "      <th></th>\n",
       "      <th>Order ID</th>\n",
       "      <th>Product</th>\n",
       "      <th>Quantity Ordered</th>\n",
       "      <th>Price Each</th>\n",
       "      <th>Order Date</th>\n",
       "      <th>Purchase Address</th>\n",
       "      <th>Month</th>\n",
       "      <th>Sales</th>\n",
       "      <th>City</th>\n",
       "      <th>Grouped Products</th>\n",
       "    </tr>\n",
       "  </thead>\n",
       "  <tbody>\n",
       "    <tr>\n",
       "      <th>0</th>\n",
       "      <td>176560</td>\n",
       "      <td>Google Phone</td>\n",
       "      <td>1</td>\n",
       "      <td>600.00</td>\n",
       "      <td>2019-04-12 14:38:00</td>\n",
       "      <td>669 Spruce St, Los Angeles, CA 90001</td>\n",
       "      <td>4</td>\n",
       "      <td>600.00</td>\n",
       "      <td>Los Angeles</td>\n",
       "      <td>Google Phone,Wired Headphones</td>\n",
       "    </tr>\n",
       "    <tr>\n",
       "      <th>2</th>\n",
       "      <td>176574</td>\n",
       "      <td>Google Phone</td>\n",
       "      <td>1</td>\n",
       "      <td>600.00</td>\n",
       "      <td>2019-04-03 19:42:00</td>\n",
       "      <td>20 Hill St, Los Angeles, CA 90001</td>\n",
       "      <td>4</td>\n",
       "      <td>600.00</td>\n",
       "      <td>Los Angeles</td>\n",
       "      <td>Google Phone,USB-C Charging Cable</td>\n",
       "    </tr>\n",
       "    <tr>\n",
       "      <th>4</th>\n",
       "      <td>176586</td>\n",
       "      <td>AAA Batteries (4-pack)</td>\n",
       "      <td>2</td>\n",
       "      <td>2.99</td>\n",
       "      <td>2019-04-10 17:00:00</td>\n",
       "      <td>365 Center St, San Francisco, CA 94016</td>\n",
       "      <td>4</td>\n",
       "      <td>5.98</td>\n",
       "      <td>San Francisco</td>\n",
       "      <td>AAA Batteries (4-pack),Google Phone</td>\n",
       "    </tr>\n",
       "    <tr>\n",
       "      <th>6</th>\n",
       "      <td>176672</td>\n",
       "      <td>Lightning Charging Cable</td>\n",
       "      <td>1</td>\n",
       "      <td>14.95</td>\n",
       "      <td>2019-04-12 11:07:00</td>\n",
       "      <td>778 Maple St, New York City, NY 10001</td>\n",
       "      <td>4</td>\n",
       "      <td>14.95</td>\n",
       "      <td>New York City</td>\n",
       "      <td>Lightning Charging Cable,USB-C Charging Cable</td>\n",
       "    </tr>\n",
       "    <tr>\n",
       "      <th>8</th>\n",
       "      <td>176681</td>\n",
       "      <td>Apple Airpods Headphones</td>\n",
       "      <td>1</td>\n",
       "      <td>150.00</td>\n",
       "      <td>2019-04-20 10:39:00</td>\n",
       "      <td>331 Cherry St, Seattle, WA 98101</td>\n",
       "      <td>4</td>\n",
       "      <td>150.00</td>\n",
       "      <td>Seattle</td>\n",
       "      <td>Apple Airpods Headphones,ThinkPad Laptop</td>\n",
       "    </tr>\n",
       "    <tr>\n",
       "      <th>...</th>\n",
       "      <td>...</td>\n",
       "      <td>...</td>\n",
       "      <td>...</td>\n",
       "      <td>...</td>\n",
       "      <td>...</td>\n",
       "      <td>...</td>\n",
       "      <td>...</td>\n",
       "      <td>...</td>\n",
       "      <td>...</td>\n",
       "      <td>...</td>\n",
       "    </tr>\n",
       "    <tr>\n",
       "      <th>14118</th>\n",
       "      <td>259277</td>\n",
       "      <td>iPhone</td>\n",
       "      <td>1</td>\n",
       "      <td>700.00</td>\n",
       "      <td>2019-09-28 13:07:00</td>\n",
       "      <td>795 Willow St, New York City, NY 10001</td>\n",
       "      <td>9</td>\n",
       "      <td>700.00</td>\n",
       "      <td>New York City</td>\n",
       "      <td>iPhone,Wired Headphones</td>\n",
       "    </tr>\n",
       "    <tr>\n",
       "      <th>14120</th>\n",
       "      <td>259297</td>\n",
       "      <td>iPhone</td>\n",
       "      <td>1</td>\n",
       "      <td>700.00</td>\n",
       "      <td>2019-09-15 18:54:00</td>\n",
       "      <td>138 Main St, Boston, MA 02215</td>\n",
       "      <td>9</td>\n",
       "      <td>700.00</td>\n",
       "      <td>Boston</td>\n",
       "      <td>iPhone,Lightning Charging Cable</td>\n",
       "    </tr>\n",
       "    <tr>\n",
       "      <th>14122</th>\n",
       "      <td>259303</td>\n",
       "      <td>34in Ultrawide Monitor</td>\n",
       "      <td>1</td>\n",
       "      <td>379.99</td>\n",
       "      <td>2019-09-20 20:18:00</td>\n",
       "      <td>106 7th St, Atlanta, GA 30301</td>\n",
       "      <td>9</td>\n",
       "      <td>379.99</td>\n",
       "      <td>Atlanta</td>\n",
       "      <td>34in Ultrawide Monitor,AA Batteries (4-pack)</td>\n",
       "    </tr>\n",
       "    <tr>\n",
       "      <th>14124</th>\n",
       "      <td>259314</td>\n",
       "      <td>Wired Headphones</td>\n",
       "      <td>1</td>\n",
       "      <td>11.99</td>\n",
       "      <td>2019-09-16 00:25:00</td>\n",
       "      <td>241 Highland St, Atlanta, GA 30301</td>\n",
       "      <td>9</td>\n",
       "      <td>11.99</td>\n",
       "      <td>Atlanta</td>\n",
       "      <td>Wired Headphones,AAA Batteries (4-pack)</td>\n",
       "    </tr>\n",
       "    <tr>\n",
       "      <th>14126</th>\n",
       "      <td>259350</td>\n",
       "      <td>Google Phone</td>\n",
       "      <td>1</td>\n",
       "      <td>600.00</td>\n",
       "      <td>2019-09-30 13:49:00</td>\n",
       "      <td>519 Maple St, San Francisco, CA 94016</td>\n",
       "      <td>9</td>\n",
       "      <td>600.00</td>\n",
       "      <td>San Francisco</td>\n",
       "      <td>Google Phone,USB-C Charging Cable</td>\n",
       "    </tr>\n",
       "  </tbody>\n",
       "</table>\n",
       "<p>6879 rows × 10 columns</p>\n",
       "</div>"
      ],
      "text/plain": [
       "      Order ID                   Product  Quantity Ordered  Price Each  \\\n",
       "0       176560              Google Phone                 1      600.00   \n",
       "2       176574              Google Phone                 1      600.00   \n",
       "4       176586    AAA Batteries (4-pack)                 2        2.99   \n",
       "6       176672  Lightning Charging Cable                 1       14.95   \n",
       "8       176681  Apple Airpods Headphones                 1      150.00   \n",
       "...        ...                       ...               ...         ...   \n",
       "14118   259277                    iPhone                 1      700.00   \n",
       "14120   259297                    iPhone                 1      700.00   \n",
       "14122   259303    34in Ultrawide Monitor                 1      379.99   \n",
       "14124   259314          Wired Headphones                 1       11.99   \n",
       "14126   259350              Google Phone                 1      600.00   \n",
       "\n",
       "               Order Date                        Purchase Address  Month  \\\n",
       "0     2019-04-12 14:38:00    669 Spruce St, Los Angeles, CA 90001      4   \n",
       "2     2019-04-03 19:42:00       20 Hill St, Los Angeles, CA 90001      4   \n",
       "4     2019-04-10 17:00:00  365 Center St, San Francisco, CA 94016      4   \n",
       "6     2019-04-12 11:07:00   778 Maple St, New York City, NY 10001      4   \n",
       "8     2019-04-20 10:39:00        331 Cherry St, Seattle, WA 98101      4   \n",
       "...                   ...                                     ...    ...   \n",
       "14118 2019-09-28 13:07:00  795 Willow St, New York City, NY 10001      9   \n",
       "14120 2019-09-15 18:54:00           138 Main St, Boston, MA 02215      9   \n",
       "14122 2019-09-20 20:18:00           106 7th St, Atlanta, GA 30301      9   \n",
       "14124 2019-09-16 00:25:00      241 Highland St, Atlanta, GA 30301      9   \n",
       "14126 2019-09-30 13:49:00   519 Maple St, San Francisco, CA 94016      9   \n",
       "\n",
       "        Sales           City                               Grouped Products  \n",
       "0      600.00    Los Angeles                  Google Phone,Wired Headphones  \n",
       "2      600.00    Los Angeles              Google Phone,USB-C Charging Cable  \n",
       "4        5.98  San Francisco            AAA Batteries (4-pack),Google Phone  \n",
       "6       14.95  New York City  Lightning Charging Cable,USB-C Charging Cable  \n",
       "8      150.00        Seattle       Apple Airpods Headphones,ThinkPad Laptop  \n",
       "...       ...            ...                                            ...  \n",
       "14118  700.00  New York City                        iPhone,Wired Headphones  \n",
       "14120  700.00         Boston                iPhone,Lightning Charging Cable  \n",
       "14122  379.99        Atlanta   34in Ultrawide Monitor,AA Batteries (4-pack)  \n",
       "14124   11.99        Atlanta        Wired Headphones,AAA Batteries (4-pack)  \n",
       "14126  600.00  San Francisco              Google Phone,USB-C Charging Cable  \n",
       "\n",
       "[6879 rows x 10 columns]"
      ]
     },
     "execution_count": 32,
     "metadata": {},
     "output_type": "execute_result"
    }
   ],
   "source": [
    "# Remove duplicate \"Order ID\" entries to get unique orders with grouped products\n",
    "no_dup_df = dup_products_df.drop_duplicates(subset=['Order ID'])\n",
    "no_dup_df"
   ]
  },
  {
   "cell_type": "code",
   "execution_count": null,
   "metadata": {},
   "outputs": [
    {
     "data": {
      "application/vnd.microsoft.datawrangler.viewer.v0+json": {
       "columns": [
        {
         "name": "Grouped Products",
         "rawType": "object",
         "type": "string"
        },
        {
         "name": "count",
         "rawType": "int64",
         "type": "integer"
        }
       ],
       "ref": "6729a8a6-0edb-4b90-ad01-c65cc67e9c3f",
       "rows": [
        [
         "iPhone,Lightning Charging Cable",
         "886"
        ],
        [
         "Google Phone,USB-C Charging Cable",
         "857"
        ],
        [
         "iPhone,Wired Headphones",
         "361"
        ],
        [
         "Vareebadd Phone,USB-C Charging Cable",
         "312"
        ],
        [
         "Google Phone,Wired Headphones",
         "303"
        ],
        [
         "iPhone,Apple Airpods Headphones",
         "286"
        ],
        [
         "Google Phone,Bose SoundSport Headphones",
         "161"
        ],
        [
         "Vareebadd Phone,Wired Headphones",
         "104"
        ],
        [
         "Google Phone,USB-C Charging Cable,Wired Headphones",
         "79"
        ],
        [
         "Vareebadd Phone,Bose SoundSport Headphones",
         "60"
        ]
       ],
       "shape": {
        "columns": 1,
        "rows": 10
       }
      },
      "text/plain": [
       "Grouped Products\n",
       "iPhone,Lightning Charging Cable                       886\n",
       "Google Phone,USB-C Charging Cable                     857\n",
       "iPhone,Wired Headphones                               361\n",
       "Vareebadd Phone,USB-C Charging Cable                  312\n",
       "Google Phone,Wired Headphones                         303\n",
       "iPhone,Apple Airpods Headphones                       286\n",
       "Google Phone,Bose SoundSport Headphones               161\n",
       "Vareebadd Phone,Wired Headphones                      104\n",
       "Google Phone,USB-C Charging Cable,Wired Headphones     79\n",
       "Vareebadd Phone,Bose SoundSport Headphones             60\n",
       "Name: count, dtype: int64"
      ]
     },
     "execution_count": 33,
     "metadata": {},
     "output_type": "execute_result"
    }
   ],
   "source": [
    "# Count the most common product combinations\n",
    "no_dup_df['Grouped Products'].value_counts().head(10)"
   ]
  },
  {
   "cell_type": "code",
   "execution_count": null,
   "metadata": {},
   "outputs": [
    {
     "data": {
      "image/png": "[encoded data removed]",
      "text/plain": [
       "<Figure size 640x480 with 1 Axes>"
      ]
     },
     "metadata": {},
     "output_type": "display_data"
    }
   ],
   "source": [
    "# Plot the most common product combinations\n",
    "no_dup_df['Grouped Products'].value_counts().head(10).plot(kind='pie', autopct='%1.1f%%')\n",
    "plt.show()"
   ]
  }
 ],
 "metadata": {
  "kernelspec": {
   "display_name": "pyenv",
   "language": "python",
   "name": "python3"
  },
  "language_info": {
   "codemirror_mode": {
    "name": "ipython",
    "version": 3
   },
   "file_extension": ".py",
   "mimetype": "text/x-python",
   "name": "python",
   "nbconvert_exporter": "python",
   "pygments_lexer": "ipython3",
   "version": "3.11.13"
  }
 },
 "nbformat": 4,
 "nbformat_minor": 2
}
